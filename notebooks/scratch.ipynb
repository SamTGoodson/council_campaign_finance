{
 "cells": [
  {
   "cell_type": "code",
   "execution_count": 1,
   "metadata": {},
   "outputs": [],
   "source": [
    "import pandas as pd\n",
    "import numpy as np"
   ]
  },
  {
   "cell_type": "code",
   "execution_count": 2,
   "metadata": {},
   "outputs": [],
   "source": [
    "def determine_race(row):\n",
    "    columns_to_check = ['white', 'black', 'api', 'native', 'multiple', 'hispanic']\n",
    "    \n",
    "    values = row[columns_to_check].apply(pd.to_numeric, errors='coerce').fillna(0)\n",
    "    \n",
    "    high_values = values[values > 0.80]\n",
    "    \n",
    "    if not high_values.empty:\n",
    "        return high_values.idxmax()\n",
    "    else:\n",
    "        return np.nan "
   ]
  },
  {
   "cell_type": "code",
   "execution_count": 12,
   "metadata": {},
   "outputs": [
    {
     "name": "stderr",
     "output_type": "stream",
     "text": [
      "C:\\Users\\samtg\\AppData\\Local\\Temp\\ipykernel_25948\\1138471954.py:1: DtypeWarning: Columns (12,21,33,37,38,40,41,42,43,44,45,46,51,54) have mixed types. Specify dtype option on import or set low_memory=False.\n",
      "  cand_geo = pd.read_csv('../data/cleaned/candidates_surgeo.csv')\n"
     ]
    }
   ],
   "source": [
    "cand_geo = pd.read_csv('../data/cleaned/candidates_surgeo.csv')"
   ]
  },
  {
   "cell_type": "code",
   "execution_count": 13,
   "metadata": {},
   "outputs": [],
   "source": [
    "cand_geo = cand_geo[['RECIPNAME','DATE','first_name','last_name','CITY','STATE','ZIP','OCCUPATION','EMPNAME','AMNT', 'white',\n",
    "       'black', 'api', 'native', 'multiple', 'hispanic','REFNO']]\n",
    "cand_geo.columns = cand_geo.columns.str.lower()"
   ]
  },
  {
   "cell_type": "code",
   "execution_count": 5,
   "metadata": {},
   "outputs": [],
   "source": [
    "cand_geo['race'] = cand_geo.apply(determine_race, axis=1)"
   ]
  },
  {
   "cell_type": "code",
   "execution_count": 6,
   "metadata": {},
   "outputs": [
    {
     "data": {
      "text/html": [
       "<div>\n",
       "<style scoped>\n",
       "    .dataframe tbody tr th:only-of-type {\n",
       "        vertical-align: middle;\n",
       "    }\n",
       "\n",
       "    .dataframe tbody tr th {\n",
       "        vertical-align: top;\n",
       "    }\n",
       "\n",
       "    .dataframe thead th {\n",
       "        text-align: right;\n",
       "    }\n",
       "</style>\n",
       "<table border=\"1\" class=\"dataframe\">\n",
       "  <thead>\n",
       "    <tr style=\"text-align: right;\">\n",
       "      <th></th>\n",
       "      <th>recipname</th>\n",
       "      <th>date</th>\n",
       "      <th>first_name</th>\n",
       "      <th>last_name</th>\n",
       "      <th>city</th>\n",
       "      <th>state</th>\n",
       "      <th>zip</th>\n",
       "      <th>occupation</th>\n",
       "      <th>empname</th>\n",
       "      <th>amnt</th>\n",
       "      <th>white</th>\n",
       "      <th>black</th>\n",
       "      <th>api</th>\n",
       "      <th>native</th>\n",
       "      <th>multiple</th>\n",
       "      <th>hispanic</th>\n",
       "      <th>refno</th>\n",
       "      <th>race</th>\n",
       "    </tr>\n",
       "  </thead>\n",
       "  <tbody>\n",
       "    <tr>\n",
       "      <th>0</th>\n",
       "      <td>Abreu, Adolfo</td>\n",
       "      <td>10/1/2020</td>\n",
       "      <td>Lara</td>\n",
       "      <td>Abiona</td>\n",
       "      <td>Cherry Hill</td>\n",
       "      <td>NJ</td>\n",
       "      <td>08003</td>\n",
       "      <td>Student</td>\n",
       "      <td>NaN</td>\n",
       "      <td>10.0</td>\n",
       "      <td>NaN</td>\n",
       "      <td>NaN</td>\n",
       "      <td>NaN</td>\n",
       "      <td>NaN</td>\n",
       "      <td>NaN</td>\n",
       "      <td>NaN</td>\n",
       "      <td>R0001855</td>\n",
       "      <td>NaN</td>\n",
       "    </tr>\n",
       "    <tr>\n",
       "      <th>1</th>\n",
       "      <td>Abreu, Adolfo</td>\n",
       "      <td>1/11/2021</td>\n",
       "      <td>Benjamin</td>\n",
       "      <td>Abrams</td>\n",
       "      <td>Brooklyn</td>\n",
       "      <td>NY</td>\n",
       "      <td>11226</td>\n",
       "      <td>Unemployed</td>\n",
       "      <td>NaN</td>\n",
       "      <td>10.0</td>\n",
       "      <td>0.106055</td>\n",
       "      <td>0.843409</td>\n",
       "      <td>0.001083</td>\n",
       "      <td>0.00172</td>\n",
       "      <td>0.02252</td>\n",
       "      <td>0.025213</td>\n",
       "      <td>R0003932</td>\n",
       "      <td>black</td>\n",
       "    </tr>\n",
       "    <tr>\n",
       "      <th>2</th>\n",
       "      <td>Abreu, Adolfo</td>\n",
       "      <td>8/12/2020</td>\n",
       "      <td>Adolfo</td>\n",
       "      <td>Abreu</td>\n",
       "      <td>The Bronx</td>\n",
       "      <td>NY</td>\n",
       "      <td>10468</td>\n",
       "      <td>Organizing Director</td>\n",
       "      <td>Northwest Bronx Community and</td>\n",
       "      <td>850.0</td>\n",
       "      <td>0.000060</td>\n",
       "      <td>0.000075</td>\n",
       "      <td>0.000037</td>\n",
       "      <td>0.00000</td>\n",
       "      <td>0.00000</td>\n",
       "      <td>0.999829</td>\n",
       "      <td>R0000076</td>\n",
       "      <td>hispanic</td>\n",
       "    </tr>\n",
       "    <tr>\n",
       "      <th>3</th>\n",
       "      <td>Abreu, Adolfo</td>\n",
       "      <td>8/10/2020</td>\n",
       "      <td>Adolfo</td>\n",
       "      <td>Abreu</td>\n",
       "      <td>The Bronx</td>\n",
       "      <td>NY</td>\n",
       "      <td>10468</td>\n",
       "      <td>Organizing Director</td>\n",
       "      <td>Northwest Bronx Community and</td>\n",
       "      <td>100.0</td>\n",
       "      <td>0.000060</td>\n",
       "      <td>0.000075</td>\n",
       "      <td>0.000037</td>\n",
       "      <td>0.00000</td>\n",
       "      <td>0.00000</td>\n",
       "      <td>0.999829</td>\n",
       "      <td>R0000086</td>\n",
       "      <td>hispanic</td>\n",
       "    </tr>\n",
       "    <tr>\n",
       "      <th>4</th>\n",
       "      <td>Abreu, Adolfo</td>\n",
       "      <td>8/13/2020</td>\n",
       "      <td>Adolfo</td>\n",
       "      <td>Abreu</td>\n",
       "      <td>The Bronx</td>\n",
       "      <td>NY</td>\n",
       "      <td>10468</td>\n",
       "      <td>Organizing Director</td>\n",
       "      <td>Northwest Bronx Community and</td>\n",
       "      <td>50.0</td>\n",
       "      <td>0.000060</td>\n",
       "      <td>0.000075</td>\n",
       "      <td>0.000037</td>\n",
       "      <td>0.00000</td>\n",
       "      <td>0.00000</td>\n",
       "      <td>0.999829</td>\n",
       "      <td>R0000119</td>\n",
       "      <td>hispanic</td>\n",
       "    </tr>\n",
       "  </tbody>\n",
       "</table>\n",
       "</div>"
      ],
      "text/plain": [
       "       recipname       date first_name last_name         city state    zip  \\\n",
       "0  Abreu, Adolfo  10/1/2020       Lara    Abiona  Cherry Hill    NJ  08003   \n",
       "1  Abreu, Adolfo  1/11/2021   Benjamin    Abrams     Brooklyn    NY  11226   \n",
       "2  Abreu, Adolfo  8/12/2020     Adolfo     Abreu    The Bronx    NY  10468   \n",
       "3  Abreu, Adolfo  8/10/2020     Adolfo     Abreu    The Bronx    NY  10468   \n",
       "4  Abreu, Adolfo  8/13/2020     Adolfo     Abreu    The Bronx    NY  10468   \n",
       "\n",
       "            occupation                        empname   amnt     white  \\\n",
       "0              Student                            NaN   10.0       NaN   \n",
       "1           Unemployed                            NaN   10.0  0.106055   \n",
       "2  Organizing Director  Northwest Bronx Community and  850.0  0.000060   \n",
       "3  Organizing Director  Northwest Bronx Community and  100.0  0.000060   \n",
       "4  Organizing Director  Northwest Bronx Community and   50.0  0.000060   \n",
       "\n",
       "      black       api   native  multiple  hispanic     refno      race  \n",
       "0       NaN       NaN      NaN       NaN       NaN  R0001855       NaN  \n",
       "1  0.843409  0.001083  0.00172   0.02252  0.025213  R0003932     black  \n",
       "2  0.000075  0.000037  0.00000   0.00000  0.999829  R0000076  hispanic  \n",
       "3  0.000075  0.000037  0.00000   0.00000  0.999829  R0000086  hispanic  \n",
       "4  0.000075  0.000037  0.00000   0.00000  0.999829  R0000119  hispanic  "
      ]
     },
     "execution_count": 6,
     "metadata": {},
     "output_type": "execute_result"
    }
   ],
   "source": [
    "cand_geo.head(5)"
   ]
  },
  {
   "cell_type": "code",
   "execution_count": 8,
   "metadata": {},
   "outputs": [
    {
     "name": "stdout",
     "output_type": "stream",
     "text": [
      "             recipname      race        amnt\n",
      "0        Abreu, Adolfo       api   37.972609\n",
      "1        Abreu, Adolfo     black   75.563400\n",
      "2        Abreu, Adolfo  hispanic   61.045110\n",
      "3        Abreu, Adolfo   unknown   54.374673\n",
      "4        Abreu, Adolfo     white   32.091848\n",
      "..                 ...       ...         ...\n",
      "62  Saperstein, Steven     white  158.871783\n",
      "63      Vernikov, Inna       api   58.750000\n",
      "64      Vernikov, Inna  hispanic  103.333333\n",
      "65      Vernikov, Inna   unknown   96.726343\n",
      "66      Vernikov, Inna     white  136.626582\n",
      "\n",
      "[67 rows x 3 columns]\n"
     ]
    }
   ],
   "source": [
    "cand_geo['race'] = cand_geo['race'].fillna('unknown')\n",
    "mean_amnt_by_race = cand_geo.groupby(['recipname', 'race'])['amnt'].mean().reset_index()\n",
    "print(mean_amnt_by_race)"
   ]
  },
  {
   "cell_type": "code",
   "execution_count": 11,
   "metadata": {},
   "outputs": [
    {
     "data": {
      "text/html": [
       "<div>\n",
       "<style scoped>\n",
       "    .dataframe tbody tr th:only-of-type {\n",
       "        vertical-align: middle;\n",
       "    }\n",
       "\n",
       "    .dataframe tbody tr th {\n",
       "        vertical-align: top;\n",
       "    }\n",
       "\n",
       "    .dataframe thead th {\n",
       "        text-align: right;\n",
       "    }\n",
       "</style>\n",
       "<table border=\"1\" class=\"dataframe\">\n",
       "  <thead>\n",
       "    <tr style=\"text-align: right;\">\n",
       "      <th></th>\n",
       "      <th>recipname</th>\n",
       "      <th>race</th>\n",
       "      <th>amnt</th>\n",
       "    </tr>\n",
       "  </thead>\n",
       "  <tbody>\n",
       "    <tr>\n",
       "      <th>39</th>\n",
       "      <td>Lin, Yu</td>\n",
       "      <td>hispanic</td>\n",
       "      <td>300.000000</td>\n",
       "    </tr>\n",
       "    <tr>\n",
       "      <th>62</th>\n",
       "      <td>Saperstein, Steven</td>\n",
       "      <td>white</td>\n",
       "      <td>158.871783</td>\n",
       "    </tr>\n",
       "    <tr>\n",
       "      <th>66</th>\n",
       "      <td>Vernikov, Inna</td>\n",
       "      <td>white</td>\n",
       "      <td>136.626582</td>\n",
       "    </tr>\n",
       "    <tr>\n",
       "      <th>47</th>\n",
       "      <td>Rivera, Carlina</td>\n",
       "      <td>api</td>\n",
       "      <td>136.600000</td>\n",
       "    </tr>\n",
       "    <tr>\n",
       "      <th>38</th>\n",
       "      <td>Lin, Yu</td>\n",
       "      <td>api</td>\n",
       "      <td>127.275235</td>\n",
       "    </tr>\n",
       "    <tr>\n",
       "      <th>...</th>\n",
       "      <td>...</td>\n",
       "      <td>...</td>\n",
       "      <td>...</td>\n",
       "    </tr>\n",
       "    <tr>\n",
       "      <th>48</th>\n",
       "      <td>Rivera, Carlina</td>\n",
       "      <td>black</td>\n",
       "      <td>25.000000</td>\n",
       "    </tr>\n",
       "    <tr>\n",
       "      <th>20</th>\n",
       "      <td>Hollingsworth, Michael D</td>\n",
       "      <td>api</td>\n",
       "      <td>24.766757</td>\n",
       "    </tr>\n",
       "    <tr>\n",
       "      <th>22</th>\n",
       "      <td>Hollingsworth, Michael D</td>\n",
       "      <td>hispanic</td>\n",
       "      <td>24.453333</td>\n",
       "    </tr>\n",
       "    <tr>\n",
       "      <th>60</th>\n",
       "      <td>Saperstein, Steven</td>\n",
       "      <td>hispanic</td>\n",
       "      <td>17.000000</td>\n",
       "    </tr>\n",
       "    <tr>\n",
       "      <th>59</th>\n",
       "      <td>Saperstein, Steven</td>\n",
       "      <td>black</td>\n",
       "      <td>15.000000</td>\n",
       "    </tr>\n",
       "  </tbody>\n",
       "</table>\n",
       "<p>67 rows × 3 columns</p>\n",
       "</div>"
      ],
      "text/plain": [
       "                   recipname      race        amnt\n",
       "39                   Lin, Yu  hispanic  300.000000\n",
       "62        Saperstein, Steven     white  158.871783\n",
       "66            Vernikov, Inna     white  136.626582\n",
       "47           Rivera, Carlina       api  136.600000\n",
       "38                   Lin, Yu       api  127.275235\n",
       "..                       ...       ...         ...\n",
       "48           Rivera, Carlina     black   25.000000\n",
       "20  Hollingsworth, Michael D       api   24.766757\n",
       "22  Hollingsworth, Michael D  hispanic   24.453333\n",
       "60        Saperstein, Steven  hispanic   17.000000\n",
       "59        Saperstein, Steven     black   15.000000\n",
       "\n",
       "[67 rows x 3 columns]"
      ]
     },
     "execution_count": 11,
     "metadata": {},
     "output_type": "execute_result"
    }
   ],
   "source": [
    "mean_amnt_by_race.sort_values('amnt', ascending=False)"
   ]
  },
  {
   "cell_type": "code",
   "execution_count": 9,
   "metadata": {},
   "outputs": [],
   "source": [
    "df = cand_geo.copy()"
   ]
  },
  {
   "cell_type": "code",
   "execution_count": 10,
   "metadata": {},
   "outputs": [
    {
     "name": "stdout",
     "output_type": "stream",
     "text": [
      "                   recipname      race        amnt\n",
      "1              Abreu, Adolfo     black   75.563400\n",
      "6              Aviles, Alexa     black  106.970000\n",
      "11            Caban, Tiffany     black   54.661034\n",
      "19        Hantzopoulos, Evie     white   61.799881\n",
      "21  Hollingsworth, Michael D     black   53.712258\n",
      "25           Hudson, Crystal       api  109.116279\n",
      "30           Hussein, Erin Z  hispanic  100.000000\n",
      "33            Joseph, Rita C       api  125.000000\n",
      "39                   Lin, Yu  hispanic  300.000000\n",
      "44             Pierre, Josue  hispanic  113.800000\n",
      "47           Rivera, Carlina       api  136.600000\n",
      "55        Sanchez, Pierina A  multiple  100.000000\n",
      "62        Saperstein, Steven     white  158.871783\n",
      "66            Vernikov, Inna     white  136.626582\n"
     ]
    }
   ],
   "source": [
    "mean_amnt_by_race = df.groupby(['recipname', 'race'], as_index=False)['amnt'].mean()\n",
    "sorted_mean_amnt = mean_amnt_by_race.sort_values(by=['recipname', 'amnt'], ascending=[True, False])\n",
    "top_race_by_amnt = sorted_mean_amnt.drop_duplicates(subset=['recipname'], keep='first')\n",
    "print(top_race_by_amnt)"
   ]
  },
  {
   "cell_type": "markdown",
   "metadata": {},
   "source": [
    "orgs"
   ]
  },
  {
   "cell_type": "code",
   "execution_count": 2,
   "metadata": {},
   "outputs": [],
   "source": [
    "orgs = pd.read_csv('../data/cleaned/orgs_cleaned.csv')"
   ]
  },
  {
   "cell_type": "code",
   "execution_count": 14,
   "metadata": {},
   "outputs": [
    {
     "data": {
      "text/plain": [
       "Index(['ELECTION', 'OFFICECD', 'RECIPID', 'CANCLASS', 'RECIPNAME', 'COMMITTEE',\n",
       "       'FILING', 'SCHEDULE', 'PAGENO', 'SEQUENCENO', 'REFNO', 'DATE',\n",
       "       'REFUNDDATE', 'NAME', 'C_CODE', 'STRNO', 'STRNAME', 'APARTMENT',\n",
       "       'BOROUGHCD', 'CITY', 'STATE', 'ZIP', 'OCCUPATION', 'EMPNAME',\n",
       "       'EMPSTRNO', 'EMPSTRNAME', 'EMPCITY', 'EMPSTATE', 'AMNT', 'MATCHAMNT',\n",
       "       'PREVAMNT', 'PAY_METHOD', 'INTERMNO', 'INTERMNAME', 'INTSTRNO',\n",
       "       'INTSTRNM', 'INTAPTNO', 'INTCITY', 'INTST', 'INTZIP', 'INTEMPNAME',\n",
       "       'INTEMPSTNO', 'INTEMPSTNM', 'INTEMPCITY', 'INTEMPST', 'INTOCCUPA',\n",
       "       'PURPOSECD', 'EXEMPTCD', 'ADJTYPECD', 'RR_IND', 'SEG_IND',\n",
       "       'INT_C_CODE'],\n",
       "      dtype='object')"
      ]
     },
     "execution_count": 14,
     "metadata": {},
     "output_type": "execute_result"
    }
   ],
   "source": [
    "orgs.columns"
   ]
  },
  {
   "cell_type": "code",
   "execution_count": 15,
   "metadata": {},
   "outputs": [],
   "source": [
    "orgs_df = orgs[[ 'RECIPNAME','REFNO', 'DATE','NAME','RECIPNAME', 'AMNT']]"
   ]
  },
  {
   "cell_type": "code",
   "execution_count": 17,
   "metadata": {},
   "outputs": [],
   "source": [
    "# delete duplicate REFNO \n",
    "orgs_df = orgs_df.drop_duplicates(subset=['REFNO'], keep='first')"
   ]
  },
  {
   "cell_type": "code",
   "execution_count": 2,
   "metadata": {},
   "outputs": [],
   "source": [
    "from fuzzywuzzy import process, fuzz"
   ]
  },
  {
   "cell_type": "code",
   "execution_count": 21,
   "metadata": {},
   "outputs": [
    {
     "name": "stderr",
     "output_type": "stream",
     "text": [
      "C:\\Users\\samtg\\AppData\\Local\\Temp\\ipykernel_33408\\1185339953.py:1: SettingWithCopyWarning: \n",
      "A value is trying to be set on a copy of a slice from a DataFrame.\n",
      "Try using .loc[row_indexer,col_indexer] = value instead\n",
      "\n",
      "See the caveats in the documentation: https://pandas.pydata.org/pandas-docs/stable/user_guide/indexing.html#returning-a-view-versus-a-copy\n",
      "  orgs_df['NAME_standard'] = orgs_df['NAME'].str.lower()\n"
     ]
    }
   ],
   "source": [
    "orgs_df['NAME_standard'] = orgs_df['NAME'].str.lower()\n",
    "unique_names = orgs_df['NAME_standard'].unique()"
   ]
  },
  {
   "cell_type": "code",
   "execution_count": 22,
   "metadata": {},
   "outputs": [],
   "source": [
    "name_mapping = {}\n",
    "for name in unique_names:\n",
    "    matches = process.extractBests(name, unique_names, scorer=fuzz.token_sort_ratio, score_cutoff=80)\n",
    "    best_match = max(matches, key=lambda x: x[1])[0] if matches else name\n",
    "    name_mapping[name] = best_match\n"
   ]
  },
  {
   "cell_type": "code",
   "execution_count": 23,
   "metadata": {},
   "outputs": [
    {
     "name": "stderr",
     "output_type": "stream",
     "text": [
      "C:\\Users\\samtg\\AppData\\Local\\Temp\\ipykernel_33408\\761303952.py:1: SettingWithCopyWarning: \n",
      "A value is trying to be set on a copy of a slice from a DataFrame.\n",
      "Try using .loc[row_indexer,col_indexer] = value instead\n",
      "\n",
      "See the caveats in the documentation: https://pandas.pydata.org/pandas-docs/stable/user_guide/indexing.html#returning-a-view-versus-a-copy\n",
      "  orgs_df['grouped_org'] = orgs_df['NAME_standard'].apply(lambda x: name_mapping.get(x, x)).str.upper()\n"
     ]
    }
   ],
   "source": [
    "orgs_df['grouped_org'] = orgs_df['NAME_standard'].apply(lambda x: name_mapping.get(x, x)).str.upper() "
   ]
  },
  {
   "cell_type": "markdown",
   "metadata": {},
   "source": [
    "Let's try and organize the whole df"
   ]
  },
  {
   "cell_type": "code",
   "execution_count": 27,
   "metadata": {},
   "outputs": [
    {
     "name": "stderr",
     "output_type": "stream",
     "text": [
      "C:\\Users\\samtg\\AppData\\Local\\Temp\\ipykernel_33408\\869547863.py:1: DtypeWarning: Columns (46,47) have mixed types. Specify dtype option on import or set low_memory=False.\n",
      "  all = pd.read_csv('../data/orgs/all.csv')\n"
     ]
    }
   ],
   "source": [
    "all = pd.read_csv('../data/orgs/all.csv')"
   ]
  },
  {
   "cell_type": "code",
   "execution_count": 137,
   "metadata": {},
   "outputs": [],
   "source": [
    "all_df = all[[ 'RECIPNAME',  'DATE', 'BOROUGHCD', 'CITY', 'STATE', 'ZIP', 'OCCUPATION', 'EMPNAME', 'NAME', 'AMNT','SCHEDULE','REFNO','C_CODE','PURPOSECD']]\n",
    "all_df = all_df.drop_duplicates(subset=['REFNO','NAME','DATE'], keep='first')"
   ]
  },
  {
   "cell_type": "code",
   "execution_count": 130,
   "metadata": {},
   "outputs": [],
   "source": [
    "all_dup = all[[ 'RECIPNAME',  'DATE', 'BOROUGHCD', 'CITY', 'STATE', 'ZIP', 'OCCUPATION', 'EMPNAME', 'NAME', 'AMNT','SCHEDULE','REFNO','C_CODE','PURPOSECD']]"
   ]
  },
  {
   "cell_type": "code",
   "execution_count": 139,
   "metadata": {},
   "outputs": [],
   "source": [
    "all_df = all_df.drop_duplicates(subset=['REFNO','NAME','DATE'], keep='first')"
   ]
  },
  {
   "cell_type": "code",
   "execution_count": 41,
   "metadata": {},
   "outputs": [],
   "source": [
    "org_codes = ['PCOMP','EMPO','PCOMC','CORP',\"PCOMZ\",'LLC','OTHR']"
   ]
  },
  {
   "cell_type": "code",
   "execution_count": 141,
   "metadata": {},
   "outputs": [],
   "source": [
    "org_all = all_df[all_df['C_CODE'].isin(org_codes)]"
   ]
  },
  {
   "cell_type": "code",
   "execution_count": 99,
   "metadata": {},
   "outputs": [],
   "source": [
    "org_all_dup = all_dup[all_dup['C_CODE'].isin(org_codes)]"
   ]
  },
  {
   "cell_type": "code",
   "execution_count": 3,
   "metadata": {},
   "outputs": [],
   "source": [
    "org_key = ['1199 SEIU','32 BJ SEIU', '536 Laguadia Place','57th Ave Liquor and Wine', 'A Print Solution LLC', 'Abdoulaye Barry', 'ACEC New York City',\n",
    "       'ActBlue', 'AFSCME-Local 1407', 'AIA New York Chapter','Alan Maisel for Council', 'Alessandra Biaggi, Committee t',\n",
    "       'Allied Printing Trades Counci', 'Allied Printing Trades Council',\n",
    "       'Alphajor Barrie', 'Althea & Friends TIE', 'Amalgamated Transit Union',\n",
    "       'American Council of Engineerin', 'Assistant Deputy Wardens/Deput',\n",
    "       'BRAB PAC','Bricklayers & Allied Craftwork', 'Building &  Construction Trade',\n",
    "       'Carlina 2021', \"Carolyn's PAC\", 'Central Labor Council, AFL-CIO',\n",
    "       'Civil Service Employee Politic', 'Committee on Political Educati',\n",
    "       'Communications Workers of Amer', 'Correction Officers Benevolent', 'Council of School Supervisors', 'COurage to Change NY',\n",
    "       'Courage to Change NYC', \"Cozen O'Connor PAC\", 'CWA District One', 'D&M PAC', 'Dianne Morales for NYC',\n",
    "       'District Council 37', 'Doctors Council SEIU' ,'Downtown Women for Change',\n",
    "       \"Edgewater Park Owners' Coopera\", \"Emily's List-NF Fund\", 'Empire Dental Political Action',\n",
    "       'Friends of Ralph Perfetto', 'Greenberg Taurig',\n",
    "       'IBT Joint Council No 16 PAC', 'Keith For NYC',\n",
    "       'Local 813 IBT Political Action', 'Local 983',\n",
    "       'Madison Square Garden NY PAC', 'Mason Tenders District Council',\n",
    "       'Metavante Corp', 'Neighborhood Preservation PAC',\n",
    "       'New York City Central Labor Co', 'New York State Laborers', 'New York State Nurses Associat',\n",
    "       'New Yorkers for Savino', 'New Yorkers Putting Students F',\n",
    "       'NYC District Council Of Carpen',\n",
    "       'NYC DSA', \n",
    "       'Police Benevolent Association', 'PSC PAC', 'Riley for the Bronx',\n",
    "       'RPAC of New York State', 'Stonewall Democratic Club of N',\n",
    "       'StreetsPac', 'Teamsters Local Union No 202',\n",
    "       'Tile, Marble, & Terrazo Local', 'Transport Workers Union Local',\n",
    "       'U.A. Steamfitters L.U. 638', 'United Federation of Teachers']"
   ]
  },
  {
   "cell_type": "code",
   "execution_count": 8,
   "metadata": {},
   "outputs": [],
   "source": [
    "def get_closest_match(x, choices):\n",
    "    return process.extractOne(x, choices)[0]"
   ]
  },
  {
   "cell_type": "code",
   "execution_count": 142,
   "metadata": {},
   "outputs": [
    {
     "name": "stderr",
     "output_type": "stream",
     "text": [
      "C:\\Users\\samtg\\AppData\\Local\\Temp\\ipykernel_33408\\1231765473.py:1: SettingWithCopyWarning: \n",
      "A value is trying to be set on a copy of a slice from a DataFrame.\n",
      "Try using .loc[row_indexer,col_indexer] = value instead\n",
      "\n",
      "See the caveats in the documentation: https://pandas.pydata.org/pandas-docs/stable/user_guide/indexing.html#returning-a-view-versus-a-copy\n",
      "  org_all['cleaned_name'] = org_all['NAME'].apply(lambda x: get_closest_match(x, org_key))\n"
     ]
    }
   ],
   "source": [
    "org_all['cleaned_name'] = org_all['NAME'].apply(lambda x: get_closest_match(x, org_key))"
   ]
  },
  {
   "cell_type": "code",
   "execution_count": 100,
   "metadata": {},
   "outputs": [
    {
     "name": "stderr",
     "output_type": "stream",
     "text": [
      "C:\\Users\\samtg\\AppData\\Local\\Temp\\ipykernel_33408\\91698921.py:1: SettingWithCopyWarning: \n",
      "A value is trying to be set on a copy of a slice from a DataFrame.\n",
      "Try using .loc[row_indexer,col_indexer] = value instead\n",
      "\n",
      "See the caveats in the documentation: https://pandas.pydata.org/pandas-docs/stable/user_guide/indexing.html#returning-a-view-versus-a-copy\n",
      "  org_all_dup['cleaned_name'] = org_all_dup['NAME'].apply(lambda x: get_closest_match(x, org_key))\n"
     ]
    }
   ],
   "source": [
    "org_all_dup['cleaned_name'] = org_all_dup['NAME'].apply(lambda x: get_closest_match(x, org_key))"
   ]
  },
  {
   "cell_type": "code",
   "execution_count": 48,
   "metadata": {},
   "outputs": [],
   "source": [
    "factions = pd.read_csv('../data/faction_compare.csv')"
   ]
  },
  {
   "cell_type": "code",
   "execution_count": 155,
   "metadata": {},
   "outputs": [],
   "source": [
    "def find_best_match(name, choices, scorer=fuzz.WRatio, score_cutoff=90):\n",
    "    best_match = process.extractOne(name, choices, scorer=scorer, score_cutoff=score_cutoff)\n",
    "    return best_match[0] if best_match else None"
   ]
  },
  {
   "cell_type": "code",
   "execution_count": 54,
   "metadata": {},
   "outputs": [
    {
     "data": {
      "text/plain": [
       "Index(['VotePersonName', 'faction', 'rf_predictions', 'knn_predictions',\n",
       "       'rf_pca_predictions'],\n",
       "      dtype='object')"
      ]
     },
     "execution_count": 54,
     "metadata": {},
     "output_type": "execute_result"
    }
   ],
   "source": [
    "factions.columns"
   ]
  },
  {
   "cell_type": "code",
   "execution_count": 156,
   "metadata": {},
   "outputs": [],
   "source": [
    "org_all['Matched_Name'] = org_all['RECIPNAME'].apply(lambda x: find_best_match(x, factions['VotePersonName'].tolist()))"
   ]
  },
  {
   "cell_type": "code",
   "execution_count": 101,
   "metadata": {},
   "outputs": [
    {
     "name": "stderr",
     "output_type": "stream",
     "text": [
      "C:\\Users\\samtg\\AppData\\Local\\Temp\\ipykernel_33408\\112574115.py:1: SettingWithCopyWarning: \n",
      "A value is trying to be set on a copy of a slice from a DataFrame.\n",
      "Try using .loc[row_indexer,col_indexer] = value instead\n",
      "\n",
      "See the caveats in the documentation: https://pandas.pydata.org/pandas-docs/stable/user_guide/indexing.html#returning-a-view-versus-a-copy\n",
      "  org_all_dup['Matched_Name'] = org_all_dup['RECIPNAME'].apply(lambda x: find_best_match(x, factions['VotePersonName'].tolist()))\n"
     ]
    }
   ],
   "source": [
    "org_all_dup['Matched_Name'] = org_all_dup['RECIPNAME'].apply(lambda x: find_best_match(x, factions['VotePersonName'].tolist()))"
   ]
  },
  {
   "cell_type": "code",
   "execution_count": 144,
   "metadata": {},
   "outputs": [],
   "source": [
    "org_all = org_all.merge(factions, left_on='Matched_Name', right_on='VotePersonName', how='left')"
   ]
  },
  {
   "cell_type": "code",
   "execution_count": 102,
   "metadata": {},
   "outputs": [],
   "source": [
    "org_all_dup = org_all_dup.merge(factions, left_on='Matched_Name', right_on='VotePersonName', how='left')"
   ]
  },
  {
   "cell_type": "code",
   "execution_count": 145,
   "metadata": {},
   "outputs": [],
   "source": [
    "# Make a new col \"winner\" that is 0 if Matched_Name is None, else it is 1\n",
    "org_all['winner'] = org_all['Matched_Name'].notnull().astype(int)"
   ]
  },
  {
   "cell_type": "code",
   "execution_count": 103,
   "metadata": {},
   "outputs": [],
   "source": [
    "org_all_dup['winner'] = org_all_dup['Matched_Name'].notnull().astype(int)"
   ]
  },
  {
   "cell_type": "code",
   "execution_count": 146,
   "metadata": {},
   "outputs": [],
   "source": [
    "winners = org_all[org_all['winner'] == 1]"
   ]
  },
  {
   "cell_type": "code",
   "execution_count": 72,
   "metadata": {},
   "outputs": [],
   "source": [
    "winners = winners[['DATE','cleaned_name', 'AMNT', 'SCHEDULE', 'REFNO', 'C_CODE', 'PURPOSECD',\n",
    " 'Matched_Name',  'faction',\n",
    "       'rf_predictions', 'knn_predictions', 'rf_pca_predictions', 'winner']]"
   ]
  },
  {
   "cell_type": "code",
   "execution_count": 79,
   "metadata": {},
   "outputs": [
    {
     "data": {
      "text/html": [
       "<div>\n",
       "<style scoped>\n",
       "    .dataframe tbody tr th:only-of-type {\n",
       "        vertical-align: middle;\n",
       "    }\n",
       "\n",
       "    .dataframe tbody tr th {\n",
       "        vertical-align: top;\n",
       "    }\n",
       "\n",
       "    .dataframe thead th {\n",
       "        text-align: right;\n",
       "    }\n",
       "</style>\n",
       "<table border=\"1\" class=\"dataframe\">\n",
       "  <thead>\n",
       "    <tr style=\"text-align: right;\">\n",
       "      <th></th>\n",
       "      <th>DATE</th>\n",
       "      <th>cleaned_name</th>\n",
       "      <th>AMNT</th>\n",
       "      <th>SCHEDULE</th>\n",
       "      <th>REFNO</th>\n",
       "      <th>C_CODE</th>\n",
       "      <th>PURPOSECD</th>\n",
       "      <th>Matched_Name</th>\n",
       "      <th>faction</th>\n",
       "      <th>rf_predictions</th>\n",
       "      <th>knn_predictions</th>\n",
       "      <th>rf_pca_predictions</th>\n",
       "      <th>winner</th>\n",
       "    </tr>\n",
       "  </thead>\n",
       "  <tbody>\n",
       "    <tr>\n",
       "      <th>1</th>\n",
       "      <td>6/21/2021</td>\n",
       "      <td>1199 SEIU</td>\n",
       "      <td>1000.0</td>\n",
       "      <td>ABC</td>\n",
       "      <td>R0003231</td>\n",
       "      <td>PCOMP</td>\n",
       "      <td>NaN</td>\n",
       "      <td>Lynn C. Schulman</td>\n",
       "      <td>Affluent Liberals</td>\n",
       "      <td>Affluent Liberals</td>\n",
       "      <td>Affluent Liberals</td>\n",
       "      <td>Affluent Liberals</td>\n",
       "      <td>1</td>\n",
       "    </tr>\n",
       "    <tr>\n",
       "      <th>2</th>\n",
       "      <td>4/26/2021</td>\n",
       "      <td>1199 SEIU</td>\n",
       "      <td>1000.0</td>\n",
       "      <td>ABC</td>\n",
       "      <td>R0004887</td>\n",
       "      <td>PCOMP</td>\n",
       "      <td>NaN</td>\n",
       "      <td>Mercedes Narcisse</td>\n",
       "      <td>NaN</td>\n",
       "      <td>Affluent Liberals</td>\n",
       "      <td>Affluent Liberals</td>\n",
       "      <td>Affluent Liberals</td>\n",
       "      <td>1</td>\n",
       "    </tr>\n",
       "    <tr>\n",
       "      <th>3</th>\n",
       "      <td>10/6/2021</td>\n",
       "      <td>1199 SEIU</td>\n",
       "      <td>1000.0</td>\n",
       "      <td>ABC</td>\n",
       "      <td>R0006445</td>\n",
       "      <td>PCOMP</td>\n",
       "      <td>NaN</td>\n",
       "      <td>Kamillah Hanks</td>\n",
       "      <td>NaN</td>\n",
       "      <td>Affluent Liberals</td>\n",
       "      <td>Affluent Liberals</td>\n",
       "      <td>Hybrid Progressives</td>\n",
       "      <td>1</td>\n",
       "    </tr>\n",
       "    <tr>\n",
       "      <th>6</th>\n",
       "      <td>5/30/2023</td>\n",
       "      <td>1199 SEIU</td>\n",
       "      <td>1000.0</td>\n",
       "      <td>ABC</td>\n",
       "      <td>R0002682</td>\n",
       "      <td>PCOMP</td>\n",
       "      <td>NaN</td>\n",
       "      <td>Charles Barron</td>\n",
       "      <td>NaN</td>\n",
       "      <td>DSA</td>\n",
       "      <td>Alphabet Left</td>\n",
       "      <td>Hybrid Progressives</td>\n",
       "      <td>1</td>\n",
       "    </tr>\n",
       "    <tr>\n",
       "      <th>7</th>\n",
       "      <td>11/1/2021</td>\n",
       "      <td>1199 SEIU</td>\n",
       "      <td>1000.0</td>\n",
       "      <td>ABC</td>\n",
       "      <td>R0008554</td>\n",
       "      <td>PCOMP</td>\n",
       "      <td>NaN</td>\n",
       "      <td>Shahana K. Hanif</td>\n",
       "      <td>Alphabet Left</td>\n",
       "      <td>Alphabet Left</td>\n",
       "      <td>Alphabet Left</td>\n",
       "      <td>Alphabet Left</td>\n",
       "      <td>1</td>\n",
       "    </tr>\n",
       "  </tbody>\n",
       "</table>\n",
       "</div>"
      ],
      "text/plain": [
       "        DATE cleaned_name    AMNT SCHEDULE     REFNO C_CODE PURPOSECD  \\\n",
       "1  6/21/2021    1199 SEIU  1000.0      ABC  R0003231  PCOMP       NaN   \n",
       "2  4/26/2021    1199 SEIU  1000.0      ABC  R0004887  PCOMP       NaN   \n",
       "3  10/6/2021    1199 SEIU  1000.0      ABC  R0006445  PCOMP       NaN   \n",
       "6  5/30/2023    1199 SEIU  1000.0      ABC  R0002682  PCOMP       NaN   \n",
       "7  11/1/2021    1199 SEIU  1000.0      ABC  R0008554  PCOMP       NaN   \n",
       "\n",
       "        Matched_Name            faction     rf_predictions    knn_predictions  \\\n",
       "1   Lynn C. Schulman  Affluent Liberals  Affluent Liberals  Affluent Liberals   \n",
       "2  Mercedes Narcisse                NaN  Affluent Liberals  Affluent Liberals   \n",
       "3     Kamillah Hanks                NaN  Affluent Liberals  Affluent Liberals   \n",
       "6     Charles Barron                NaN                DSA      Alphabet Left   \n",
       "7   Shahana K. Hanif      Alphabet Left      Alphabet Left      Alphabet Left   \n",
       "\n",
       "    rf_pca_predictions  winner  \n",
       "1    Affluent Liberals       1  \n",
       "2    Affluent Liberals       1  \n",
       "3  Hybrid Progressives       1  \n",
       "6  Hybrid Progressives       1  \n",
       "7        Alphabet Left       1  "
      ]
     },
     "execution_count": 79,
     "metadata": {},
     "output_type": "execute_result"
    }
   ],
   "source": [
    "winners.head(5)"
   ]
  },
  {
   "cell_type": "code",
   "execution_count": 147,
   "metadata": {},
   "outputs": [],
   "source": [
    "brkdwn = winners.groupby(['cleaned_name', 'rf_pca_predictions'])['AMNT'].sum().reset_index()"
   ]
  },
  {
   "cell_type": "code",
   "execution_count": 158,
   "metadata": {},
   "outputs": [],
   "source": [
    "brkdwn_ind = winners.groupby(['cleaned_name', 'Matched_Name'])['AMNT'].sum().reset_index()"
   ]
  },
  {
   "cell_type": "code",
   "execution_count": 159,
   "metadata": {},
   "outputs": [
    {
     "name": "stdout",
     "output_type": "stream",
     "text": [
      "                      cleaned_name              Matched_Name    AMNT\n",
      "0                        1199 SEIU         Adrienne E. Adams  1000.0\n",
      "1                        1199 SEIU              Alexa Avilés  1000.0\n",
      "2                        1199 SEIU        Althea V.  Stevens  1000.0\n",
      "3                        1199 SEIU             Amanda Farías  1000.0\n",
      "4                        1199 SEIU                 Ari Kagan  1000.0\n",
      "..                             ...                       ...     ...\n",
      "691  United Federation of Teachers       Pierina Ana Sanchez  1000.0\n",
      "692  United Federation of Teachers     Rafael Salamanca, Jr.  3850.0\n",
      "693  United Federation of Teachers          Robert F. Holden  1250.0\n",
      "694  United Federation of Teachers  Selvena N. Brooks-Powers  1000.0\n",
      "695  United Federation of Teachers             Tiffany Cabán  1000.0\n",
      "\n",
      "[696 rows x 3 columns]\n"
     ]
    }
   ],
   "source": [
    "print(brkdwn_ind)"
   ]
  },
  {
   "cell_type": "code",
   "execution_count": 150,
   "metadata": {},
   "outputs": [],
   "source": [
    "df = brkdwn.copy()\n",
    "top_rf_pca_for_names = df.sort_values(by='AMNT', ascending=False).drop_duplicates(['cleaned_name'])\n",
    "top_name_for_rf_pca = df.sort_values(by='AMNT', ascending=False).drop_duplicates(['rf_pca_predictions'])\n"
   ]
  },
  {
   "cell_type": "code",
   "execution_count": 151,
   "metadata": {},
   "outputs": [],
   "source": [
    "by_member = brkdwn_ind.sort_values(by='AMNT', ascending=False).drop_duplicates(['Matched_Name'])"
   ]
  },
  {
   "cell_type": "code",
   "execution_count": 154,
   "metadata": {},
   "outputs": [
    {
     "name": "stdout",
     "output_type": "stream",
     "text": [
      "                       cleaned_name               Matched_Name      AMNT\n",
      "65               ACEC New York City                Chi A. Ossé  61204.00\n",
      "96                AFSCME-Local 1407          Francisco P. Moya   7416.33\n",
      "81               ACEC New York City      Rafael Salamanca, Jr.   5700.00\n",
      "112         Alan Maisel for Council              Kalman Yeger    5700.00\n",
      "73               ACEC New York City              Keith Powers    4850.00\n",
      "343            Doctors Council SEIU            Carlina Rivera    2850.00\n",
      "97                AFSCME-Local 1407           James F. Gennaro   2500.00\n",
      "61               ACEC New York City         Althea V.  Stevens   2250.00\n",
      "403       Friends of Ralph Perfetto                  Linda Lee   2000.00\n",
      "558  New York State Nurses Associat          Justin L. Brannan   2000.00\n",
      "535         New York State Laborers           Erik D. Bottcher   2000.00\n",
      "676   United Federation of Teachers             Diana I. Ayala   2000.00\n",
      "79               ACEC New York City          Mercedes Narcisse   2000.00\n",
      "685   United Federation of Teachers             Kevin C. Riley   2000.00\n",
      "108               AFSCME-Local 1407   Selvena N. Brooks-Powers   2000.00\n",
      "151                        BRAB PAC              Eric Dinowitz   2000.00\n",
      "425                   Keith For NYC             Kamillah Hanks   1500.00\n",
      "57             A Print Solution LLC           Robert F. Holden   1500.00\n",
      "59               ACEC New York City          Adrienne E. Adams   1500.00\n",
      "106               AFSCME-Local 1407             Rita C. Joseph   1500.00\n",
      "323                         D&M PAC          Joseph C. Borelli   1500.00\n",
      "78               ACEC New York City         Marjorie Velázquez   1500.00\n",
      "404       Friends of Ralph Perfetto           Lynn C. Schulman   1400.00\n",
      "86               ACEC New York City            Shekar Krishnan   1250.00\n",
      "163                        BRAB PAC                 Sandra Ung   1250.00\n",
      "397       Friends of Ralph Perfetto                  Ari Kagan   1000.00\n",
      "399       Friends of Ralph Perfetto              Inna Vernikov   1000.00\n",
      "408       Friends of Ralph Perfetto                Shaun Abreu   1000.00\n",
      "451  Mason Tenders District Council              Amanda Farías   1000.00\n",
      "442                       Local 983             Gale A. Brewer   1000.00\n",
      "430                   Keith For NYC               Oswald Feliz   1000.00\n",
      "422                   Keith For NYC                Julie Menin   1000.00\n",
      "421                   Keith For NYC         Jennifer Gutiérrez   1000.00\n",
      "360            Doctors Council SEIU       Nantasha M. Williams   1000.00\n",
      "340            Doctors Council SEIU               Alexa Avilés   1000.00\n",
      "308              Cozen O'Connor PAC              Joann Ariola    1000.00\n",
      "304              Cozen O'Connor PAC              David M. Carr   1000.00\n",
      "297   Council of School Supervisors              Tiffany Cabán   1000.00\n",
      "294   Council of School Supervisors           Shahana K. Hanif   1000.00\n",
      "290   Council of School Supervisors        Pierina Ana Sanchez   1000.00\n",
      "344            Doctors Council SEIU             Charles Barron   1000.00\n",
      "345            Doctors Council SEIU             Crystal Hudson   1000.00\n",
      "639   Transport Workers Union Local       Carmen N. De La Rosa   1000.00\n",
      "579                         PSC PAC                Sandy Nurse   1000.00\n",
      "280   Council of School Supervisors                  Julie Won   1000.00\n",
      "131            Althea & Friends TIE             Farah N. Louis    500.00\n",
      "533         New York State Laborers              Darlene Mealy    500.00\n",
      "629   Tile, Marble, & Terrazo Local            Lincoln Restler    250.00\n",
      "330          Dianne Morales for NYC  Kristin Richardson Jordan      0.00\n"
     ]
    }
   ],
   "source": [
    "print(by_member)"
   ]
  },
  {
   "cell_type": "code",
   "execution_count": 162,
   "metadata": {},
   "outputs": [
    {
     "name": "stdout",
     "output_type": "stream",
     "text": [
      "Table 1: Top rf_pca_predictions by amount for every cleaned_name\n"
     ]
    },
    {
     "data": {
      "text/html": [
       "<div>\n",
       "<style scoped>\n",
       "    .dataframe tbody tr th:only-of-type {\n",
       "        vertical-align: middle;\n",
       "    }\n",
       "\n",
       "    .dataframe tbody tr th {\n",
       "        vertical-align: top;\n",
       "    }\n",
       "\n",
       "    .dataframe thead th {\n",
       "        text-align: right;\n",
       "    }\n",
       "</style>\n",
       "<table border=\"1\" class=\"dataframe\">\n",
       "  <thead>\n",
       "    <tr style=\"text-align: right;\">\n",
       "      <th></th>\n",
       "      <th>cleaned_name</th>\n",
       "      <th>rf_pca_predictions</th>\n",
       "      <th>AMNT</th>\n",
       "    </tr>\n",
       "  </thead>\n",
       "  <tbody>\n",
       "    <tr>\n",
       "      <th>20</th>\n",
       "      <td>ACEC New York City</td>\n",
       "      <td>Alphabet Left</td>\n",
       "      <td>62625.58</td>\n",
       "    </tr>\n",
       "    <tr>\n",
       "      <th>0</th>\n",
       "      <td>1199 SEIU</td>\n",
       "      <td>Affluent Liberals</td>\n",
       "      <td>19000.00</td>\n",
       "    </tr>\n",
       "    <tr>\n",
       "      <th>220</th>\n",
       "      <td>United Federation of Teachers</td>\n",
       "      <td>Affluent Liberals</td>\n",
       "      <td>18600.00</td>\n",
       "    </tr>\n",
       "    <tr>\n",
       "      <th>115</th>\n",
       "      <td>Doctors Council SEIU</td>\n",
       "      <td>Affluent Liberals</td>\n",
       "      <td>16850.00</td>\n",
       "    </tr>\n",
       "    <tr>\n",
       "      <th>213</th>\n",
       "      <td>Transport Workers Union Local</td>\n",
       "      <td>Affluent Liberals</td>\n",
       "      <td>16425.00</td>\n",
       "    </tr>\n",
       "    <tr>\n",
       "      <th>...</th>\n",
       "      <td>...</td>\n",
       "      <td>...</td>\n",
       "      <td>...</td>\n",
       "    </tr>\n",
       "    <tr>\n",
       "      <th>183</th>\n",
       "      <td>New Yorkers Putting Students F</td>\n",
       "      <td>Hybrid Progressives</td>\n",
       "      <td>500.00</td>\n",
       "    </tr>\n",
       "    <tr>\n",
       "      <th>31</th>\n",
       "      <td>AIA New York Chapter</td>\n",
       "      <td>Hybrid Progressives</td>\n",
       "      <td>225.00</td>\n",
       "    </tr>\n",
       "    <tr>\n",
       "      <th>42</th>\n",
       "      <td>Alphajor Barrie</td>\n",
       "      <td>Affluent Liberals</td>\n",
       "      <td>2.00</td>\n",
       "    </tr>\n",
       "    <tr>\n",
       "      <th>37</th>\n",
       "      <td>Allied Printing Trades Counci</td>\n",
       "      <td>Old and New Republicans</td>\n",
       "      <td>0.00</td>\n",
       "    </tr>\n",
       "    <tr>\n",
       "      <th>110</th>\n",
       "      <td>Dianne Morales for NYC</td>\n",
       "      <td>Hybrid Progressives</td>\n",
       "      <td>0.00</td>\n",
       "    </tr>\n",
       "  </tbody>\n",
       "</table>\n",
       "<p>65 rows × 3 columns</p>\n",
       "</div>"
      ],
      "text/plain": [
       "                       cleaned_name       rf_pca_predictions      AMNT\n",
       "20               ACEC New York City            Alphabet Left  62625.58\n",
       "0                         1199 SEIU        Affluent Liberals  19000.00\n",
       "220   United Federation of Teachers        Affluent Liberals  18600.00\n",
       "115            Doctors Council SEIU        Affluent Liberals  16850.00\n",
       "213   Transport Workers Union Local        Affluent Liberals  16425.00\n",
       "..                              ...                      ...       ...\n",
       "183  New Yorkers Putting Students F      Hybrid Progressives    500.00\n",
       "31             AIA New York Chapter      Hybrid Progressives    225.00\n",
       "42                  Alphajor Barrie        Affluent Liberals      2.00\n",
       "37    Allied Printing Trades Counci  Old and New Republicans      0.00\n",
       "110          Dianne Morales for NYC      Hybrid Progressives      0.00\n",
       "\n",
       "[65 rows x 3 columns]"
      ]
     },
     "execution_count": 162,
     "metadata": {},
     "output_type": "execute_result"
    }
   ],
   "source": [
    "print(\"Table 1: Top rf_pca_predictions by amount for every cleaned_name\")\n",
    "top_rf_pca_for_names"
   ]
  },
  {
   "cell_type": "code",
   "execution_count": 161,
   "metadata": {},
   "outputs": [
    {
     "name": "stdout",
     "output_type": "stream",
     "text": [
      "\n",
      "Table 2: Top cleaned_name for every rf_pca_predictions\n",
      "                  cleaned_name        rf_pca_predictions      AMNT\n",
      "20          ACEC New York City             Alphabet Left  62625.58\n",
      "19          ACEC New York City         Affluent Liberals  20511.58\n",
      "29           AFSCME-Local 1407       Hybrid Progressives  11666.33\n",
      "131  Friends of Ralph Perfetto   Old and New Republicans   5960.00\n",
      "3                    1199 SEIU                       DSA   2000.00\n",
      "21          ACEC New York City  County Aligned Moderates   1500.00\n"
     ]
    }
   ],
   "source": [
    "print(\"\\nTable 2: Top cleaned_name for every rf_pca_predictions\")\n",
    "print(top_name_for_rf_pca)"
   ]
  },
  {
   "cell_type": "code",
   "execution_count": 96,
   "metadata": {},
   "outputs": [],
   "source": [
    "orgs_short = org_all[['DATE','cleaned_name', 'AMNT', 'SCHEDULE', 'C_CODE', 'REFNO',\n",
    " 'Matched_Name',  'faction',\n",
    "       'rf_predictions', 'knn_predictions', 'rf_pca_predictions', 'winner']]"
   ]
  },
  {
   "cell_type": "code",
   "execution_count": 119,
   "metadata": {},
   "outputs": [
    {
     "data": {
      "text/html": [
       "<div>\n",
       "<style scoped>\n",
       "    .dataframe tbody tr th:only-of-type {\n",
       "        vertical-align: middle;\n",
       "    }\n",
       "\n",
       "    .dataframe tbody tr th {\n",
       "        vertical-align: top;\n",
       "    }\n",
       "\n",
       "    .dataframe thead th {\n",
       "        text-align: right;\n",
       "    }\n",
       "</style>\n",
       "<table border=\"1\" class=\"dataframe\">\n",
       "  <thead>\n",
       "    <tr style=\"text-align: right;\">\n",
       "      <th></th>\n",
       "      <th>RECIPNAME</th>\n",
       "      <th>DATE</th>\n",
       "      <th>BOROUGHCD</th>\n",
       "      <th>CITY</th>\n",
       "      <th>STATE</th>\n",
       "      <th>ZIP</th>\n",
       "      <th>OCCUPATION</th>\n",
       "      <th>EMPNAME</th>\n",
       "      <th>NAME</th>\n",
       "      <th>AMNT</th>\n",
       "      <th>...</th>\n",
       "      <th>C_CODE</th>\n",
       "      <th>PURPOSECD</th>\n",
       "      <th>cleaned_name</th>\n",
       "      <th>Matched_Name</th>\n",
       "      <th>VotePersonName</th>\n",
       "      <th>faction</th>\n",
       "      <th>rf_predictions</th>\n",
       "      <th>knn_predictions</th>\n",
       "      <th>rf_pca_predictions</th>\n",
       "      <th>winner</th>\n",
       "    </tr>\n",
       "  </thead>\n",
       "  <tbody>\n",
       "    <tr>\n",
       "      <th>223</th>\n",
       "      <td>Jordan, Kristin R</td>\n",
       "      <td>4/21/2021</td>\n",
       "      <td>M</td>\n",
       "      <td>New York</td>\n",
       "      <td>NY</td>\n",
       "      <td>10101</td>\n",
       "      <td>NaN</td>\n",
       "      <td>NaN</td>\n",
       "      <td>Dianne Morales for NYC</td>\n",
       "      <td>-100.0</td>\n",
       "      <td>...</td>\n",
       "      <td>PCOMC</td>\n",
       "      <td>NaN</td>\n",
       "      <td>Dianne Morales for NYC</td>\n",
       "      <td>Kristin Richardson Jordan</td>\n",
       "      <td>Kristin Richardson Jordan</td>\n",
       "      <td>NaN</td>\n",
       "      <td>Hybrid Progressives</td>\n",
       "      <td>Affluent Liberals</td>\n",
       "      <td>Hybrid Progressives</td>\n",
       "      <td>1</td>\n",
       "    </tr>\n",
       "  </tbody>\n",
       "</table>\n",
       "<p>1 rows × 22 columns</p>\n",
       "</div>"
      ],
      "text/plain": [
       "             RECIPNAME       DATE BOROUGHCD      CITY STATE    ZIP OCCUPATION  \\\n",
       "223  Jordan, Kristin R  4/21/2021         M  New York    NY  10101        NaN   \n",
       "\n",
       "    EMPNAME                    NAME   AMNT  ... C_CODE PURPOSECD  \\\n",
       "223     NaN  Dianne Morales for NYC -100.0  ...  PCOMC       NaN   \n",
       "\n",
       "               cleaned_name               Matched_Name  \\\n",
       "223  Dianne Morales for NYC  Kristin Richardson Jordan   \n",
       "\n",
       "                VotePersonName faction       rf_predictions  \\\n",
       "223  Kristin Richardson Jordan     NaN  Hybrid Progressives   \n",
       "\n",
       "       knn_predictions   rf_pca_predictions winner  \n",
       "223  Affluent Liberals  Hybrid Progressives      1  \n",
       "\n",
       "[1 rows x 22 columns]"
      ]
     },
     "execution_count": 119,
     "metadata": {},
     "output_type": "execute_result"
    }
   ],
   "source": [
    "org_all[org_all['cleaned_name'] == 'Dianne Morales for NYC']"
   ]
  },
  {
   "cell_type": "code",
   "execution_count": 126,
   "metadata": {},
   "outputs": [
    {
     "data": {
      "text/html": [
       "<div>\n",
       "<style scoped>\n",
       "    .dataframe tbody tr th:only-of-type {\n",
       "        vertical-align: middle;\n",
       "    }\n",
       "\n",
       "    .dataframe tbody tr th {\n",
       "        vertical-align: top;\n",
       "    }\n",
       "\n",
       "    .dataframe thead th {\n",
       "        text-align: right;\n",
       "    }\n",
       "</style>\n",
       "<table border=\"1\" class=\"dataframe\">\n",
       "  <thead>\n",
       "    <tr style=\"text-align: right;\">\n",
       "      <th></th>\n",
       "      <th>RECIPNAME</th>\n",
       "      <th>NAME</th>\n",
       "      <th>DATE</th>\n",
       "      <th>AMNT</th>\n",
       "      <th>REFNO</th>\n",
       "      <th>winner</th>\n",
       "    </tr>\n",
       "  </thead>\n",
       "  <tbody>\n",
       "    <tr>\n",
       "      <th>254</th>\n",
       "      <td>Moya, Francisco P</td>\n",
       "      <td>Coliemore Inc</td>\n",
       "      <td>4/16/2019</td>\n",
       "      <td>500.0</td>\n",
       "      <td>R0002915</td>\n",
       "      <td>1</td>\n",
       "    </tr>\n",
       "    <tr>\n",
       "      <th>255</th>\n",
       "      <td>Moya, Francisco P</td>\n",
       "      <td>Coliemore Inc</td>\n",
       "      <td>4/16/2019</td>\n",
       "      <td>-500.0</td>\n",
       "      <td>R0004095</td>\n",
       "      <td>1</td>\n",
       "    </tr>\n",
       "    <tr>\n",
       "      <th>448</th>\n",
       "      <td>Jordan, Kristin R</td>\n",
       "      <td>Dianne Morales for NYC</td>\n",
       "      <td>4/21/2021</td>\n",
       "      <td>100.0</td>\n",
       "      <td>R0007897</td>\n",
       "      <td>1</td>\n",
       "    </tr>\n",
       "    <tr>\n",
       "      <th>449</th>\n",
       "      <td>Jordan, Kristin R</td>\n",
       "      <td>Dianne Morales for NYC</td>\n",
       "      <td>4/21/2021</td>\n",
       "      <td>-100.0</td>\n",
       "      <td>R0007899</td>\n",
       "      <td>1</td>\n",
       "    </tr>\n",
       "    <tr>\n",
       "      <th>1271</th>\n",
       "      <td>Onuorah, George</td>\n",
       "      <td>Silver Spoon Diner</td>\n",
       "      <td>4/22/2021</td>\n",
       "      <td>20.0</td>\n",
       "      <td>R0001676</td>\n",
       "      <td>0</td>\n",
       "    </tr>\n",
       "    <tr>\n",
       "      <th>1272</th>\n",
       "      <td>Onuorah, George</td>\n",
       "      <td>Silver Spoon Diner</td>\n",
       "      <td>4/22/2021</td>\n",
       "      <td>-20.0</td>\n",
       "      <td>R0001677</td>\n",
       "      <td>0</td>\n",
       "    </tr>\n",
       "  </tbody>\n",
       "</table>\n",
       "</div>"
      ],
      "text/plain": [
       "              RECIPNAME                    NAME       DATE   AMNT     REFNO  \\\n",
       "254   Moya, Francisco P           Coliemore Inc  4/16/2019  500.0  R0002915   \n",
       "255   Moya, Francisco P           Coliemore Inc  4/16/2019 -500.0  R0004095   \n",
       "448   Jordan, Kristin R  Dianne Morales for NYC  4/21/2021  100.0  R0007897   \n",
       "449   Jordan, Kristin R  Dianne Morales for NYC  4/21/2021 -100.0  R0007899   \n",
       "1271    Onuorah, George      Silver Spoon Diner  4/22/2021   20.0  R0001676   \n",
       "1272    Onuorah, George      Silver Spoon Diner  4/22/2021  -20.0  R0001677   \n",
       "\n",
       "      winner  \n",
       "254        1  \n",
       "255        1  \n",
       "448        1  \n",
       "449        1  \n",
       "1271       0  \n",
       "1272       0  "
      ]
     },
     "execution_count": 126,
     "metadata": {},
     "output_type": "execute_result"
    }
   ],
   "source": [
    "org_all_dup[org_all_dup['cleaned_name'] == 'Dianne Morales for NYC'][['RECIPNAME','NAME','DATE','AMNT','REFNO','winner']]"
   ]
  },
  {
   "cell_type": "code",
   "execution_count": 108,
   "metadata": {},
   "outputs": [],
   "source": [
    "test = org_all_dup.drop_duplicates(subset=['REFNO'], keep='first')"
   ]
  },
  {
   "cell_type": "code",
   "execution_count": 109,
   "metadata": {},
   "outputs": [
    {
     "data": {
      "text/html": [
       "<div>\n",
       "<style scoped>\n",
       "    .dataframe tbody tr th:only-of-type {\n",
       "        vertical-align: middle;\n",
       "    }\n",
       "\n",
       "    .dataframe tbody tr th {\n",
       "        vertical-align: top;\n",
       "    }\n",
       "\n",
       "    .dataframe thead th {\n",
       "        text-align: right;\n",
       "    }\n",
       "</style>\n",
       "<table border=\"1\" class=\"dataframe\">\n",
       "  <thead>\n",
       "    <tr style=\"text-align: right;\">\n",
       "      <th></th>\n",
       "      <th>RECIPNAME</th>\n",
       "      <th>DATE</th>\n",
       "      <th>AMNT</th>\n",
       "      <th>REFNO</th>\n",
       "      <th>winner</th>\n",
       "    </tr>\n",
       "  </thead>\n",
       "  <tbody>\n",
       "    <tr>\n",
       "      <th>254</th>\n",
       "      <td>Moya, Francisco P</td>\n",
       "      <td>4/16/2019</td>\n",
       "      <td>500.0</td>\n",
       "      <td>R0002915</td>\n",
       "      <td>1</td>\n",
       "    </tr>\n",
       "    <tr>\n",
       "      <th>255</th>\n",
       "      <td>Moya, Francisco P</td>\n",
       "      <td>4/16/2019</td>\n",
       "      <td>-500.0</td>\n",
       "      <td>R0004095</td>\n",
       "      <td>1</td>\n",
       "    </tr>\n",
       "    <tr>\n",
       "      <th>448</th>\n",
       "      <td>Jordan, Kristin R</td>\n",
       "      <td>4/21/2021</td>\n",
       "      <td>100.0</td>\n",
       "      <td>R0007897</td>\n",
       "      <td>1</td>\n",
       "    </tr>\n",
       "    <tr>\n",
       "      <th>449</th>\n",
       "      <td>Jordan, Kristin R</td>\n",
       "      <td>4/21/2021</td>\n",
       "      <td>-100.0</td>\n",
       "      <td>R0007899</td>\n",
       "      <td>1</td>\n",
       "    </tr>\n",
       "    <tr>\n",
       "      <th>1271</th>\n",
       "      <td>Onuorah, George</td>\n",
       "      <td>4/22/2021</td>\n",
       "      <td>20.0</td>\n",
       "      <td>R0001676</td>\n",
       "      <td>0</td>\n",
       "    </tr>\n",
       "    <tr>\n",
       "      <th>1272</th>\n",
       "      <td>Onuorah, George</td>\n",
       "      <td>4/22/2021</td>\n",
       "      <td>-20.0</td>\n",
       "      <td>R0001677</td>\n",
       "      <td>0</td>\n",
       "    </tr>\n",
       "  </tbody>\n",
       "</table>\n",
       "</div>"
      ],
      "text/plain": [
       "              RECIPNAME       DATE   AMNT     REFNO  winner\n",
       "254   Moya, Francisco P  4/16/2019  500.0  R0002915       1\n",
       "255   Moya, Francisco P  4/16/2019 -500.0  R0004095       1\n",
       "448   Jordan, Kristin R  4/21/2021  100.0  R0007897       1\n",
       "449   Jordan, Kristin R  4/21/2021 -100.0  R0007899       1\n",
       "1271    Onuorah, George  4/22/2021   20.0  R0001676       0\n",
       "1272    Onuorah, George  4/22/2021  -20.0  R0001677       0"
      ]
     },
     "execution_count": 109,
     "metadata": {},
     "output_type": "execute_result"
    }
   ],
   "source": [
    "test[test['cleaned_name'] == 'Dianne Morales for NYC'][['RECIPNAME','DATE','AMNT','REFNO','winner']]"
   ]
  },
  {
   "cell_type": "code",
   "execution_count": 134,
   "metadata": {},
   "outputs": [
    {
     "data": {
      "text/html": [
       "<div>\n",
       "<style scoped>\n",
       "    .dataframe tbody tr th:only-of-type {\n",
       "        vertical-align: middle;\n",
       "    }\n",
       "\n",
       "    .dataframe tbody tr th {\n",
       "        vertical-align: top;\n",
       "    }\n",
       "\n",
       "    .dataframe thead th {\n",
       "        text-align: right;\n",
       "    }\n",
       "</style>\n",
       "<table border=\"1\" class=\"dataframe\">\n",
       "  <thead>\n",
       "    <tr style=\"text-align: right;\">\n",
       "      <th></th>\n",
       "      <th>RECIPNAME</th>\n",
       "      <th>DATE</th>\n",
       "      <th>BOROUGHCD</th>\n",
       "      <th>CITY</th>\n",
       "      <th>STATE</th>\n",
       "      <th>ZIP</th>\n",
       "      <th>OCCUPATION</th>\n",
       "      <th>EMPNAME</th>\n",
       "      <th>NAME</th>\n",
       "      <th>AMNT</th>\n",
       "      <th>SCHEDULE</th>\n",
       "      <th>REFNO</th>\n",
       "      <th>C_CODE</th>\n",
       "      <th>PURPOSECD</th>\n",
       "    </tr>\n",
       "  </thead>\n",
       "  <tbody>\n",
       "    <tr>\n",
       "      <th>38891</th>\n",
       "      <td>Jordan, Kristin R</td>\n",
       "      <td>4/21/2021</td>\n",
       "      <td>M</td>\n",
       "      <td>New York</td>\n",
       "      <td>NY</td>\n",
       "      <td>10101</td>\n",
       "      <td>NaN</td>\n",
       "      <td>NaN</td>\n",
       "      <td>Dianne Morales for NYC</td>\n",
       "      <td>100.0</td>\n",
       "      <td>ABC</td>\n",
       "      <td>R0007897</td>\n",
       "      <td>PCOMC</td>\n",
       "      <td>NaN</td>\n",
       "    </tr>\n",
       "    <tr>\n",
       "      <th>38892</th>\n",
       "      <td>Jordan, Kristin R</td>\n",
       "      <td>4/21/2021</td>\n",
       "      <td>M</td>\n",
       "      <td>New York</td>\n",
       "      <td>NY</td>\n",
       "      <td>10101</td>\n",
       "      <td>NaN</td>\n",
       "      <td>NaN</td>\n",
       "      <td>Dianne Morales for NYC</td>\n",
       "      <td>-100.0</td>\n",
       "      <td>M</td>\n",
       "      <td>R0007899</td>\n",
       "      <td>PCOMC</td>\n",
       "      <td>NaN</td>\n",
       "    </tr>\n",
       "  </tbody>\n",
       "</table>\n",
       "</div>"
      ],
      "text/plain": [
       "               RECIPNAME       DATE BOROUGHCD      CITY STATE    ZIP  \\\n",
       "38891  Jordan, Kristin R  4/21/2021         M  New York    NY  10101   \n",
       "38892  Jordan, Kristin R  4/21/2021         M  New York    NY  10101   \n",
       "\n",
       "      OCCUPATION EMPNAME                    NAME   AMNT SCHEDULE     REFNO  \\\n",
       "38891        NaN     NaN  Dianne Morales for NYC  100.0      ABC  R0007897   \n",
       "38892        NaN     NaN  Dianne Morales for NYC -100.0        M  R0007899   \n",
       "\n",
       "      C_CODE PURPOSECD  \n",
       "38891  PCOMC       NaN  \n",
       "38892  PCOMC       NaN  "
      ]
     },
     "execution_count": 134,
     "metadata": {},
     "output_type": "execute_result"
    }
   ],
   "source": [
    "all_dup[all_dup['NAME'] == 'Dianne Morales for NYC']"
   ]
  },
  {
   "cell_type": "code",
   "execution_count": 132,
   "metadata": {},
   "outputs": [],
   "source": [
    "all_dup_test = all_dup.drop_duplicates(subset=['REFNO'], keep='first')"
   ]
  },
  {
   "cell_type": "code",
   "execution_count": 136,
   "metadata": {},
   "outputs": [
    {
     "data": {
      "text/html": [
       "<div>\n",
       "<style scoped>\n",
       "    .dataframe tbody tr th:only-of-type {\n",
       "        vertical-align: middle;\n",
       "    }\n",
       "\n",
       "    .dataframe tbody tr th {\n",
       "        vertical-align: top;\n",
       "    }\n",
       "\n",
       "    .dataframe thead th {\n",
       "        text-align: right;\n",
       "    }\n",
       "</style>\n",
       "<table border=\"1\" class=\"dataframe\">\n",
       "  <thead>\n",
       "    <tr style=\"text-align: right;\">\n",
       "      <th></th>\n",
       "      <th>RECIPNAME</th>\n",
       "      <th>DATE</th>\n",
       "      <th>BOROUGHCD</th>\n",
       "      <th>CITY</th>\n",
       "      <th>STATE</th>\n",
       "      <th>ZIP</th>\n",
       "      <th>OCCUPATION</th>\n",
       "      <th>EMPNAME</th>\n",
       "      <th>NAME</th>\n",
       "      <th>AMNT</th>\n",
       "      <th>SCHEDULE</th>\n",
       "      <th>REFNO</th>\n",
       "      <th>C_CODE</th>\n",
       "      <th>PURPOSECD</th>\n",
       "    </tr>\n",
       "  </thead>\n",
       "  <tbody>\n",
       "    <tr>\n",
       "      <th>22405</th>\n",
       "      <td>Menin, Julie</td>\n",
       "      <td>1/4/2021</td>\n",
       "      <td>M</td>\n",
       "      <td>New York</td>\n",
       "      <td>NY</td>\n",
       "      <td>10021-141</td>\n",
       "      <td>Chief Operating Officer</td>\n",
       "      <td>Calcium</td>\n",
       "      <td>Capano Michaelson, Judy</td>\n",
       "      <td>25.0</td>\n",
       "      <td>ABC</td>\n",
       "      <td>R0007897</td>\n",
       "      <td>IND</td>\n",
       "      <td>NaN</td>\n",
       "    </tr>\n",
       "    <tr>\n",
       "      <th>38891</th>\n",
       "      <td>Jordan, Kristin R</td>\n",
       "      <td>4/21/2021</td>\n",
       "      <td>M</td>\n",
       "      <td>New York</td>\n",
       "      <td>NY</td>\n",
       "      <td>10101</td>\n",
       "      <td>NaN</td>\n",
       "      <td>NaN</td>\n",
       "      <td>Dianne Morales for NYC</td>\n",
       "      <td>100.0</td>\n",
       "      <td>ABC</td>\n",
       "      <td>R0007897</td>\n",
       "      <td>PCOMC</td>\n",
       "      <td>NaN</td>\n",
       "    </tr>\n",
       "    <tr>\n",
       "      <th>123906</th>\n",
       "      <td>Caban, Tiffany</td>\n",
       "      <td>4/14/2021</td>\n",
       "      <td>Z</td>\n",
       "      <td>Canton</td>\n",
       "      <td>MA</td>\n",
       "      <td>02021</td>\n",
       "      <td>Not Employed</td>\n",
       "      <td>Not Employed</td>\n",
       "      <td>Reyes-Morales, Rocio</td>\n",
       "      <td>100.0</td>\n",
       "      <td>ABC</td>\n",
       "      <td>R0007897</td>\n",
       "      <td>IND</td>\n",
       "      <td>NaN</td>\n",
       "    </tr>\n",
       "  </tbody>\n",
       "</table>\n",
       "</div>"
      ],
      "text/plain": [
       "                RECIPNAME       DATE BOROUGHCD      CITY STATE        ZIP  \\\n",
       "22405        Menin, Julie   1/4/2021         M  New York    NY  10021-141   \n",
       "38891   Jordan, Kristin R  4/21/2021         M  New York    NY      10101   \n",
       "123906     Caban, Tiffany  4/14/2021         Z    Canton    MA      02021   \n",
       "\n",
       "                     OCCUPATION       EMPNAME                     NAME   AMNT  \\\n",
       "22405   Chief Operating Officer       Calcium  Capano Michaelson, Judy   25.0   \n",
       "38891                       NaN           NaN   Dianne Morales for NYC  100.0   \n",
       "123906             Not Employed  Not Employed     Reyes-Morales, Rocio  100.0   \n",
       "\n",
       "       SCHEDULE     REFNO C_CODE PURPOSECD  \n",
       "22405       ABC  R0007897    IND       NaN  \n",
       "38891       ABC  R0007897  PCOMC       NaN  \n",
       "123906      ABC  R0007897    IND       NaN  "
      ]
     },
     "execution_count": 136,
     "metadata": {},
     "output_type": "execute_result"
    }
   ],
   "source": [
    "all_dup[all_dup['REFNO'] == 'R0007897']"
   ]
  },
  {
   "cell_type": "code",
   "execution_count": 133,
   "metadata": {},
   "outputs": [
    {
     "data": {
      "text/plain": [
       "0    R0001664\n",
       "1    R0000080\n",
       "2    R0002295\n",
       "3    R0000171\n",
       "4    R0001588\n",
       "5    R0001593\n",
       "6    R0003188\n",
       "7    R0004231\n",
       "8    R0002881\n",
       "9    R0003231\n",
       "Name: REFNO, dtype: object"
      ]
     },
     "execution_count": 133,
     "metadata": {},
     "output_type": "execute_result"
    }
   ],
   "source": [
    "all_dup_test['REFNO'].head(10)"
   ]
  },
  {
   "cell_type": "markdown",
   "metadata": {},
   "source": [
    "Alternative goecode methods"
   ]
  },
  {
   "cell_type": "code",
   "execution_count": 1,
   "metadata": {},
   "outputs": [],
   "source": [
    "import ethnicolr2"
   ]
  },
  {
   "cell_type": "code",
   "execution_count": 11,
   "metadata": {},
   "outputs": [],
   "source": [
    "from ethnicolr2 import pred_fl_last_name,pred_fl_full_name"
   ]
  },
  {
   "cell_type": "code",
   "execution_count": 21,
   "metadata": {},
   "outputs": [
    {
     "ename": "ModuleNotFoundError",
     "evalue": "No module named 'clean_names'",
     "output_type": "error",
     "traceback": [
      "\u001b[1;31m---------------------------------------------------------------------------\u001b[0m",
      "\u001b[1;31mModuleNotFoundError\u001b[0m                       Traceback (most recent call last)",
      "Cell \u001b[1;32mIn[21], line 1\u001b[0m\n\u001b[1;32m----> 1\u001b[0m \u001b[38;5;28;01mfrom\u001b[39;00m \u001b[38;5;21;01mclean_names\u001b[39;00m \u001b[38;5;28;01mimport\u001b[39;00m clean_name\n",
      "\u001b[1;31mModuleNotFoundError\u001b[0m: No module named 'clean_names'"
     ]
    }
   ],
   "source": [
    "from clean_names import clean_name"
   ]
  },
  {
   "cell_type": "code",
   "execution_count": null,
   "metadata": {},
   "outputs": [],
   "source": [
    "def do_clean_name(n):\n",
    "    n = str(n)\n",
    "    return clean_name(n)\n",
    "\n",
    "#sdf['clean_name'] = sdf['contributor_name'].apply(lambda c: do_clean_name(c))\n",
    "#sdf"
   ]
  },
  {
   "cell_type": "code",
   "execution_count": 22,
   "metadata": {},
   "outputs": [
    {
     "name": "stderr",
     "output_type": "stream",
     "text": [
      "C:\\Users\\samtg\\AppData\\Local\\Temp\\ipykernel_20360\\680929873.py:1: DtypeWarning: Columns (12,21,33,37,38,40,41,42,43,44,45,46,51,54) have mixed types. Specify dtype option on import or set low_memory=False.\n",
      "  cand_surgeo = pd.read_csv('../data/cleaned/candidates_surgeo.csv')\n"
     ]
    }
   ],
   "source": [
    "cand_surgeo = pd.read_csv('../data/cleaned/candidates_surgeo.csv')"
   ]
  },
  {
   "cell_type": "code",
   "execution_count": 15,
   "metadata": {},
   "outputs": [
    {
     "data": {
      "text/html": [
       "<div>\n",
       "<style scoped>\n",
       "    .dataframe tbody tr th:only-of-type {\n",
       "        vertical-align: middle;\n",
       "    }\n",
       "\n",
       "    .dataframe tbody tr th {\n",
       "        vertical-align: top;\n",
       "    }\n",
       "\n",
       "    .dataframe thead th {\n",
       "        text-align: right;\n",
       "    }\n",
       "</style>\n",
       "<table border=\"1\" class=\"dataframe\">\n",
       "  <thead>\n",
       "    <tr style=\"text-align: right;\">\n",
       "      <th></th>\n",
       "      <th>last_name</th>\n",
       "      <th>first_name</th>\n",
       "    </tr>\n",
       "  </thead>\n",
       "  <tbody>\n",
       "    <tr>\n",
       "      <th>0</th>\n",
       "      <td>abiona</td>\n",
       "      <td>lara</td>\n",
       "    </tr>\n",
       "    <tr>\n",
       "      <th>1</th>\n",
       "      <td>abrams</td>\n",
       "      <td>benjamin</td>\n",
       "    </tr>\n",
       "  </tbody>\n",
       "</table>\n",
       "</div>"
      ],
      "text/plain": [
       "  last_name first_name\n",
       "0    abiona       lara\n",
       "1    abrams   benjamin"
      ]
     },
     "execution_count": 15,
     "metadata": {},
     "output_type": "execute_result"
    }
   ],
   "source": [
    "cand_surgeo[['last_name','first_name']].head(2)"
   ]
  },
  {
   "cell_type": "code",
   "execution_count": 26,
   "metadata": {},
   "outputs": [],
   "source": [
    "# convert to lower case\n",
    "cand_surgeo['first_name'] = cand_surgeo['first_name'].str.lower()\n",
    "cand_surgeo['last_name'] = cand_surgeo['last_name'].str.lower()"
   ]
  },
  {
   "cell_type": "code",
   "execution_count": 27,
   "metadata": {},
   "outputs": [],
   "source": [
    "# convert to string\n",
    "cand_surgeo['first_name'] = cand_surgeo['first_name'].astype(str)\n",
    "cand_surgeo['last_name'] = cand_surgeo['last_name'].astype(str)"
   ]
  },
  {
   "cell_type": "code",
   "execution_count": 19,
   "metadata": {},
   "outputs": [],
   "source": [
    "# dropn nan from first or last name\n",
    "cand_surgeo = cand_surgeo.dropna(subset=['first_name','last_name'])"
   ]
  },
  {
   "cell_type": "code",
   "execution_count": null,
   "metadata": {},
   "outputs": [],
   "source": [
    "pred_fl_full_name(cand_surgeo, lname_col = \"last_name\",fname_col = \"first_name\")"
   ]
  },
  {
   "cell_type": "code",
   "execution_count": 24,
   "metadata": {},
   "outputs": [],
   "source": [
    "from ethnicolr import census_ln, pred_census_ln,pred_fl_reg_name, pred_fl_reg_ln"
   ]
  },
  {
   "cell_type": "code",
   "execution_count": 29,
   "metadata": {},
   "outputs": [
    {
     "name": "stderr",
     "output_type": "stream",
     "text": [
      "c:\\Users\\samtg\\AppData\\Local\\Programs\\Python\\Python311\\Lib\\site-packages\\keras\\src\\layers\\core\\embedding.py:81: UserWarning: Do not pass an `input_shape`/`input_dim` argument to a layer. When using Sequential models, prefer using an `Input(shape)` object as the first layer in the model instead.\n",
      "  super().__init__(**kwargs)\n"
     ]
    },
    {
     "ename": "TypeError",
     "evalue": "Error when deserializing class 'Embedding' using config={'name': 'embedding', 'trainable': True, 'dtype': 'float32', 'input_dim': 1152, 'output_dim': 32, 'embeddings_initializer': {'class_name': 'RandomUniform', 'config': {'minval': -0.05, 'maxval': 0.05, 'seed': None}}, 'embeddings_regularizer': None, 'activity_regularizer': None, 'embeddings_constraint': None, 'mask_zero': False, 'input_length': 20, 'input_shape': [None, 20]}.\n\nException encountered: Unrecognized keyword arguments passed to Embedding: {'input_length': 20}",
     "output_type": "error",
     "traceback": [
      "\u001b[1;31m---------------------------------------------------------------------------\u001b[0m",
      "\u001b[1;31mValueError\u001b[0m                                Traceback (most recent call last)",
      "File \u001b[1;32mc:\\Users\\samtg\\AppData\\Local\\Programs\\Python\\Python311\\Lib\\site-packages\\keras\\src\\ops\\operation.py:196\u001b[0m, in \u001b[0;36mOperation.from_config\u001b[1;34m(cls, config)\u001b[0m\n\u001b[0;32m    195\u001b[0m \u001b[38;5;28;01mtry\u001b[39;00m:\n\u001b[1;32m--> 196\u001b[0m     \u001b[38;5;28;01mreturn\u001b[39;00m \u001b[38;5;28;43mcls\u001b[39;49m\u001b[43m(\u001b[49m\u001b[38;5;241;43m*\u001b[39;49m\u001b[38;5;241;43m*\u001b[39;49m\u001b[43mconfig\u001b[49m\u001b[43m)\u001b[49m\n\u001b[0;32m    197\u001b[0m \u001b[38;5;28;01mexcept\u001b[39;00m \u001b[38;5;167;01mException\u001b[39;00m \u001b[38;5;28;01mas\u001b[39;00m e:\n",
      "File \u001b[1;32mc:\\Users\\samtg\\AppData\\Local\\Programs\\Python\\Python311\\Lib\\site-packages\\keras\\src\\layers\\core\\embedding.py:81\u001b[0m, in \u001b[0;36mEmbedding.__init__\u001b[1;34m(self, input_dim, output_dim, embeddings_initializer, embeddings_regularizer, embeddings_constraint, mask_zero, lora_rank, **kwargs)\u001b[0m\n\u001b[0;32m     70\u001b[0m \u001b[38;5;28;01mdef\u001b[39;00m \u001b[38;5;21m__init__\u001b[39m(\n\u001b[0;32m     71\u001b[0m     \u001b[38;5;28mself\u001b[39m,\n\u001b[0;32m     72\u001b[0m     input_dim,\n\u001b[1;32m   (...)\u001b[0m\n\u001b[0;32m     79\u001b[0m     \u001b[38;5;241m*\u001b[39m\u001b[38;5;241m*\u001b[39mkwargs,\n\u001b[0;32m     80\u001b[0m ):\n\u001b[1;32m---> 81\u001b[0m     \u001b[38;5;28;43msuper\u001b[39;49m\u001b[43m(\u001b[49m\u001b[43m)\u001b[49m\u001b[38;5;241;43m.\u001b[39;49m\u001b[38;5;21;43m__init__\u001b[39;49m\u001b[43m(\u001b[49m\u001b[38;5;241;43m*\u001b[39;49m\u001b[38;5;241;43m*\u001b[39;49m\u001b[43mkwargs\u001b[49m\u001b[43m)\u001b[49m\n\u001b[0;32m     82\u001b[0m     \u001b[38;5;28mself\u001b[39m\u001b[38;5;241m.\u001b[39minput_dim \u001b[38;5;241m=\u001b[39m input_dim\n",
      "File \u001b[1;32mc:\\Users\\samtg\\AppData\\Local\\Programs\\Python\\Python311\\Lib\\site-packages\\keras\\src\\layers\\layer.py:265\u001b[0m, in \u001b[0;36mLayer.__init__\u001b[1;34m(self, activity_regularizer, trainable, dtype, autocast, name, **kwargs)\u001b[0m\n\u001b[0;32m    264\u001b[0m \u001b[38;5;28;01mif\u001b[39;00m kwargs:\n\u001b[1;32m--> 265\u001b[0m     \u001b[38;5;28;01mraise\u001b[39;00m \u001b[38;5;167;01mValueError\u001b[39;00m(\n\u001b[0;32m    266\u001b[0m         \u001b[38;5;124m\"\u001b[39m\u001b[38;5;124mUnrecognized keyword arguments \u001b[39m\u001b[38;5;124m\"\u001b[39m\n\u001b[0;32m    267\u001b[0m         \u001b[38;5;124mf\u001b[39m\u001b[38;5;124m\"\u001b[39m\u001b[38;5;124mpassed to \u001b[39m\u001b[38;5;132;01m{\u001b[39;00m\u001b[38;5;28mself\u001b[39m\u001b[38;5;241m.\u001b[39m\u001b[38;5;18m__class__\u001b[39m\u001b[38;5;241m.\u001b[39m\u001b[38;5;18m__name__\u001b[39m\u001b[38;5;132;01m}\u001b[39;00m\u001b[38;5;124m: \u001b[39m\u001b[38;5;132;01m{\u001b[39;00mkwargs\u001b[38;5;132;01m}\u001b[39;00m\u001b[38;5;124m\"\u001b[39m\n\u001b[0;32m    268\u001b[0m     )\n\u001b[0;32m    270\u001b[0m \u001b[38;5;28mself\u001b[39m\u001b[38;5;241m.\u001b[39mbuilt \u001b[38;5;241m=\u001b[39m \u001b[38;5;28;01mFalse\u001b[39;00m\n",
      "\u001b[1;31mValueError\u001b[0m: Unrecognized keyword arguments passed to Embedding: {'input_length': 20}",
      "\nDuring handling of the above exception, another exception occurred:\n",
      "\u001b[1;31mTypeError\u001b[0m                                 Traceback (most recent call last)",
      "Cell \u001b[1;32mIn[29], line 1\u001b[0m\n\u001b[1;32m----> 1\u001b[0m test \u001b[38;5;241m=\u001b[39m \u001b[43mpred_fl_reg_ln\u001b[49m\u001b[43m(\u001b[49m\u001b[43mcand_surgeo\u001b[49m\u001b[43m,\u001b[49m\u001b[43m \u001b[49m\u001b[38;5;124;43m'\u001b[39;49m\u001b[38;5;124;43mlast_name\u001b[39;49m\u001b[38;5;124;43m'\u001b[39;49m\u001b[43m)\u001b[49m\n",
      "File \u001b[1;32mc:\\Users\\samtg\\AppData\\Local\\Programs\\Python\\Python311\\Lib\\site-packages\\ethnicolr\\pred_fl_reg_ln.py:42\u001b[0m, in \u001b[0;36mFloridaRegLnModel.pred_fl_reg_ln\u001b[1;34m(cls, df, lname_col, num_iter, conf_int)\u001b[0m\n\u001b[0;32m     19\u001b[0m \u001b[38;5;129m@classmethod\u001b[39m\n\u001b[0;32m     20\u001b[0m \u001b[38;5;28;01mdef\u001b[39;00m \u001b[38;5;21mpred_fl_reg_ln\u001b[39m(\u001b[38;5;28mcls\u001b[39m, \n\u001b[0;32m     21\u001b[0m                    df: pd\u001b[38;5;241m.\u001b[39mDataFrame, \n\u001b[0;32m     22\u001b[0m                    lname_col: \u001b[38;5;28mstr\u001b[39m, \n\u001b[0;32m     23\u001b[0m                    num_iter: \u001b[38;5;28mint\u001b[39m\u001b[38;5;241m=\u001b[39m\u001b[38;5;241m100\u001b[39m, \n\u001b[0;32m     24\u001b[0m                    conf_int: \u001b[38;5;28mfloat\u001b[39m\u001b[38;5;241m=\u001b[39m\u001b[38;5;241m1.0\u001b[39m) \u001b[38;5;241m-\u001b[39m\u001b[38;5;241m>\u001b[39m pd\u001b[38;5;241m.\u001b[39mDataFrame:\n\u001b[0;32m     25\u001b[0m \u001b[38;5;250m    \u001b[39m\u001b[38;5;124;03m\"\"\"Predict the race/ethnicity of the last name using the Florida voter\u001b[39;00m\n\u001b[0;32m     26\u001b[0m \u001b[38;5;124;03m    registration data model.\u001b[39;00m\n\u001b[0;32m     27\u001b[0m \n\u001b[1;32m   (...)\u001b[0m\n\u001b[0;32m     39\u001b[0m \n\u001b[0;32m     40\u001b[0m \u001b[38;5;124;03m    \"\"\"\u001b[39;00m\n\u001b[1;32m---> 42\u001b[0m     rdf \u001b[38;5;241m=\u001b[39m \u001b[38;5;28;43mcls\u001b[39;49m\u001b[38;5;241;43m.\u001b[39;49m\u001b[43mtransform_and_pred\u001b[49m\u001b[43m(\u001b[49m\u001b[43mdf\u001b[49m\u001b[38;5;241;43m=\u001b[39;49m\u001b[43mdf\u001b[49m\u001b[43m,\u001b[49m\n\u001b[0;32m     43\u001b[0m \u001b[43m                                 \u001b[49m\u001b[43mnewnamecol\u001b[49m\u001b[38;5;241;43m=\u001b[39;49m\u001b[43mlname_col\u001b[49m\u001b[43m,\u001b[49m\n\u001b[0;32m     44\u001b[0m \u001b[43m                                 \u001b[49m\u001b[43mvocab_fn\u001b[49m\u001b[38;5;241;43m=\u001b[39;49m\u001b[38;5;28;43mcls\u001b[39;49m\u001b[38;5;241;43m.\u001b[39;49m\u001b[43mVOCABFN\u001b[49m\u001b[43m,\u001b[49m\n\u001b[0;32m     45\u001b[0m \u001b[43m                                 \u001b[49m\u001b[43mrace_fn\u001b[49m\u001b[38;5;241;43m=\u001b[39;49m\u001b[38;5;28;43mcls\u001b[39;49m\u001b[38;5;241;43m.\u001b[39;49m\u001b[43mRACEFN\u001b[49m\u001b[43m,\u001b[49m\n\u001b[0;32m     46\u001b[0m \u001b[43m                                 \u001b[49m\u001b[43mmodel_fn\u001b[49m\u001b[38;5;241;43m=\u001b[39;49m\u001b[38;5;28;43mcls\u001b[39;49m\u001b[38;5;241;43m.\u001b[39;49m\u001b[43mMODELFN\u001b[49m\u001b[43m,\u001b[49m\n\u001b[0;32m     47\u001b[0m \u001b[43m                                 \u001b[49m\u001b[43mngrams\u001b[49m\u001b[38;5;241;43m=\u001b[39;49m\u001b[38;5;28;43mcls\u001b[39;49m\u001b[38;5;241;43m.\u001b[39;49m\u001b[43mNGRAMS\u001b[49m\u001b[43m,\u001b[49m\n\u001b[0;32m     48\u001b[0m \u001b[43m                                 \u001b[49m\u001b[43mmaxlen\u001b[49m\u001b[38;5;241;43m=\u001b[39;49m\u001b[38;5;28;43mcls\u001b[39;49m\u001b[38;5;241;43m.\u001b[39;49m\u001b[43mFEATURE_LEN\u001b[49m\u001b[43m,\u001b[49m\n\u001b[0;32m     49\u001b[0m \u001b[43m                                 \u001b[49m\u001b[43mnum_iter\u001b[49m\u001b[38;5;241;43m=\u001b[39;49m\u001b[43mnum_iter\u001b[49m\u001b[43m,\u001b[49m\n\u001b[0;32m     50\u001b[0m \u001b[43m                                 \u001b[49m\u001b[43mconf_int\u001b[49m\u001b[38;5;241;43m=\u001b[39;49m\u001b[43mconf_int\u001b[49m\u001b[43m)\u001b[49m\n\u001b[0;32m     52\u001b[0m     \u001b[38;5;28;01mreturn\u001b[39;00m rdf\n",
      "File \u001b[1;32mc:\\Users\\samtg\\AppData\\Local\\Programs\\Python\\Python311\\Lib\\site-packages\\ethnicolr\\ethnicolr_class.py:108\u001b[0m, in \u001b[0;36mEthnicolrModelClass.transform_and_pred\u001b[1;34m(cls, df, newnamecol, vocab_fn, race_fn, model_fn, ngrams, maxlen, num_iter, conf_int)\u001b[0m\n\u001b[0;32m    105\u001b[0m     rdf \u001b[38;5;241m=\u001b[39m pd\u001b[38;5;241m.\u001b[39mread_csv(RACE)\n\u001b[0;32m    106\u001b[0m     \u001b[38;5;28mcls\u001b[39m\u001b[38;5;241m.\u001b[39mrace \u001b[38;5;241m=\u001b[39m rdf\u001b[38;5;241m.\u001b[39mrace\u001b[38;5;241m.\u001b[39mtolist()\n\u001b[1;32m--> 108\u001b[0m     \u001b[38;5;28mcls\u001b[39m\u001b[38;5;241m.\u001b[39mmodel \u001b[38;5;241m=\u001b[39m \u001b[43mload_model\u001b[49m\u001b[43m(\u001b[49m\u001b[43mMODEL\u001b[49m\u001b[43m)\u001b[49m\n\u001b[0;32m    110\u001b[0m \u001b[38;5;66;03m# build X from index of n-gram sequence\u001b[39;00m\n\u001b[0;32m    111\u001b[0m X \u001b[38;5;241m=\u001b[39m np\u001b[38;5;241m.\u001b[39marray(df[newnamecol]\u001b[38;5;241m.\u001b[39mapply(\u001b[38;5;28;01mlambda\u001b[39;00m c: EthnicolrModelClass\u001b[38;5;241m.\u001b[39mfind_ngrams(\u001b[38;5;28mcls\u001b[39m\u001b[38;5;241m.\u001b[39mvocab, c, ngrams)))\n",
      "File \u001b[1;32mc:\\Users\\samtg\\AppData\\Local\\Programs\\Python\\Python311\\Lib\\site-packages\\keras\\src\\saving\\saving_api.py:183\u001b[0m, in \u001b[0;36mload_model\u001b[1;34m(filepath, custom_objects, compile, safe_mode)\u001b[0m\n\u001b[0;32m    176\u001b[0m     \u001b[38;5;28;01mreturn\u001b[39;00m saving_lib\u001b[38;5;241m.\u001b[39mload_model(\n\u001b[0;32m    177\u001b[0m         filepath,\n\u001b[0;32m    178\u001b[0m         custom_objects\u001b[38;5;241m=\u001b[39mcustom_objects,\n\u001b[0;32m    179\u001b[0m         \u001b[38;5;28mcompile\u001b[39m\u001b[38;5;241m=\u001b[39m\u001b[38;5;28mcompile\u001b[39m,\n\u001b[0;32m    180\u001b[0m         safe_mode\u001b[38;5;241m=\u001b[39msafe_mode,\n\u001b[0;32m    181\u001b[0m     )\n\u001b[0;32m    182\u001b[0m \u001b[38;5;28;01mif\u001b[39;00m \u001b[38;5;28mstr\u001b[39m(filepath)\u001b[38;5;241m.\u001b[39mendswith((\u001b[38;5;124m\"\u001b[39m\u001b[38;5;124m.h5\u001b[39m\u001b[38;5;124m\"\u001b[39m, \u001b[38;5;124m\"\u001b[39m\u001b[38;5;124m.hdf5\u001b[39m\u001b[38;5;124m\"\u001b[39m)):\n\u001b[1;32m--> 183\u001b[0m     \u001b[38;5;28;01mreturn\u001b[39;00m \u001b[43mlegacy_h5_format\u001b[49m\u001b[38;5;241;43m.\u001b[39;49m\u001b[43mload_model_from_hdf5\u001b[49m\u001b[43m(\u001b[49m\u001b[43mfilepath\u001b[49m\u001b[43m)\u001b[49m\n\u001b[0;32m    184\u001b[0m \u001b[38;5;28;01melif\u001b[39;00m \u001b[38;5;28mstr\u001b[39m(filepath)\u001b[38;5;241m.\u001b[39mendswith(\u001b[38;5;124m\"\u001b[39m\u001b[38;5;124m.keras\u001b[39m\u001b[38;5;124m\"\u001b[39m):\n\u001b[0;32m    185\u001b[0m     \u001b[38;5;28;01mraise\u001b[39;00m \u001b[38;5;167;01mValueError\u001b[39;00m(\n\u001b[0;32m    186\u001b[0m         \u001b[38;5;124mf\u001b[39m\u001b[38;5;124m\"\u001b[39m\u001b[38;5;124mFile not found: filepath=\u001b[39m\u001b[38;5;132;01m{\u001b[39;00mfilepath\u001b[38;5;132;01m}\u001b[39;00m\u001b[38;5;124m. \u001b[39m\u001b[38;5;124m\"\u001b[39m\n\u001b[0;32m    187\u001b[0m         \u001b[38;5;124m\"\u001b[39m\u001b[38;5;124mPlease ensure the file is an accessible `.keras` \u001b[39m\u001b[38;5;124m\"\u001b[39m\n\u001b[0;32m    188\u001b[0m         \u001b[38;5;124m\"\u001b[39m\u001b[38;5;124mzip file.\u001b[39m\u001b[38;5;124m\"\u001b[39m\n\u001b[0;32m    189\u001b[0m     )\n",
      "File \u001b[1;32mc:\\Users\\samtg\\AppData\\Local\\Programs\\Python\\Python311\\Lib\\site-packages\\keras\\src\\legacy\\saving\\legacy_h5_format.py:133\u001b[0m, in \u001b[0;36mload_model_from_hdf5\u001b[1;34m(filepath, custom_objects, compile)\u001b[0m\n\u001b[0;32m    130\u001b[0m model_config \u001b[38;5;241m=\u001b[39m json_utils\u001b[38;5;241m.\u001b[39mdecode(model_config)\n\u001b[0;32m    132\u001b[0m \u001b[38;5;28;01mwith\u001b[39;00m saving_options\u001b[38;5;241m.\u001b[39mkeras_option_scope(use_legacy_config\u001b[38;5;241m=\u001b[39m\u001b[38;5;28;01mTrue\u001b[39;00m):\n\u001b[1;32m--> 133\u001b[0m     model \u001b[38;5;241m=\u001b[39m \u001b[43msaving_utils\u001b[49m\u001b[38;5;241;43m.\u001b[39;49m\u001b[43mmodel_from_config\u001b[49m\u001b[43m(\u001b[49m\n\u001b[0;32m    134\u001b[0m \u001b[43m        \u001b[49m\u001b[43mmodel_config\u001b[49m\u001b[43m,\u001b[49m\u001b[43m \u001b[49m\u001b[43mcustom_objects\u001b[49m\u001b[38;5;241;43m=\u001b[39;49m\u001b[43mcustom_objects\u001b[49m\n\u001b[0;32m    135\u001b[0m \u001b[43m    \u001b[49m\u001b[43m)\u001b[49m\n\u001b[0;32m    137\u001b[0m     \u001b[38;5;66;03m# set weights\u001b[39;00m\n\u001b[0;32m    138\u001b[0m     load_weights_from_hdf5_group(f[\u001b[38;5;124m\"\u001b[39m\u001b[38;5;124mmodel_weights\u001b[39m\u001b[38;5;124m\"\u001b[39m], model)\n",
      "File \u001b[1;32mc:\\Users\\samtg\\AppData\\Local\\Programs\\Python\\Python311\\Lib\\site-packages\\keras\\src\\legacy\\saving\\saving_utils.py:85\u001b[0m, in \u001b[0;36mmodel_from_config\u001b[1;34m(config, custom_objects)\u001b[0m\n\u001b[0;32m     81\u001b[0m \u001b[38;5;66;03m# TODO(nkovela): Swap find and replace args during Keras 3.0 release\u001b[39;00m\n\u001b[0;32m     82\u001b[0m \u001b[38;5;66;03m# Replace keras refs with keras\u001b[39;00m\n\u001b[0;32m     83\u001b[0m config \u001b[38;5;241m=\u001b[39m _find_replace_nested_dict(config, \u001b[38;5;124m\"\u001b[39m\u001b[38;5;124mkeras.\u001b[39m\u001b[38;5;124m\"\u001b[39m, \u001b[38;5;124m\"\u001b[39m\u001b[38;5;124mkeras.\u001b[39m\u001b[38;5;124m\"\u001b[39m)\n\u001b[1;32m---> 85\u001b[0m \u001b[38;5;28;01mreturn\u001b[39;00m \u001b[43mserialization\u001b[49m\u001b[38;5;241;43m.\u001b[39;49m\u001b[43mdeserialize_keras_object\u001b[49m\u001b[43m(\u001b[49m\n\u001b[0;32m     86\u001b[0m \u001b[43m    \u001b[49m\u001b[43mconfig\u001b[49m\u001b[43m,\u001b[49m\n\u001b[0;32m     87\u001b[0m \u001b[43m    \u001b[49m\u001b[43mmodule_objects\u001b[49m\u001b[38;5;241;43m=\u001b[39;49m\u001b[43mMODULE_OBJECTS\u001b[49m\u001b[38;5;241;43m.\u001b[39;49m\u001b[43mALL_OBJECTS\u001b[49m\u001b[43m,\u001b[49m\n\u001b[0;32m     88\u001b[0m \u001b[43m    \u001b[49m\u001b[43mcustom_objects\u001b[49m\u001b[38;5;241;43m=\u001b[39;49m\u001b[43mcustom_objects\u001b[49m\u001b[43m,\u001b[49m\n\u001b[0;32m     89\u001b[0m \u001b[43m    \u001b[49m\u001b[43mprintable_module_name\u001b[49m\u001b[38;5;241;43m=\u001b[39;49m\u001b[38;5;124;43m\"\u001b[39;49m\u001b[38;5;124;43mlayer\u001b[39;49m\u001b[38;5;124;43m\"\u001b[39;49m\u001b[43m,\u001b[49m\n\u001b[0;32m     90\u001b[0m \u001b[43m\u001b[49m\u001b[43m)\u001b[49m\n",
      "File \u001b[1;32mc:\\Users\\samtg\\AppData\\Local\\Programs\\Python\\Python311\\Lib\\site-packages\\keras\\src\\legacy\\saving\\serialization.py:495\u001b[0m, in \u001b[0;36mdeserialize_keras_object\u001b[1;34m(identifier, module_objects, custom_objects, printable_module_name)\u001b[0m\n\u001b[0;32m    490\u001b[0m cls_config \u001b[38;5;241m=\u001b[39m _find_replace_nested_dict(\n\u001b[0;32m    491\u001b[0m     cls_config, \u001b[38;5;124m\"\u001b[39m\u001b[38;5;124mkeras.\u001b[39m\u001b[38;5;124m\"\u001b[39m, \u001b[38;5;124m\"\u001b[39m\u001b[38;5;124mkeras.\u001b[39m\u001b[38;5;124m\"\u001b[39m\n\u001b[0;32m    492\u001b[0m )\n\u001b[0;32m    494\u001b[0m \u001b[38;5;28;01mif\u001b[39;00m \u001b[38;5;124m\"\u001b[39m\u001b[38;5;124mcustom_objects\u001b[39m\u001b[38;5;124m\"\u001b[39m \u001b[38;5;129;01min\u001b[39;00m arg_spec\u001b[38;5;241m.\u001b[39margs:\n\u001b[1;32m--> 495\u001b[0m     deserialized_obj \u001b[38;5;241m=\u001b[39m \u001b[38;5;28;43mcls\u001b[39;49m\u001b[38;5;241;43m.\u001b[39;49m\u001b[43mfrom_config\u001b[49m\u001b[43m(\u001b[49m\n\u001b[0;32m    496\u001b[0m \u001b[43m        \u001b[49m\u001b[43mcls_config\u001b[49m\u001b[43m,\u001b[49m\n\u001b[0;32m    497\u001b[0m \u001b[43m        \u001b[49m\u001b[43mcustom_objects\u001b[49m\u001b[38;5;241;43m=\u001b[39;49m\u001b[43m{\u001b[49m\n\u001b[0;32m    498\u001b[0m \u001b[43m            \u001b[49m\u001b[38;5;241;43m*\u001b[39;49m\u001b[38;5;241;43m*\u001b[39;49m\u001b[43mobject_registration\u001b[49m\u001b[38;5;241;43m.\u001b[39;49m\u001b[43mGLOBAL_CUSTOM_OBJECTS\u001b[49m\u001b[43m,\u001b[49m\n\u001b[0;32m    499\u001b[0m \u001b[43m            \u001b[49m\u001b[38;5;241;43m*\u001b[39;49m\u001b[38;5;241;43m*\u001b[39;49m\u001b[43mcustom_objects\u001b[49m\u001b[43m,\u001b[49m\n\u001b[0;32m    500\u001b[0m \u001b[43m        \u001b[49m\u001b[43m}\u001b[49m\u001b[43m,\u001b[49m\n\u001b[0;32m    501\u001b[0m \u001b[43m    \u001b[49m\u001b[43m)\u001b[49m\n\u001b[0;32m    502\u001b[0m \u001b[38;5;28;01melse\u001b[39;00m:\n\u001b[0;32m    503\u001b[0m     \u001b[38;5;28;01mwith\u001b[39;00m object_registration\u001b[38;5;241m.\u001b[39mCustomObjectScope(custom_objects):\n",
      "File \u001b[1;32mc:\\Users\\samtg\\AppData\\Local\\Programs\\Python\\Python311\\Lib\\site-packages\\keras\\src\\models\\sequential.py:327\u001b[0m, in \u001b[0;36mSequential.from_config\u001b[1;34m(cls, config, custom_objects)\u001b[0m\n\u001b[0;32m    323\u001b[0m \u001b[38;5;28;01mfor\u001b[39;00m layer_config \u001b[38;5;129;01min\u001b[39;00m layer_configs:\n\u001b[0;32m    324\u001b[0m     \u001b[38;5;28;01mif\u001b[39;00m \u001b[38;5;124m\"\u001b[39m\u001b[38;5;124mmodule\u001b[39m\u001b[38;5;124m\"\u001b[39m \u001b[38;5;129;01mnot\u001b[39;00m \u001b[38;5;129;01min\u001b[39;00m layer_config:\n\u001b[0;32m    325\u001b[0m         \u001b[38;5;66;03m# Legacy format deserialization (no \"module\" key)\u001b[39;00m\n\u001b[0;32m    326\u001b[0m         \u001b[38;5;66;03m# used for H5 and SavedModel formats\u001b[39;00m\n\u001b[1;32m--> 327\u001b[0m         layer \u001b[38;5;241m=\u001b[39m \u001b[43msaving_utils\u001b[49m\u001b[38;5;241;43m.\u001b[39;49m\u001b[43mmodel_from_config\u001b[49m\u001b[43m(\u001b[49m\n\u001b[0;32m    328\u001b[0m \u001b[43m            \u001b[49m\u001b[43mlayer_config\u001b[49m\u001b[43m,\u001b[49m\n\u001b[0;32m    329\u001b[0m \u001b[43m            \u001b[49m\u001b[43mcustom_objects\u001b[49m\u001b[38;5;241;43m=\u001b[39;49m\u001b[43mcustom_objects\u001b[49m\u001b[43m,\u001b[49m\n\u001b[0;32m    330\u001b[0m \u001b[43m        \u001b[49m\u001b[43m)\u001b[49m\n\u001b[0;32m    331\u001b[0m     \u001b[38;5;28;01melse\u001b[39;00m:\n\u001b[0;32m    332\u001b[0m         layer \u001b[38;5;241m=\u001b[39m serialization_lib\u001b[38;5;241m.\u001b[39mdeserialize_keras_object(\n\u001b[0;32m    333\u001b[0m             layer_config,\n\u001b[0;32m    334\u001b[0m             custom_objects\u001b[38;5;241m=\u001b[39mcustom_objects,\n\u001b[0;32m    335\u001b[0m         )\n",
      "File \u001b[1;32mc:\\Users\\samtg\\AppData\\Local\\Programs\\Python\\Python311\\Lib\\site-packages\\keras\\src\\legacy\\saving\\saving_utils.py:85\u001b[0m, in \u001b[0;36mmodel_from_config\u001b[1;34m(config, custom_objects)\u001b[0m\n\u001b[0;32m     81\u001b[0m \u001b[38;5;66;03m# TODO(nkovela): Swap find and replace args during Keras 3.0 release\u001b[39;00m\n\u001b[0;32m     82\u001b[0m \u001b[38;5;66;03m# Replace keras refs with keras\u001b[39;00m\n\u001b[0;32m     83\u001b[0m config \u001b[38;5;241m=\u001b[39m _find_replace_nested_dict(config, \u001b[38;5;124m\"\u001b[39m\u001b[38;5;124mkeras.\u001b[39m\u001b[38;5;124m\"\u001b[39m, \u001b[38;5;124m\"\u001b[39m\u001b[38;5;124mkeras.\u001b[39m\u001b[38;5;124m\"\u001b[39m)\n\u001b[1;32m---> 85\u001b[0m \u001b[38;5;28;01mreturn\u001b[39;00m \u001b[43mserialization\u001b[49m\u001b[38;5;241;43m.\u001b[39;49m\u001b[43mdeserialize_keras_object\u001b[49m\u001b[43m(\u001b[49m\n\u001b[0;32m     86\u001b[0m \u001b[43m    \u001b[49m\u001b[43mconfig\u001b[49m\u001b[43m,\u001b[49m\n\u001b[0;32m     87\u001b[0m \u001b[43m    \u001b[49m\u001b[43mmodule_objects\u001b[49m\u001b[38;5;241;43m=\u001b[39;49m\u001b[43mMODULE_OBJECTS\u001b[49m\u001b[38;5;241;43m.\u001b[39;49m\u001b[43mALL_OBJECTS\u001b[49m\u001b[43m,\u001b[49m\n\u001b[0;32m     88\u001b[0m \u001b[43m    \u001b[49m\u001b[43mcustom_objects\u001b[49m\u001b[38;5;241;43m=\u001b[39;49m\u001b[43mcustom_objects\u001b[49m\u001b[43m,\u001b[49m\n\u001b[0;32m     89\u001b[0m \u001b[43m    \u001b[49m\u001b[43mprintable_module_name\u001b[49m\u001b[38;5;241;43m=\u001b[39;49m\u001b[38;5;124;43m\"\u001b[39;49m\u001b[38;5;124;43mlayer\u001b[39;49m\u001b[38;5;124;43m\"\u001b[39;49m\u001b[43m,\u001b[49m\n\u001b[0;32m     90\u001b[0m \u001b[43m\u001b[49m\u001b[43m)\u001b[49m\n",
      "File \u001b[1;32mc:\\Users\\samtg\\AppData\\Local\\Programs\\Python\\Python311\\Lib\\site-packages\\keras\\src\\legacy\\saving\\serialization.py:504\u001b[0m, in \u001b[0;36mdeserialize_keras_object\u001b[1;34m(identifier, module_objects, custom_objects, printable_module_name)\u001b[0m\n\u001b[0;32m    502\u001b[0m     \u001b[38;5;28;01melse\u001b[39;00m:\n\u001b[0;32m    503\u001b[0m         \u001b[38;5;28;01mwith\u001b[39;00m object_registration\u001b[38;5;241m.\u001b[39mCustomObjectScope(custom_objects):\n\u001b[1;32m--> 504\u001b[0m             deserialized_obj \u001b[38;5;241m=\u001b[39m \u001b[38;5;28;43mcls\u001b[39;49m\u001b[38;5;241;43m.\u001b[39;49m\u001b[43mfrom_config\u001b[49m\u001b[43m(\u001b[49m\u001b[43mcls_config\u001b[49m\u001b[43m)\u001b[49m\n\u001b[0;32m    505\u001b[0m \u001b[38;5;28;01melse\u001b[39;00m:\n\u001b[0;32m    506\u001b[0m     \u001b[38;5;66;03m# Then `cls` may be a function returning a class.\u001b[39;00m\n\u001b[0;32m    507\u001b[0m     \u001b[38;5;66;03m# in this case by convention `config` holds\u001b[39;00m\n\u001b[0;32m    508\u001b[0m     \u001b[38;5;66;03m# the kwargs of the function.\u001b[39;00m\n\u001b[0;32m    509\u001b[0m     custom_objects \u001b[38;5;241m=\u001b[39m custom_objects \u001b[38;5;129;01mor\u001b[39;00m {}\n",
      "File \u001b[1;32mc:\\Users\\samtg\\AppData\\Local\\Programs\\Python\\Python311\\Lib\\site-packages\\keras\\src\\ops\\operation.py:198\u001b[0m, in \u001b[0;36mOperation.from_config\u001b[1;34m(cls, config)\u001b[0m\n\u001b[0;32m    196\u001b[0m     \u001b[38;5;28;01mreturn\u001b[39;00m \u001b[38;5;28mcls\u001b[39m(\u001b[38;5;241m*\u001b[39m\u001b[38;5;241m*\u001b[39mconfig)\n\u001b[0;32m    197\u001b[0m \u001b[38;5;28;01mexcept\u001b[39;00m \u001b[38;5;167;01mException\u001b[39;00m \u001b[38;5;28;01mas\u001b[39;00m e:\n\u001b[1;32m--> 198\u001b[0m     \u001b[38;5;28;01mraise\u001b[39;00m \u001b[38;5;167;01mTypeError\u001b[39;00m(\n\u001b[0;32m    199\u001b[0m         \u001b[38;5;124mf\u001b[39m\u001b[38;5;124m\"\u001b[39m\u001b[38;5;124mError when deserializing class \u001b[39m\u001b[38;5;124m'\u001b[39m\u001b[38;5;132;01m{\u001b[39;00m\u001b[38;5;28mcls\u001b[39m\u001b[38;5;241m.\u001b[39m\u001b[38;5;18m__name__\u001b[39m\u001b[38;5;132;01m}\u001b[39;00m\u001b[38;5;124m'\u001b[39m\u001b[38;5;124m using \u001b[39m\u001b[38;5;124m\"\u001b[39m\n\u001b[0;32m    200\u001b[0m         \u001b[38;5;124mf\u001b[39m\u001b[38;5;124m\"\u001b[39m\u001b[38;5;124mconfig=\u001b[39m\u001b[38;5;132;01m{\u001b[39;00mconfig\u001b[38;5;132;01m}\u001b[39;00m\u001b[38;5;124m.\u001b[39m\u001b[38;5;130;01m\\n\u001b[39;00m\u001b[38;5;130;01m\\n\u001b[39;00m\u001b[38;5;124mException encountered: \u001b[39m\u001b[38;5;132;01m{\u001b[39;00me\u001b[38;5;132;01m}\u001b[39;00m\u001b[38;5;124m\"\u001b[39m\n\u001b[0;32m    201\u001b[0m     )\n",
      "\u001b[1;31mTypeError\u001b[0m: Error when deserializing class 'Embedding' using config={'name': 'embedding', 'trainable': True, 'dtype': 'float32', 'input_dim': 1152, 'output_dim': 32, 'embeddings_initializer': {'class_name': 'RandomUniform', 'config': {'minval': -0.05, 'maxval': 0.05, 'seed': None}}, 'embeddings_regularizer': None, 'activity_regularizer': None, 'embeddings_constraint': None, 'mask_zero': False, 'input_length': 20, 'input_shape': [None, 20]}.\n\nException encountered: Unrecognized keyword arguments passed to Embedding: {'input_length': 20}"
     ]
    }
   ],
   "source": [
    "test = pred_fl_reg_ln(cand_surgeo, 'last_name')"
   ]
  },
  {
   "cell_type": "markdown",
   "metadata": {},
   "source": [
    "mayor"
   ]
  },
  {
   "cell_type": "code",
   "execution_count": 4,
   "metadata": {},
   "outputs": [
    {
     "name": "stderr",
     "output_type": "stream",
     "text": [
      "C:\\Users\\samtg\\AppData\\Local\\Temp\\ipykernel_25948\\953709319.py:1: DtypeWarning: Columns (39,47) have mixed types. Specify dtype option on import or set low_memory=False.\n",
      "  mayor = pd.read_csv('../data/mayor/mayor_finance.csv')\n"
     ]
    }
   ],
   "source": [
    "mayor = pd.read_csv('../data/mayor/mayor_finance.csv')"
   ]
  },
  {
   "cell_type": "code",
   "execution_count": 5,
   "metadata": {},
   "outputs": [],
   "source": [
    "mayor_df = mayor[[ 'RECIPNAME',  'DATE', 'BOROUGHCD', 'CITY', 'STATE', 'ZIP', 'OCCUPATION', 'EMPNAME', 'NAME', 'AMNT','SCHEDULE','REFNO','C_CODE','PURPOSECD']]\n",
    "mayor_df = mayor_df.drop_duplicates(subset=['REFNO','NAME','DATE'], keep='first')"
   ]
  },
  {
   "cell_type": "code",
   "execution_count": 10,
   "metadata": {},
   "outputs": [],
   "source": [
    "org_key = ['1199 SEIU', '504 Democratic Club',\n",
    "       '798 Habitat Inc, Liu', 'ACEC New York City PAC','AIA New York Political Action',\n",
    "       'Allied Printing Trades Council', 'American Federation of State',\n",
    "       'ATU New York Cope Fund', 'Bagels & More',\n",
    "       'Bricklayers & Allied Craftwork', 'Building and Construction Trad',\n",
    "       'Building for New York PAC',\n",
    "       'Cement & Concrete Workers',\n",
    "       'Cement Masons Union 780', 'Chase Bank', 'Christian Caliboso',\n",
    "       'Citibank - Deposit Services Fe', 'Cmte to Re-Elect Nydia Velazqu',\n",
    "       'conservative party bronx', 'Council of School Supervisors',\n",
    "       \"Cozen O'Connor\",  'CWA Local 1180','D&M PAC', 'D.E.A C.O.P.E Fund',\n",
    "       'District Council 37', 'Doctors Council SEIU COPE',\n",
    "       'DR MUZIBUL HUQ FOR CONGRESS', 'DRIVE Committee', 'EISPAC',\n",
    "       \"EMILY's List-NF Fund\", 'Federal Express NYS PAC',\n",
    "       'Food Industry Political Action', 'Frederick Douglass Democratic',\n",
    "       'Friends of Adriana', 'Friends of James Vacca',\n",
    "       'Friends of Steve Cohen', 'Gabriela bunea',\n",
    "       'Great Public Schools PAC',\n",
    "       'Greater New York Automobile De', 'Greenberg Traurig P.A.','Hanys PAC',\n",
    "       'HF Responsibility Fund', 'Higher Heights for America PAC',\n",
    "       'HTC Non Federal Cope', 'IAHFIAW Local Union No. 12','IBEW New York PAC',\n",
    "       'IBT Joint Council No. 16 PAC', 'International Longshoremens As',\n",
    "       'International Union of Operati', 'Intl Union of Elevator Constru',\n",
    "       'Ironworkers Political Action L', 'IUOE LOCAL 14-14B VPAC',\n",
    "       'IUOE Local 15', 'Jim Owles Liberal Democratic C',\n",
    "       'JPMorgan Chase & Co. PAC', 'Katzenberg Family Trust',\n",
    "       'Keith For NYC', 'Kenneth j. esq.', 'L-PAC',\n",
    "       'Lew Fidler for New York', 'Linda Rosenthal for Assembly',\n",
    "       'Local 372 AFSCME Political Fun', 'Local 508 District Council 37',\n",
    "       'Local 6 Com. on Political Edu.', 'Local 6 Committee On Political',\n",
    "       'LOCAL 813 I.B.T.', 'Local 813 IBT', 'Local 891, IUOE State EPEC',\n",
    "       'LOCAL 924 FOR NEW YORK CITY', 'Madison Square Garden NY PAC',\n",
    "       'Mason Tenders District Council', 'McGinn for Staten Island',\n",
    "       'MSG PAC', 'New york City Electronic Data',\n",
    "       'New York City Local 246 (SEIU', 'New york Hotel Trade Council C',\n",
    "       'New York State Laborers PAC',\n",
    "       'New Yorkers for Putting Studen', 'Nightingale Corp',\n",
    "       'Noble For City Council', \n",
    "       'NY 10-13 Association', 'NY UAW Region 9A PAC Council',\n",
    "       'NYC District Council of Carpen', 'NYC Property Tax Fairness PAC',\n",
    "       'Oilheat PAC', 'Organization of Staff Analysts',\n",
    "       'Partnership for New York City', 'People for Diaz',\n",
    "       'Pepitone for NYC', 'Plumbers Local Union #1 NYC','police Benevolent Association',\n",
    "       'Public Empolyees Federation', 'Quant Technologies LLC',\n",
    "       'Ranco LLC', 'Resilience PAC', 'Retail Wholesale and Departmen',\n",
    "       'Retail Wholesale&D.Store Union', 'RPAC of New York State',\n",
    "       'RUGFRIT 1350 LLC', 'SANITATION OFFICERS ASSOCIATIO',\n",
    "       'Save Democracy PAC', 'Service Employees Internationa',\n",
    "       'Sheet Metal Workers Union Loca', 'SK2 Holdings LLC',\n",
    "       'Smart Local 28 Political Actio', 'Smart Local Union No. 28',\n",
    "       'SMF POLITICAL ACTION COMMITTEE', 'SmithieForMayor',\n",
    "       'Social Service Employees Union', 'Space Bushwick',\n",
    "       'Speaker Heastie PAC', 'SSL', \n",
    "       'Steamfitters Local 638 PAC', 'Steve cohen', 'StreetsPAC',\n",
    "       'TAKE BACK NYC', 'Taxpayers for an Affordable Ne', 'Taxpayers for an Affordable NY',\n",
    "       'Teamsters Local Union 282', 'Tempo 802',\n",
    "       'The Captin Endowment Associati', 'Theatrical Teamsters Local 817',\n",
    "       'Tile Marble & Terrazzo', 'TPU local 1 IATSE Stagehands',\n",
    "       'Transport Workers Union Local', 'Tribute Restoraton Inc',\n",
    "       'UFOA 527', 'Uniformed EMS Officers 3621',\n",
    "       'Uniformed EMS Officers Union F', 'Uniformed EMTS, Paramedics',\n",
    "       'Uniformed Fire Officers',\n",
    "       'Uniformed Firefighters Associa', 'Uniformed Sanitation Chiefs',\n",
    "       \"Uniformed Sanitationmen's Ass'\", \n",
    "       'Union Local 262', 'United Cement Masons Union Loc',\n",
    "       'United Federation of Teachers', 'United Probation Officers Asso',\n",
    "       'WM NY PAC']"
   ]
  },
  {
   "cell_type": "code",
   "execution_count": 7,
   "metadata": {},
   "outputs": [],
   "source": [
    "org_codes = ['PCOMP','EMPO','PCOMC','CORP',\"PCOMZ\",'LLC','OTHR']\n",
    "mayor_org = mayor_df[mayor_df['C_CODE'].isin(org_codes)]"
   ]
  },
  {
   "cell_type": "code",
   "execution_count": 11,
   "metadata": {},
   "outputs": [
    {
     "name": "stderr",
     "output_type": "stream",
     "text": [
      "C:\\Users\\samtg\\AppData\\Local\\Temp\\ipykernel_25948\\907291246.py:1: SettingWithCopyWarning: \n",
      "A value is trying to be set on a copy of a slice from a DataFrame.\n",
      "Try using .loc[row_indexer,col_indexer] = value instead\n",
      "\n",
      "See the caveats in the documentation: https://pandas.pydata.org/pandas-docs/stable/user_guide/indexing.html#returning-a-view-versus-a-copy\n",
      "  mayor_org['cleaned_name'] = mayor_org['NAME'].apply(lambda x: get_closest_match(x, org_key))\n"
     ]
    }
   ],
   "source": [
    "mayor_org['cleaned_name'] = mayor_org['NAME'].apply(lambda x: get_closest_match(x, org_key))"
   ]
  },
  {
   "cell_type": "markdown",
   "metadata": {},
   "source": [
    "alternate ethnicity coding "
   ]
  },
  {
   "cell_type": "code",
   "execution_count": 17,
   "metadata": {},
   "outputs": [],
   "source": [
    "import pyethnicity"
   ]
  },
  {
   "cell_type": "code",
   "execution_count": 28,
   "metadata": {},
   "outputs": [
    {
     "data": {
      "text/html": [
       "<div>\n",
       "<style scoped>\n",
       "    .dataframe tbody tr th:only-of-type {\n",
       "        vertical-align: middle;\n",
       "    }\n",
       "\n",
       "    .dataframe tbody tr th {\n",
       "        vertical-align: top;\n",
       "    }\n",
       "\n",
       "    .dataframe thead th {\n",
       "        text-align: right;\n",
       "    }\n",
       "</style>\n",
       "<table border=\"1\" class=\"dataframe\">\n",
       "  <thead>\n",
       "    <tr style=\"text-align: right;\">\n",
       "      <th></th>\n",
       "      <th>first_name</th>\n",
       "      <th>last_name</th>\n",
       "      <th>zcta</th>\n",
       "      <th>asian</th>\n",
       "      <th>black</th>\n",
       "      <th>hispanic</th>\n",
       "      <th>white</th>\n",
       "    </tr>\n",
       "  </thead>\n",
       "  <tbody>\n",
       "    <tr>\n",
       "      <th>0</th>\n",
       "      <td>Sam</td>\n",
       "      <td>Goodson</td>\n",
       "      <td>11225</td>\n",
       "      <td>0.006307</td>\n",
       "      <td>0.794639</td>\n",
       "      <td>0.004088</td>\n",
       "      <td>0.194967</td>\n",
       "    </tr>\n",
       "  </tbody>\n",
       "</table>\n",
       "</div>"
      ],
      "text/plain": [
       "  first_name last_name   zcta     asian     black  hispanic     white\n",
       "0        Sam   Goodson  11225  0.006307  0.794639  0.004088  0.194967"
      ]
     },
     "execution_count": 28,
     "metadata": {},
     "output_type": "execute_result"
    }
   ],
   "source": [
    "pyethnicity.bifsg('Sam', 'Goodson', '11225', geo_type=\"zcta\")"
   ]
  },
  {
   "cell_type": "code",
   "execution_count": 14,
   "metadata": {},
   "outputs": [
    {
     "data": {
      "text/html": [
       "<div>\n",
       "<style scoped>\n",
       "    .dataframe tbody tr th:only-of-type {\n",
       "        vertical-align: middle;\n",
       "    }\n",
       "\n",
       "    .dataframe tbody tr th {\n",
       "        vertical-align: top;\n",
       "    }\n",
       "\n",
       "    .dataframe thead th {\n",
       "        text-align: right;\n",
       "    }\n",
       "</style>\n",
       "<table border=\"1\" class=\"dataframe\">\n",
       "  <thead>\n",
       "    <tr style=\"text-align: right;\">\n",
       "      <th></th>\n",
       "      <th>recipname</th>\n",
       "      <th>date</th>\n",
       "      <th>first_name</th>\n",
       "      <th>last_name</th>\n",
       "      <th>city</th>\n",
       "      <th>state</th>\n",
       "      <th>zip</th>\n",
       "      <th>occupation</th>\n",
       "      <th>empname</th>\n",
       "      <th>amnt</th>\n",
       "      <th>white</th>\n",
       "      <th>black</th>\n",
       "      <th>api</th>\n",
       "      <th>native</th>\n",
       "      <th>multiple</th>\n",
       "      <th>hispanic</th>\n",
       "      <th>refno</th>\n",
       "    </tr>\n",
       "  </thead>\n",
       "  <tbody>\n",
       "    <tr>\n",
       "      <th>0</th>\n",
       "      <td>Abreu, Adolfo</td>\n",
       "      <td>10/1/2020</td>\n",
       "      <td>Lara</td>\n",
       "      <td>Abiona</td>\n",
       "      <td>Cherry Hill</td>\n",
       "      <td>NJ</td>\n",
       "      <td>08003</td>\n",
       "      <td>Student</td>\n",
       "      <td>NaN</td>\n",
       "      <td>10.0</td>\n",
       "      <td>NaN</td>\n",
       "      <td>NaN</td>\n",
       "      <td>NaN</td>\n",
       "      <td>NaN</td>\n",
       "      <td>NaN</td>\n",
       "      <td>NaN</td>\n",
       "      <td>R0001855</td>\n",
       "    </tr>\n",
       "    <tr>\n",
       "      <th>1</th>\n",
       "      <td>Abreu, Adolfo</td>\n",
       "      <td>1/11/2021</td>\n",
       "      <td>Benjamin</td>\n",
       "      <td>Abrams</td>\n",
       "      <td>Brooklyn</td>\n",
       "      <td>NY</td>\n",
       "      <td>11226</td>\n",
       "      <td>Unemployed</td>\n",
       "      <td>NaN</td>\n",
       "      <td>10.0</td>\n",
       "      <td>0.106055</td>\n",
       "      <td>0.843409</td>\n",
       "      <td>0.001083</td>\n",
       "      <td>0.00172</td>\n",
       "      <td>0.02252</td>\n",
       "      <td>0.025213</td>\n",
       "      <td>R0003932</td>\n",
       "    </tr>\n",
       "    <tr>\n",
       "      <th>2</th>\n",
       "      <td>Abreu, Adolfo</td>\n",
       "      <td>8/12/2020</td>\n",
       "      <td>Adolfo</td>\n",
       "      <td>Abreu</td>\n",
       "      <td>The Bronx</td>\n",
       "      <td>NY</td>\n",
       "      <td>10468</td>\n",
       "      <td>Organizing Director</td>\n",
       "      <td>Northwest Bronx Community and</td>\n",
       "      <td>850.0</td>\n",
       "      <td>0.000060</td>\n",
       "      <td>0.000075</td>\n",
       "      <td>0.000037</td>\n",
       "      <td>0.00000</td>\n",
       "      <td>0.00000</td>\n",
       "      <td>0.999829</td>\n",
       "      <td>R0000076</td>\n",
       "    </tr>\n",
       "    <tr>\n",
       "      <th>3</th>\n",
       "      <td>Abreu, Adolfo</td>\n",
       "      <td>8/10/2020</td>\n",
       "      <td>Adolfo</td>\n",
       "      <td>Abreu</td>\n",
       "      <td>The Bronx</td>\n",
       "      <td>NY</td>\n",
       "      <td>10468</td>\n",
       "      <td>Organizing Director</td>\n",
       "      <td>Northwest Bronx Community and</td>\n",
       "      <td>100.0</td>\n",
       "      <td>0.000060</td>\n",
       "      <td>0.000075</td>\n",
       "      <td>0.000037</td>\n",
       "      <td>0.00000</td>\n",
       "      <td>0.00000</td>\n",
       "      <td>0.999829</td>\n",
       "      <td>R0000086</td>\n",
       "    </tr>\n",
       "    <tr>\n",
       "      <th>4</th>\n",
       "      <td>Abreu, Adolfo</td>\n",
       "      <td>8/13/2020</td>\n",
       "      <td>Adolfo</td>\n",
       "      <td>Abreu</td>\n",
       "      <td>The Bronx</td>\n",
       "      <td>NY</td>\n",
       "      <td>10468</td>\n",
       "      <td>Organizing Director</td>\n",
       "      <td>Northwest Bronx Community and</td>\n",
       "      <td>50.0</td>\n",
       "      <td>0.000060</td>\n",
       "      <td>0.000075</td>\n",
       "      <td>0.000037</td>\n",
       "      <td>0.00000</td>\n",
       "      <td>0.00000</td>\n",
       "      <td>0.999829</td>\n",
       "      <td>R0000119</td>\n",
       "    </tr>\n",
       "    <tr>\n",
       "      <th>...</th>\n",
       "      <td>...</td>\n",
       "      <td>...</td>\n",
       "      <td>...</td>\n",
       "      <td>...</td>\n",
       "      <td>...</td>\n",
       "      <td>...</td>\n",
       "      <td>...</td>\n",
       "      <td>...</td>\n",
       "      <td>...</td>\n",
       "      <td>...</td>\n",
       "      <td>...</td>\n",
       "      <td>...</td>\n",
       "      <td>...</td>\n",
       "      <td>...</td>\n",
       "      <td>...</td>\n",
       "      <td>...</td>\n",
       "      <td>...</td>\n",
       "    </tr>\n",
       "    <tr>\n",
       "      <th>16630</th>\n",
       "      <td>Lin, Yu</td>\n",
       "      <td>2/15/2021</td>\n",
       "      <td>YI BO</td>\n",
       "      <td>ZHU</td>\n",
       "      <td>Brooklyn</td>\n",
       "      <td>NY</td>\n",
       "      <td>11220</td>\n",
       "      <td>RETIRED</td>\n",
       "      <td>NaN</td>\n",
       "      <td>100.0</td>\n",
       "      <td>NaN</td>\n",
       "      <td>NaN</td>\n",
       "      <td>NaN</td>\n",
       "      <td>NaN</td>\n",
       "      <td>NaN</td>\n",
       "      <td>NaN</td>\n",
       "      <td>R0001329</td>\n",
       "    </tr>\n",
       "    <tr>\n",
       "      <th>16631</th>\n",
       "      <td>Lin, Yu</td>\n",
       "      <td>1/16/2021</td>\n",
       "      <td>Yunying</td>\n",
       "      <td>Zhu</td>\n",
       "      <td>Brooklyn</td>\n",
       "      <td>NY</td>\n",
       "      <td>11220</td>\n",
       "      <td>Unemployed</td>\n",
       "      <td>NaN</td>\n",
       "      <td>50.0</td>\n",
       "      <td>NaN</td>\n",
       "      <td>NaN</td>\n",
       "      <td>NaN</td>\n",
       "      <td>NaN</td>\n",
       "      <td>NaN</td>\n",
       "      <td>NaN</td>\n",
       "      <td>R0000825</td>\n",
       "    </tr>\n",
       "    <tr>\n",
       "      <th>16632</th>\n",
       "      <td>Lin, Yu</td>\n",
       "      <td>1/9/2021</td>\n",
       "      <td>Xi</td>\n",
       "      <td>Ziang</td>\n",
       "      <td>Brooklyn</td>\n",
       "      <td>NY</td>\n",
       "      <td>11220</td>\n",
       "      <td>NaN</td>\n",
       "      <td>NaN</td>\n",
       "      <td>10.0</td>\n",
       "      <td>NaN</td>\n",
       "      <td>NaN</td>\n",
       "      <td>NaN</td>\n",
       "      <td>NaN</td>\n",
       "      <td>NaN</td>\n",
       "      <td>NaN</td>\n",
       "      <td>R0000327</td>\n",
       "    </tr>\n",
       "    <tr>\n",
       "      <th>16633</th>\n",
       "      <td>Lin, Yu</td>\n",
       "      <td>1/11/2021</td>\n",
       "      <td>Chang Li</td>\n",
       "      <td>Zou</td>\n",
       "      <td>Brooklyn</td>\n",
       "      <td>NY</td>\n",
       "      <td>11219</td>\n",
       "      <td>NaN</td>\n",
       "      <td>NaN</td>\n",
       "      <td>10.0</td>\n",
       "      <td>NaN</td>\n",
       "      <td>NaN</td>\n",
       "      <td>NaN</td>\n",
       "      <td>NaN</td>\n",
       "      <td>NaN</td>\n",
       "      <td>NaN</td>\n",
       "      <td>R0000398</td>\n",
       "    </tr>\n",
       "    <tr>\n",
       "      <th>16634</th>\n",
       "      <td>Lin, Yu</td>\n",
       "      <td>1/11/2021</td>\n",
       "      <td>Xue Qun</td>\n",
       "      <td>zou</td>\n",
       "      <td>Brooklyn</td>\n",
       "      <td>NY</td>\n",
       "      <td>11219</td>\n",
       "      <td>NaN</td>\n",
       "      <td>NaN</td>\n",
       "      <td>20.0</td>\n",
       "      <td>NaN</td>\n",
       "      <td>NaN</td>\n",
       "      <td>NaN</td>\n",
       "      <td>NaN</td>\n",
       "      <td>NaN</td>\n",
       "      <td>NaN</td>\n",
       "      <td>R0000400</td>\n",
       "    </tr>\n",
       "  </tbody>\n",
       "</table>\n",
       "<p>16635 rows × 17 columns</p>\n",
       "</div>"
      ],
      "text/plain": [
       "           recipname       date first_name last_name         city state  \\\n",
       "0      Abreu, Adolfo  10/1/2020       Lara    Abiona  Cherry Hill    NJ   \n",
       "1      Abreu, Adolfo  1/11/2021   Benjamin    Abrams     Brooklyn    NY   \n",
       "2      Abreu, Adolfo  8/12/2020     Adolfo     Abreu    The Bronx    NY   \n",
       "3      Abreu, Adolfo  8/10/2020     Adolfo     Abreu    The Bronx    NY   \n",
       "4      Abreu, Adolfo  8/13/2020     Adolfo     Abreu    The Bronx    NY   \n",
       "...              ...        ...        ...       ...          ...   ...   \n",
       "16630        Lin, Yu  2/15/2021      YI BO       ZHU     Brooklyn    NY   \n",
       "16631        Lin, Yu  1/16/2021    Yunying       Zhu     Brooklyn    NY   \n",
       "16632        Lin, Yu   1/9/2021         Xi     Ziang     Brooklyn    NY   \n",
       "16633        Lin, Yu  1/11/2021   Chang Li       Zou     Brooklyn    NY   \n",
       "16634        Lin, Yu  1/11/2021    Xue Qun       zou     Brooklyn    NY   \n",
       "\n",
       "         zip           occupation                        empname   amnt  \\\n",
       "0      08003              Student                            NaN   10.0   \n",
       "1      11226           Unemployed                            NaN   10.0   \n",
       "2      10468  Organizing Director  Northwest Bronx Community and  850.0   \n",
       "3      10468  Organizing Director  Northwest Bronx Community and  100.0   \n",
       "4      10468  Organizing Director  Northwest Bronx Community and   50.0   \n",
       "...      ...                  ...                            ...    ...   \n",
       "16630  11220              RETIRED                            NaN  100.0   \n",
       "16631  11220           Unemployed                            NaN   50.0   \n",
       "16632  11220                  NaN                            NaN   10.0   \n",
       "16633  11219                  NaN                            NaN   10.0   \n",
       "16634  11219                  NaN                            NaN   20.0   \n",
       "\n",
       "          white     black       api   native  multiple  hispanic     refno  \n",
       "0           NaN       NaN       NaN      NaN       NaN       NaN  R0001855  \n",
       "1      0.106055  0.843409  0.001083  0.00172   0.02252  0.025213  R0003932  \n",
       "2      0.000060  0.000075  0.000037  0.00000   0.00000  0.999829  R0000076  \n",
       "3      0.000060  0.000075  0.000037  0.00000   0.00000  0.999829  R0000086  \n",
       "4      0.000060  0.000075  0.000037  0.00000   0.00000  0.999829  R0000119  \n",
       "...         ...       ...       ...      ...       ...       ...       ...  \n",
       "16630       NaN       NaN       NaN      NaN       NaN       NaN  R0001329  \n",
       "16631       NaN       NaN       NaN      NaN       NaN       NaN  R0000825  \n",
       "16632       NaN       NaN       NaN      NaN       NaN       NaN  R0000327  \n",
       "16633       NaN       NaN       NaN      NaN       NaN       NaN  R0000398  \n",
       "16634       NaN       NaN       NaN      NaN       NaN       NaN  R0000400  \n",
       "\n",
       "[16635 rows x 17 columns]"
      ]
     },
     "execution_count": 14,
     "metadata": {},
     "output_type": "execute_result"
    }
   ],
   "source": [
    "cand_geo"
   ]
  }
 ],
 "metadata": {
  "kernelspec": {
   "display_name": "Python 3",
   "language": "python",
   "name": "python3"
  },
  "language_info": {
   "codemirror_mode": {
    "name": "ipython",
    "version": 3
   },
   "file_extension": ".py",
   "mimetype": "text/x-python",
   "name": "python",
   "nbconvert_exporter": "python",
   "pygments_lexer": "ipython3",
   "version": "3.11.4"
  }
 },
 "nbformat": 4,
 "nbformat_minor": 2
}
