{
 "cells": [
  {
   "cell_type": "code",
   "execution_count": 1,
   "metadata": {},
   "outputs": [],
   "source": [
    "import pandas as pd\n",
    "import numpy as np"
   ]
  },
  {
   "cell_type": "code",
   "execution_count": 2,
   "metadata": {},
   "outputs": [],
   "source": [
    "import geopandas as gpd\n",
    "import pandas as pd\n",
    "from shapely.geometry import Point"
   ]
  },
  {
   "cell_type": "code",
   "execution_count": 3,
   "metadata": {},
   "outputs": [],
   "source": [
    "from fuzzywuzzy import process, fuzz"
   ]
  },
  {
   "cell_type": "code",
   "execution_count": 4,
   "metadata": {},
   "outputs": [],
   "source": [
    "import pgeocode"
   ]
  },
  {
   "cell_type": "code",
   "execution_count": 5,
   "metadata": {},
   "outputs": [],
   "source": [
    "def normalize_name(name):\n",
    "    if ',' in name:\n",
    "        last_name, first_name = name.split(', ')\n",
    "        return f\"{first_name} {last_name}\"\n",
    "    else:\n",
    "        return name"
   ]
  },
  {
   "cell_type": "code",
   "execution_count": 6,
   "metadata": {},
   "outputs": [],
   "source": [
    "def fuzzy_merge(df1, df2, key1, key2, threshold=90):\n",
    "    matched_names = []\n",
    "\n",
    "    for name in df1[key1]:\n",
    "        match, score, _ = process.extractOne(name, df2[key2], scorer=fuzz.token_sort_ratio)\n",
    "        if score >= threshold:\n",
    "            matched_names.append((name, match, score))\n",
    "\n",
    "    return pd.DataFrame(matched_names, columns=[key1, key2, 'score'])"
   ]
  },
  {
   "cell_type": "code",
   "execution_count": 7,
   "metadata": {},
   "outputs": [],
   "source": [
    "org_key = ['1199 SEIU','32 BJ SEIU', '536 Laguadia Place','57th Ave Liquor and Wine', 'A Print Solution LLC', 'Abdoulaye Barry', 'ACEC New York City',\n",
    "       'ActBlue', 'AFSCME-Local 1407', 'AIA New York Chapter','Alan Maisel for Council', 'Alessandra Biaggi, Committee t',\n",
    "       'Allied Printing Trades Counci', 'Allied Printing Trades Council',\n",
    "       'Alphajor Barrie', 'Althea & Friends TIE', 'Amalgamated Transit Union',\n",
    "       'American Council of Engineerin', 'Assistant Deputy Wardens/Deput',\n",
    "       'BRAB PAC','Bricklayers & Allied Craftwork', 'Building &  Construction Trade',\n",
    "       'Carlina 2021', \"Carolyn's PAC\", 'Central Labor Council, AFL-CIO',\n",
    "       'Civil Service Employee Politic', 'Committee on Political Educati',\n",
    "       'Communications Workers of Amer', 'Correction Officers Benevolent', 'Council of School Supervisors', 'COurage to Change NY',\n",
    "       'Courage to Change NYC', \"Cozen O'Connor PAC\", 'CWA District One', 'D&M PAC', 'Dianne Morales for NYC',\n",
    "       'District Council 37', 'Doctors Council SEIU' ,'Downtown Women for Change',\n",
    "       \"Edgewater Park Owners' Coopera\", \"Emily's List-NF Fund\", 'Empire Dental Political Action',\n",
    "       'Friends of Ralph Perfetto', 'Greenberg Taurig',\n",
    "       'IBT Joint Council No 16 PAC', 'Keith For NYC',\n",
    "       'Local 813 IBT Political Action', 'Local 983',\n",
    "       'Madison Square Garden NY PAC', 'Mason Tenders District Council',\n",
    "       'Metavante Corp', 'Neighborhood Preservation PAC',\n",
    "       'New York City Central Labor Co', 'New York State Laborers', 'New York State Nurses Associat',\n",
    "       'New Yorkers for Savino', 'New Yorkers Putting Students F',\n",
    "       'NYC District Council Of Carpen',\n",
    "       'NYC DSA', \n",
    "       'Police Benevolent Association', 'PSC PAC', 'Riley for the Bronx',\n",
    "       'RPAC of New York State', 'Stonewall Democratic Club of N',\n",
    "       'StreetsPac', 'Teamsters Local Union No 202',\n",
    "       'Tile, Marble, & Terrazo Local', 'Transport Workers Union Local',\n",
    "       'U.A. Steamfitters L.U. 638', 'United Federation of Teachers','ACEC New York City']"
   ]
  },
  {
   "cell_type": "code",
   "execution_count": 8,
   "metadata": {},
   "outputs": [
    {
     "name": "stderr",
     "output_type": "stream",
     "text": [
      "C:\\Users\\samtg\\AppData\\Local\\Temp\\ipykernel_26904\\676309483.py:1: DtypeWarning: Columns (46,47) have mixed types. Specify dtype option on import or set low_memory=False.\n",
      "  all_cc = pd.read_csv('../data/candidates/all_cc.csv')\n"
     ]
    }
   ],
   "source": [
    "all_cc = pd.read_csv('../data/candidates/all_cc.csv')\n",
    "all_cc_df = all_cc[['REFNO', 'DATE','NAME','RECIPNAME', 'AMNT','SCHEDULE','C_CODE','PURPOSECD','OCCUPATION','EMPNAME','ZIP']]"
   ]
  },
  {
   "cell_type": "code",
   "execution_count": 9,
   "metadata": {},
   "outputs": [],
   "source": [
    "faction_compare = pd.read_csv('../data/faction_compare.csv') "
   ]
  },
  {
   "cell_type": "code",
   "execution_count": 10,
   "metadata": {},
   "outputs": [
    {
     "data": {
      "text/plain": [
       "C_CODE\n",
       "IND      161629\n",
       "PCOMP      1136\n",
       "CAN         840\n",
       "FAM         542\n",
       "OTHR        114\n",
       "SPO          93\n",
       "EMPO         91\n",
       "CORP         84\n",
       "PCOMC        82\n",
       "PCOMZ        54\n",
       "LLC          26\n",
       "PART          3\n",
       "Name: count, dtype: int64"
      ]
     },
     "execution_count": 10,
     "metadata": {},
     "output_type": "execute_result"
    }
   ],
   "source": [
    "all_cc_df['C_CODE'].value_counts()"
   ]
  },
  {
   "cell_type": "code",
   "execution_count": 11,
   "metadata": {},
   "outputs": [
    {
     "name": "stderr",
     "output_type": "stream",
     "text": [
      "C:\\Users\\samtg\\AppData\\Local\\Temp\\ipykernel_26904\\2387651597.py:1: SettingWithCopyWarning: \n",
      "A value is trying to be set on a copy of a slice from a DataFrame.\n",
      "Try using .loc[row_indexer,col_indexer] = value instead\n",
      "\n",
      "See the caveats in the documentation: https://pandas.pydata.org/pandas-docs/stable/user_guide/indexing.html#returning-a-view-versus-a-copy\n",
      "  all_cc_df['normalized_mem'] = all_cc_df['RECIPNAME'].apply(lambda x: normalize_name(x))\n"
     ]
    }
   ],
   "source": [
    "all_cc_df['normalized_mem'] = all_cc_df['RECIPNAME'].apply(lambda x: normalize_name(x))"
   ]
  },
  {
   "cell_type": "code",
   "execution_count": 12,
   "metadata": {},
   "outputs": [
    {
     "data": {
      "text/plain": [
       "array(['Rodrigo Camarena', 'Jenny L Low', 'James F Gennaro',\n",
       "       'Leslie Boghosian Murphy', 'Benjamin Solotaire', 'Elizabeth Adams',\n",
       "       'Shirley S Paul', 'Lynn Schulman', 'Mercedes Narcisse',\n",
       "       'Kamillah M Hanks', 'Amoy K Barnes', 'Jaslin Kaur',\n",
       "       'Charles Barron', 'Shahana Hanif', 'Amanda Farias', 'Amit S Bagga',\n",
       "       'John Choe', 'Julie Menin', 'Selvena Brooks-Powers', 'Ari Kagan',\n",
       "       'Rafael Salamanca', 'Keith Powers', 'Marjorie Velazquez',\n",
       "       'Cordell Cleare', 'Briget Rein', 'Eric Dinowitz',\n",
       "       'Shekar Krishnan', 'Rita C Joseph', 'Althea V Stevens',\n",
       "       'Crystal Hudson', 'Wilfredo Florentino', 'Alexa Aviles',\n",
       "       'Erik Bottcher', 'Juan D Ardila', 'Pierina A Sanchez', 'Julie Won',\n",
       "       'Carolyn T Tran', 'Alicka Ampry-Samuel', 'Carmen De La Rosa',\n",
       "       'Adrienne Adams', 'Felicia Singh', 'Kevin C Riley', 'Chi Osse',\n",
       "       'Tiffany Caban', 'Jesse D Laymon', 'Linda Lee', 'Mariya Markh',\n",
       "       'Gale Brewer', 'Justin Brannan', 'Jennifer Gutierrez',\n",
       "       'Francisco P Moya', 'Diana I Ayala', 'Nantasha Williams',\n",
       "       'Sandra Ung', 'Stacy R Lynch', 'Shaun Abreu', 'Tony Avella',\n",
       "       'Carlina Rivera', 'Gigi Li', 'Oswald Feliz', 'Ischia Bravo',\n",
       "       'George Onuorah', 'Harold Tischler', 'Edwin Raymond',\n",
       "       'Abigail J Martin', 'Kim Moscaritolo', 'Fatima Baryab',\n",
       "       'Mamnunul M Haq', 'Dimple Willabus', 'Alexander N Rias',\n",
       "       'Kerryanne C Burke', 'Judy D Newton', 'Farah Louis',\n",
       "       'Maria Ordonez', 'Daniel M Cohen', 'Yudelka Tapia',\n",
       "       'Carmen Quinones', 'Rick Echevarria', 'William A Allen',\n",
       "       'Alfonso Quiroz', 'Steven Raga', 'Kaled A Alamarie',\n",
       "       'Emily Sharpe', 'Robert Waterman', 'Edwin Wong',\n",
       "       'Denise M Keehan-Smith', 'Michael D Hollingsworth',\n",
       "       'Edwin DeJesus', 'Leonardo Bullaro', 'Kathleen Sforza',\n",
       "       'Steven Saperstein', 'David Aronov', 'Mario Rosser',\n",
       "       'Corey Ortega', 'Rebecca Lamorte', 'Sheba T Simpson',\n",
       "       'Anthony Miranda', 'Glennis E Gomez', 'Raymond Sanchez',\n",
       "       'Eliseo D Labayen', 'Ranti Ogunleye', 'Olivia Drabczyk',\n",
       "       'Michael P Schnall', 'Joseph Borelli', 'Sharon Levy', 'Maud Maron',\n",
       "       'Curtis M Harris', 'Justin M Krebs', 'Marti G Allen-Cummings',\n",
       "       'Douglas Schneider', 'Jason Clark', 'Seth M Rosen',\n",
       "       'Tricia Shimamura', 'Richard J Lee', 'Sandy Nurse',\n",
       "       'Hiram Monserrate', 'Sam T Pirozzolo', 'Misba Abdin', 'Mike Scala',\n",
       "       'Helal A Sheikh', 'Monique S Johnson', 'Abdourahamane Diallo',\n",
       "       'Ahmadou T Diallo', 'Gregory S Green', 'Regina Kinsey',\n",
       "       'Mohammed N Mujumder', 'James J Johnson', 'Timothy E Turane',\n",
       "       'Tahirah A Moore', 'Anthony Beckford', 'Victor Swinton',\n",
       "       'Yves T Filius', 'Keith L Taylor', 'Mark Gjonaj', 'Steve Behar',\n",
       "       'Saifur R Khan', 'Mujib U Rahman', \"Brent M O'Leary\",\n",
       "       'Julia Forman', 'Kenya Handy-Hilliard', 'Athena Moore',\n",
       "       'Sara K Lind', 'Josue Pierre', 'Darlene Jackson',\n",
       "       'Phelan-Dante Fitzpatrick', 'Mohammad S Uddin', 'Leonardo Coello',\n",
       "       'Tiffany A Tucker-Pryor', 'Maxi Eugene', 'Billy Freeland',\n",
       "       'April Somboun', 'Robert F Holden', 'Kristin R Jordan',\n",
       "       'Jeffrey Omura', 'Amber Adler', 'Tiffany Winbush',\n",
       "       'Aleta A LaFargue', 'Ebony R Young', 'Austin Shafran',\n",
       "       'Adolfo Abreu', 'Inna Vernikov', 'Erin Z Hussein',\n",
       "       'Evie Hantzopoulos', 'Darlene Mealy', 'Aidan Q Rivera',\n",
       "       'Moumita Ahmed', 'Koshy O Thomas', 'Felicia Kalan', 'Marni Halasa',\n",
       "       'Gardy Brazela', 'Cyril F Joseph', 'Binyomin Bendet',\n",
       "       'Anthony Rivers', 'Bill Perkins', 'David M Carr', 'Hailing Chen',\n",
       "       'Angela Fernandez', 'Brandon West', 'Vivia Morgan',\n",
       "       'Jonathan Bailey', 'Aleda F Gagarin', 'Lincoln Restler',\n",
       "       'Douglas J Shapiro', 'Christopher Marte', 'Steven Patzer',\n",
       "       'Harold C Miller', 'Kalman Yeger', 'Daniel Padernacht',\n",
       "       'Maria A Danzilo', 'Boris Noble', 'Bella A Matias',\n",
       "       'Manny De Los Santos', 'Talea E Wufka', 'Fernando A Aquino',\n",
       "       'Liliana C Melo', 'Marie M Adam-Ovide', 'Josue G Perez',\n",
       "       'William Rivera', 'Luis M Tejada', 'Thomas A Leon',\n",
       "       'Mirza M Rashid', 'Brian Fox', 'Marvin R Jeffcoat',\n",
       "       'Mark Szuszkiewicz', 'Henry L Butler', 'Sal F Albanese',\n",
       "       'Toba Potosky', 'Haile M Rivera', 'Juan Pagan', 'Marcos A Sierra',\n",
       "       'John Sanchez', 'Tamika Mapp', 'Lorenzo Brea',\n",
       "       'Edwin R De La Cruz', 'Shaeleigh M Severino', 'Joann Ariola',\n",
       "       'Rafael Acevedo', 'Ingrid P Gomez', 'Avi Cyperstein',\n",
       "       'Socrates S Solano', 'Nabaraj KC', 'Alejandra L Caraballo',\n",
       "       'Johanna Garcia', 'Regina Edwards', 'Heajin Kim', 'Joshua Kravitz',\n",
       "       'Victor Jordan', 'Dao Yin', 'Shanequa E Moore', 'Andy J Marte',\n",
       "       'Tirso S Pina', 'Lena A Melendez', 'Heriberto Mateo',\n",
       "       'Keith Harris', 'George S Wonica', 'Jordan Hafizi', 'Eliu A Lara',\n",
       "       'Mark Foley', 'Jason L Walker', 'Debra Markell',\n",
       "       'Raimondo Graziano', 'Selina Grey', 'Cecilia C Cortez',\n",
       "       'Terrell L Finner', 'Louis A Cespedes', 'Victoria E Cambranes',\n",
       "       'Nikki Lucas', 'Jacqueline Painter', 'Arthur Z Schwartz',\n",
       "       'David Aiken', 'Leroy Gadsden', 'Al-Hassan Kanu', 'Helen Hines',\n",
       "       'Nicholas Roloson', 'Christopher Durosinmi', 'Whitney A Hu',\n",
       "       'Troy McGhie', 'Philippe-Edner Apostol-Marius', 'Uniqua S Smith',\n",
       "       'Donghui Zang', 'Neng Wang', 'Kelvin Richards', 'John F McBeth',\n",
       "       'Abou Diakhate', 'Sultan Maruf', 'Donald J Cranston',\n",
       "       'Allison L Ryan', 'Deirdre M Levy', 'Vickie Paladino',\n",
       "       'Sanjeev Jindal', 'Renee Collymore', 'Christopher A Sosa',\n",
       "       'Adriana P Aviles', 'Manuel F Perez', 'Michael Beltzer',\n",
       "       'Harriet L Hines', 'John Williams', 'Joseph Packer',\n",
       "       'Harpreet S Toor', 'John J Joyner Jr', 'Blake Morris', 'Rene Hill',\n",
       "       'Joshua Clennon', 'Ruben Cruz', 'Jacqueline Toboroff',\n",
       "       'Brian A Cunningham', 'Terrance D Knox', 'Lilithe L Lozano',\n",
       "       'Marcelle Lashley-Kabore', 'Ceasar Zuniga', 'Marko Kepi',\n",
       "       'Zuri S Jackson', 'Japneet Singh', 'Julian S Sepulveda',\n",
       "       'Darma V Diaz', 'Badrun N Khan', 'Jomo Williams',\n",
       "       'Jesse A Cerrotti', 'Lattina Brown', 'Yu-Ching James Pai',\n",
       "       'Mino Lora', 'Ellen Young', 'Alec Brook Krasny',\n",
       "       'Benjamin I Guttmann', 'Sabrina Gates', 'Jennifer E DeLuca',\n",
       "       'Vanessa Simon', 'Jermaine Sean Smith', 'Jeanette Toomer',\n",
       "       'Sean C Hayes', 'Nicholas B Velkov', 'Scott F Murphy',\n",
       "       'Shah S Haque', 'Jessica Simmons', 'Sean A Esrafily',\n",
       "       'Catherina Gioino', 'Michael S Conigliaro', 'Hector Robertson',\n",
       "       'Stuart C Sherman', 'James F Reilly', 'Jason R Price',\n",
       "       'John-Alexander Sakelos', 'David T Alexis', 'Micah Peterson',\n",
       "       'Rod Townsend', 'Kenichi Wilson', 'Ruben Wills', 'Alpheaus Marcus',\n",
       "       'Pierre Gooding', 'Susan Lee', 'Billy K Council', 'Gena M Watson',\n",
       "       'David Hernandez', 'Reginald Swiney', 'Denny R Salas',\n",
       "       'Melody M Jimenez', 'Dennis N Mihalsky', 'Zack Weiner',\n",
       "       'Bernadette Ferrara', 'Aleksander Mici', 'Matthew I Morgan',\n",
       "       'Susan M Damplo', 'Troy Blackwell', 'Patricia Rondinelli',\n",
       "       'Marco A Tamayo', 'Ruth McDaniels', 'Yu Lin', 'Miguel Estrella',\n",
       "       'Pamela Hamilton-Johnson', 'Shadoe G Tarver',\n",
       "       'Sharon R Wedderburn', 'Nicole Hunt', 'Linda Guillebeaux',\n",
       "       'Seth L Breland', 'Sheryl A Fetik', 'Yi Chen', 'Jaime-Faye Bean',\n",
       "       'Nicole S Lee', 'Angelo King', 'Glennis Sanchez Severino',\n",
       "       'Bernadette McNear', 'Ming-Kang Low', 'Erik S Frankel',\n",
       "       'Patrick Johnson', 'David Gold', 'Gerry Hopkins', 'James E Behr',\n",
       "       'Glomani Bravo-Lopez', 'Carlton Berkley', 'Suraj Jaswal',\n",
       "       'Tavo T Bortoli', 'Evan F Boccardi', 'Ivan D Mossop Jr',\n",
       "       'Samuel Sierra', 'Timothy Rosen', 'Francesca M Castellanos',\n",
       "       'Lutchi Gayot', 'William H Salgado', 'Constantin Jean-Pierre',\n",
       "       'Steven Sirgiovanni', 'Dionel J Then', 'Lucy Cerezo Scully',\n",
       "       'Winton Tran', 'John Ciafone', 'Irene Estrada',\n",
       "       'Demetrius D Wilson II', 'Bianca Ozeri', 'Alberto Aguilar III',\n",
       "       'Stephen M Finley', 'Franck Joseph',\n",
       "       'Christopher R Fuentes-Padilla', 'Francis E Spangenberg',\n",
       "       'Carl L Lundgren', 'Franklin P Gonzalez', 'Jessica Haller',\n",
       "       'Maayan Z Zik', 'Vincent C Johnson', 'Danny Marin',\n",
       "       'Nancy J Martinez', 'Joshua Y Maynard', 'Kevin Pazmino',\n",
       "       'Rajesh K Ranot', 'Everett R Reed', 'Nicholas J Robbins',\n",
       "       'Mandeep S Sahi', 'Nayma Silver'], dtype=object)"
      ]
     },
     "execution_count": 12,
     "metadata": {},
     "output_type": "execute_result"
    }
   ],
   "source": [
    "all_cc_df['normalized_mem'].unique()"
   ]
  },
  {
   "cell_type": "code",
   "execution_count": 13,
   "metadata": {},
   "outputs": [],
   "source": [
    "fuzzy_matched_df = fuzzy_merge(faction_compare, all_cc_df, 'VotePersonName', 'normalized_mem', threshold=80)"
   ]
  },
  {
   "cell_type": "code",
   "execution_count": 14,
   "metadata": {},
   "outputs": [],
   "source": [
    "new_row = {'VotePersonName': 'Kristin R Jordan', 'normalized_mem': 'Kristin R Jordan', 'score': 100}\n",
    "fuzzy_matched_df = pd.concat([fuzzy_matched_df, pd.DataFrame([new_row])], ignore_index=True)"
   ]
  },
  {
   "cell_type": "code",
   "execution_count": 15,
   "metadata": {},
   "outputs": [],
   "source": [
    "winners_df = all_cc_df[all_cc_df['normalized_mem'].isin(fuzzy_matched_df['normalized_mem'])]"
   ]
  },
  {
   "cell_type": "code",
   "execution_count": 16,
   "metadata": {},
   "outputs": [],
   "source": [
    "def get_name(row, fuzzy_df):\n",
    "    if row['normalized_mem'] in fuzzy_df['normalized_mem'].values:\n",
    "        return row['normalized_mem']\n",
    "    else:\n",
    "        return row['normalized_mem']"
   ]
  },
  {
   "cell_type": "code",
   "execution_count": 17,
   "metadata": {},
   "outputs": [
    {
     "name": "stderr",
     "output_type": "stream",
     "text": [
      "C:\\Users\\samtg\\AppData\\Local\\Temp\\ipykernel_26904\\350438939.py:1: SettingWithCopyWarning: \n",
      "A value is trying to be set on a copy of a slice from a DataFrame.\n",
      "Try using .loc[row_indexer,col_indexer] = value instead\n",
      "\n",
      "See the caveats in the documentation: https://pandas.pydata.org/pandas-docs/stable/user_guide/indexing.html#returning-a-view-versus-a-copy\n",
      "  all_cc_df['matched_name'] = all_cc_df.apply(get_name, axis=1, fuzzy_df=fuzzy_matched_df)\n"
     ]
    }
   ],
   "source": [
    "all_cc_df['matched_name'] = all_cc_df.apply(get_name, axis=1, fuzzy_df=fuzzy_matched_df)"
   ]
  },
  {
   "cell_type": "code",
   "execution_count": 18,
   "metadata": {},
   "outputs": [
    {
     "data": {
      "text/html": [
       "<div>\n",
       "<style scoped>\n",
       "    .dataframe tbody tr th:only-of-type {\n",
       "        vertical-align: middle;\n",
       "    }\n",
       "\n",
       "    .dataframe tbody tr th {\n",
       "        vertical-align: top;\n",
       "    }\n",
       "\n",
       "    .dataframe thead th {\n",
       "        text-align: right;\n",
       "    }\n",
       "</style>\n",
       "<table border=\"1\" class=\"dataframe\">\n",
       "  <thead>\n",
       "    <tr style=\"text-align: right;\">\n",
       "      <th></th>\n",
       "      <th>REFNO</th>\n",
       "      <th>DATE</th>\n",
       "      <th>NAME</th>\n",
       "      <th>RECIPNAME</th>\n",
       "      <th>AMNT</th>\n",
       "      <th>SCHEDULE</th>\n",
       "      <th>C_CODE</th>\n",
       "      <th>PURPOSECD</th>\n",
       "      <th>OCCUPATION</th>\n",
       "      <th>EMPNAME</th>\n",
       "      <th>ZIP</th>\n",
       "      <th>normalized_mem</th>\n",
       "      <th>matched_name</th>\n",
       "    </tr>\n",
       "  </thead>\n",
       "  <tbody>\n",
       "    <tr>\n",
       "      <th>366</th>\n",
       "      <td>R0006868</td>\n",
       "      <td>3/11/2021</td>\n",
       "      <td>Abelskamp, Julian</td>\n",
       "      <td>Jordan, Kristin R</td>\n",
       "      <td>10.0</td>\n",
       "      <td>ABC</td>\n",
       "      <td>IND</td>\n",
       "      <td>NaN</td>\n",
       "      <td>Not Employed</td>\n",
       "      <td>Not Employed</td>\n",
       "      <td>10027</td>\n",
       "      <td>Kristin R Jordan</td>\n",
       "      <td>Kristin R Jordan</td>\n",
       "    </tr>\n",
       "    <tr>\n",
       "      <th>425</th>\n",
       "      <td>R0006513</td>\n",
       "      <td>2/13/2021</td>\n",
       "      <td>Abraha, Alex</td>\n",
       "      <td>Jordan, Kristin R</td>\n",
       "      <td>15.0</td>\n",
       "      <td>ABC</td>\n",
       "      <td>IND</td>\n",
       "      <td>NaN</td>\n",
       "      <td>Educator</td>\n",
       "      <td>University</td>\n",
       "      <td>55429</td>\n",
       "      <td>Kristin R Jordan</td>\n",
       "      <td>Kristin R Jordan</td>\n",
       "    </tr>\n",
       "    <tr>\n",
       "      <th>921</th>\n",
       "      <td>R0001930</td>\n",
       "      <td>6/26/2020</td>\n",
       "      <td>Acquah, Samuel</td>\n",
       "      <td>Jordan, Kristin R</td>\n",
       "      <td>300.0</td>\n",
       "      <td>ABC</td>\n",
       "      <td>IND</td>\n",
       "      <td>NaN</td>\n",
       "      <td>Physician</td>\n",
       "      <td>Mount Sinai</td>\n",
       "      <td>07632</td>\n",
       "      <td>Kristin R Jordan</td>\n",
       "      <td>Kristin R Jordan</td>\n",
       "    </tr>\n",
       "    <tr>\n",
       "      <th>1146</th>\n",
       "      <td>R0000571</td>\n",
       "      <td>12/6/2019</td>\n",
       "      <td>Adams, Kalima</td>\n",
       "      <td>Jordan, Kristin R</td>\n",
       "      <td>20.0</td>\n",
       "      <td>ABC</td>\n",
       "      <td>IND</td>\n",
       "      <td>NaN</td>\n",
       "      <td>Hairdresser</td>\n",
       "      <td>Self-employed</td>\n",
       "      <td>10458</td>\n",
       "      <td>Kristin R Jordan</td>\n",
       "      <td>Kristin R Jordan</td>\n",
       "    </tr>\n",
       "    <tr>\n",
       "      <th>1159</th>\n",
       "      <td>R0010137</td>\n",
       "      <td>9/20/2021</td>\n",
       "      <td>Adams, Lorraine</td>\n",
       "      <td>Jordan, Kristin R</td>\n",
       "      <td>175.0</td>\n",
       "      <td>ABC</td>\n",
       "      <td>IND</td>\n",
       "      <td>NaN</td>\n",
       "      <td>Author</td>\n",
       "      <td>Self-Employed</td>\n",
       "      <td>10035</td>\n",
       "      <td>Kristin R Jordan</td>\n",
       "      <td>Kristin R Jordan</td>\n",
       "    </tr>\n",
       "    <tr>\n",
       "      <th>...</th>\n",
       "      <td>...</td>\n",
       "      <td>...</td>\n",
       "      <td>...</td>\n",
       "      <td>...</td>\n",
       "      <td>...</td>\n",
       "      <td>...</td>\n",
       "      <td>...</td>\n",
       "      <td>...</td>\n",
       "      <td>...</td>\n",
       "      <td>...</td>\n",
       "      <td>...</td>\n",
       "      <td>...</td>\n",
       "      <td>...</td>\n",
       "    </tr>\n",
       "    <tr>\n",
       "      <th>164465</th>\n",
       "      <td>R0006056</td>\n",
       "      <td>1/11/2021</td>\n",
       "      <td>Zorio, Stephen</td>\n",
       "      <td>Jordan, Kristin R</td>\n",
       "      <td>23.0</td>\n",
       "      <td>ABC</td>\n",
       "      <td>IND</td>\n",
       "      <td>NaN</td>\n",
       "      <td>Marketing Specialist</td>\n",
       "      <td>Amazon</td>\n",
       "      <td>10026</td>\n",
       "      <td>Kristin R Jordan</td>\n",
       "      <td>Kristin R Jordan</td>\n",
       "    </tr>\n",
       "    <tr>\n",
       "      <th>164655</th>\n",
       "      <td>R0008781</td>\n",
       "      <td>6/25/2021</td>\n",
       "      <td>Zurkuhlen, Michael</td>\n",
       "      <td>Jordan, Kristin R</td>\n",
       "      <td>45.0</td>\n",
       "      <td>ABC</td>\n",
       "      <td>IND</td>\n",
       "      <td>NaN</td>\n",
       "      <td>Teacher</td>\n",
       "      <td>Calhoun School</td>\n",
       "      <td>10032</td>\n",
       "      <td>Kristin R Jordan</td>\n",
       "      <td>Kristin R Jordan</td>\n",
       "    </tr>\n",
       "    <tr>\n",
       "      <th>164656</th>\n",
       "      <td>R0010135</td>\n",
       "      <td>9/20/2021</td>\n",
       "      <td>Zurkuhlen, Michael</td>\n",
       "      <td>Jordan, Kristin R</td>\n",
       "      <td>25.0</td>\n",
       "      <td>ABC</td>\n",
       "      <td>IND</td>\n",
       "      <td>NaN</td>\n",
       "      <td>Teacher</td>\n",
       "      <td>The Calhoun School</td>\n",
       "      <td>10032</td>\n",
       "      <td>Kristin R Jordan</td>\n",
       "      <td>Kristin R Jordan</td>\n",
       "    </tr>\n",
       "    <tr>\n",
       "      <th>164657</th>\n",
       "      <td>R0006880</td>\n",
       "      <td>3/11/2021</td>\n",
       "      <td>Zurkuhlen, Michael</td>\n",
       "      <td>Jordan, Kristin R</td>\n",
       "      <td>25.0</td>\n",
       "      <td>ABC</td>\n",
       "      <td>IND</td>\n",
       "      <td>NaN</td>\n",
       "      <td>Teacher</td>\n",
       "      <td>Calhoun School</td>\n",
       "      <td>10032</td>\n",
       "      <td>Kristin R Jordan</td>\n",
       "      <td>Kristin R Jordan</td>\n",
       "    </tr>\n",
       "    <tr>\n",
       "      <th>164658</th>\n",
       "      <td>R0004428</td>\n",
       "      <td>7/29/2020</td>\n",
       "      <td>Zurkuhlen, Peter</td>\n",
       "      <td>Jordan, Kristin R</td>\n",
       "      <td>25.0</td>\n",
       "      <td>ABC</td>\n",
       "      <td>IND</td>\n",
       "      <td>NaN</td>\n",
       "      <td>Chief of Staff</td>\n",
       "      <td>GET HELP</td>\n",
       "      <td>90027</td>\n",
       "      <td>Kristin R Jordan</td>\n",
       "      <td>Kristin R Jordan</td>\n",
       "    </tr>\n",
       "  </tbody>\n",
       "</table>\n",
       "<p>1826 rows × 13 columns</p>\n",
       "</div>"
      ],
      "text/plain": [
       "           REFNO       DATE                NAME          RECIPNAME   AMNT  \\\n",
       "366     R0006868  3/11/2021   Abelskamp, Julian  Jordan, Kristin R   10.0   \n",
       "425     R0006513  2/13/2021        Abraha, Alex  Jordan, Kristin R   15.0   \n",
       "921     R0001930  6/26/2020      Acquah, Samuel  Jordan, Kristin R  300.0   \n",
       "1146    R0000571  12/6/2019       Adams, Kalima  Jordan, Kristin R   20.0   \n",
       "1159    R0010137  9/20/2021     Adams, Lorraine  Jordan, Kristin R  175.0   \n",
       "...          ...        ...                 ...                ...    ...   \n",
       "164465  R0006056  1/11/2021      Zorio, Stephen  Jordan, Kristin R   23.0   \n",
       "164655  R0008781  6/25/2021  Zurkuhlen, Michael  Jordan, Kristin R   45.0   \n",
       "164656  R0010135  9/20/2021  Zurkuhlen, Michael  Jordan, Kristin R   25.0   \n",
       "164657  R0006880  3/11/2021  Zurkuhlen, Michael  Jordan, Kristin R   25.0   \n",
       "164658  R0004428  7/29/2020    Zurkuhlen, Peter  Jordan, Kristin R   25.0   \n",
       "\n",
       "       SCHEDULE C_CODE PURPOSECD            OCCUPATION             EMPNAME  \\\n",
       "366         ABC    IND       NaN          Not Employed        Not Employed   \n",
       "425         ABC    IND       NaN              Educator          University   \n",
       "921         ABC    IND       NaN             Physician         Mount Sinai   \n",
       "1146        ABC    IND       NaN           Hairdresser       Self-employed   \n",
       "1159        ABC    IND       NaN                Author       Self-Employed   \n",
       "...         ...    ...       ...                   ...                 ...   \n",
       "164465      ABC    IND       NaN  Marketing Specialist              Amazon   \n",
       "164655      ABC    IND       NaN               Teacher      Calhoun School   \n",
       "164656      ABC    IND       NaN               Teacher  The Calhoun School   \n",
       "164657      ABC    IND       NaN               Teacher      Calhoun School   \n",
       "164658      ABC    IND       NaN        Chief of Staff            GET HELP   \n",
       "\n",
       "          ZIP    normalized_mem      matched_name  \n",
       "366     10027  Kristin R Jordan  Kristin R Jordan  \n",
       "425     55429  Kristin R Jordan  Kristin R Jordan  \n",
       "921     07632  Kristin R Jordan  Kristin R Jordan  \n",
       "1146    10458  Kristin R Jordan  Kristin R Jordan  \n",
       "1159    10035  Kristin R Jordan  Kristin R Jordan  \n",
       "...       ...               ...               ...  \n",
       "164465  10026  Kristin R Jordan  Kristin R Jordan  \n",
       "164655  10032  Kristin R Jordan  Kristin R Jordan  \n",
       "164656  10032  Kristin R Jordan  Kristin R Jordan  \n",
       "164657  10032  Kristin R Jordan  Kristin R Jordan  \n",
       "164658  90027  Kristin R Jordan  Kristin R Jordan  \n",
       "\n",
       "[1826 rows x 13 columns]"
      ]
     },
     "execution_count": 18,
     "metadata": {},
     "output_type": "execute_result"
    }
   ],
   "source": [
    "all_cc_df[all_cc_df['matched_name'] == 'Kristin R Jordan']"
   ]
  },
  {
   "cell_type": "code",
   "execution_count": 19,
   "metadata": {},
   "outputs": [
    {
     "data": {
      "text/html": [
       "<div>\n",
       "<style scoped>\n",
       "    .dataframe tbody tr th:only-of-type {\n",
       "        vertical-align: middle;\n",
       "    }\n",
       "\n",
       "    .dataframe tbody tr th {\n",
       "        vertical-align: top;\n",
       "    }\n",
       "\n",
       "    .dataframe thead th {\n",
       "        text-align: right;\n",
       "    }\n",
       "</style>\n",
       "<table border=\"1\" class=\"dataframe\">\n",
       "  <thead>\n",
       "    <tr style=\"text-align: right;\">\n",
       "      <th></th>\n",
       "      <th>REFNO</th>\n",
       "      <th>DATE</th>\n",
       "      <th>NAME</th>\n",
       "      <th>RECIPNAME</th>\n",
       "      <th>AMNT</th>\n",
       "      <th>SCHEDULE</th>\n",
       "      <th>C_CODE</th>\n",
       "      <th>PURPOSECD</th>\n",
       "      <th>OCCUPATION</th>\n",
       "      <th>EMPNAME</th>\n",
       "      <th>ZIP</th>\n",
       "      <th>normalized_mem</th>\n",
       "      <th>matched_name</th>\n",
       "    </tr>\n",
       "  </thead>\n",
       "  <tbody>\n",
       "    <tr>\n",
       "      <th>44</th>\n",
       "      <td>R0007832</td>\n",
       "      <td>10/6/2021</td>\n",
       "      <td>1199 SEIU NYS Political Action</td>\n",
       "      <td>Osse, Chi</td>\n",
       "      <td>1000.0</td>\n",
       "      <td>ABC</td>\n",
       "      <td>PCOMP</td>\n",
       "      <td>NaN</td>\n",
       "      <td>NaN</td>\n",
       "      <td>NaN</td>\n",
       "      <td>10018</td>\n",
       "      <td>Chi Osse</td>\n",
       "      <td>Chi Osse</td>\n",
       "    </tr>\n",
       "    <tr>\n",
       "      <th>79</th>\n",
       "      <td>R0007842</td>\n",
       "      <td>10/30/2021</td>\n",
       "      <td>32BJ United ADF</td>\n",
       "      <td>Osse, Chi</td>\n",
       "      <td>1000.0</td>\n",
       "      <td>ABC</td>\n",
       "      <td>PCOMP</td>\n",
       "      <td>NaN</td>\n",
       "      <td>NaN</td>\n",
       "      <td>NaN</td>\n",
       "      <td>10011</td>\n",
       "      <td>Chi Osse</td>\n",
       "      <td>Chi Osse</td>\n",
       "    </tr>\n",
       "    <tr>\n",
       "      <th>528</th>\n",
       "      <td>R0006892</td>\n",
       "      <td>6/4/2021</td>\n",
       "      <td>Abrams, Samantha</td>\n",
       "      <td>Osse, Chi</td>\n",
       "      <td>25.0</td>\n",
       "      <td>ABC</td>\n",
       "      <td>IND</td>\n",
       "      <td>NaN</td>\n",
       "      <td>Librarian</td>\n",
       "      <td>Center for Research Libraries</td>\n",
       "      <td>11221</td>\n",
       "      <td>Chi Osse</td>\n",
       "      <td>Chi Osse</td>\n",
       "    </tr>\n",
       "    <tr>\n",
       "      <th>834</th>\n",
       "      <td>R0001843</td>\n",
       "      <td>10/22/2020</td>\n",
       "      <td>Ackermann, Alex</td>\n",
       "      <td>Osse, Chi</td>\n",
       "      <td>10.0</td>\n",
       "      <td>ABC</td>\n",
       "      <td>IND</td>\n",
       "      <td>NaN</td>\n",
       "      <td>Unemployed</td>\n",
       "      <td>NaN</td>\n",
       "      <td>11238</td>\n",
       "      <td>Chi Osse</td>\n",
       "      <td>Chi Osse</td>\n",
       "    </tr>\n",
       "    <tr>\n",
       "      <th>955</th>\n",
       "      <td>R0000211</td>\n",
       "      <td>7/19/2020</td>\n",
       "      <td>Adair, Luther</td>\n",
       "      <td>Osse, Chi</td>\n",
       "      <td>500.0</td>\n",
       "      <td>ABC</td>\n",
       "      <td>IND</td>\n",
       "      <td>NaN</td>\n",
       "      <td>Physician</td>\n",
       "      <td>Self-Employed</td>\n",
       "      <td>89107</td>\n",
       "      <td>Chi Osse</td>\n",
       "      <td>Chi Osse</td>\n",
       "    </tr>\n",
       "    <tr>\n",
       "      <th>...</th>\n",
       "      <td>...</td>\n",
       "      <td>...</td>\n",
       "      <td>...</td>\n",
       "      <td>...</td>\n",
       "      <td>...</td>\n",
       "      <td>...</td>\n",
       "      <td>...</td>\n",
       "      <td>...</td>\n",
       "      <td>...</td>\n",
       "      <td>...</td>\n",
       "      <td>...</td>\n",
       "      <td>...</td>\n",
       "      <td>...</td>\n",
       "    </tr>\n",
       "    <tr>\n",
       "      <th>163438</th>\n",
       "      <td>R0003920</td>\n",
       "      <td>1/7/2021</td>\n",
       "      <td>Zemser, Amy</td>\n",
       "      <td>Osse, Chi</td>\n",
       "      <td>25.0</td>\n",
       "      <td>ABC</td>\n",
       "      <td>IND</td>\n",
       "      <td>NaN</td>\n",
       "      <td>Sales</td>\n",
       "      <td>Lintex Linens</td>\n",
       "      <td>10028</td>\n",
       "      <td>Chi Osse</td>\n",
       "      <td>Chi Osse</td>\n",
       "    </tr>\n",
       "    <tr>\n",
       "      <th>164210</th>\n",
       "      <td>R0001333</td>\n",
       "      <td>9/27/2020</td>\n",
       "      <td>Zibo, Anissa</td>\n",
       "      <td>Osse, Chi</td>\n",
       "      <td>10.0</td>\n",
       "      <td>ABC</td>\n",
       "      <td>IND</td>\n",
       "      <td>NaN</td>\n",
       "      <td>Student</td>\n",
       "      <td>NaN</td>\n",
       "      <td>10026</td>\n",
       "      <td>Chi Osse</td>\n",
       "      <td>Chi Osse</td>\n",
       "    </tr>\n",
       "    <tr>\n",
       "      <th>164303</th>\n",
       "      <td>R0006659</td>\n",
       "      <td>5/20/2021</td>\n",
       "      <td>Zimmerman, Jessica</td>\n",
       "      <td>Osse, Chi</td>\n",
       "      <td>50.0</td>\n",
       "      <td>ABC</td>\n",
       "      <td>IND</td>\n",
       "      <td>NaN</td>\n",
       "      <td>Editor</td>\n",
       "      <td>Electric Literature</td>\n",
       "      <td>11205</td>\n",
       "      <td>Chi Osse</td>\n",
       "      <td>Chi Osse</td>\n",
       "    </tr>\n",
       "    <tr>\n",
       "      <th>164554</th>\n",
       "      <td>R0002457</td>\n",
       "      <td>11/30/2020</td>\n",
       "      <td>Zuckerberg, Hannah</td>\n",
       "      <td>Osse, Chi</td>\n",
       "      <td>50.0</td>\n",
       "      <td>ABC</td>\n",
       "      <td>IND</td>\n",
       "      <td>NaN</td>\n",
       "      <td>Homemaker</td>\n",
       "      <td>NaN</td>\n",
       "      <td>10021</td>\n",
       "      <td>Chi Osse</td>\n",
       "      <td>Chi Osse</td>\n",
       "    </tr>\n",
       "    <tr>\n",
       "      <th>164648</th>\n",
       "      <td>R0005533</td>\n",
       "      <td>1/11/2021</td>\n",
       "      <td>Zurier, Michael</td>\n",
       "      <td>Osse, Chi</td>\n",
       "      <td>10.0</td>\n",
       "      <td>ABC</td>\n",
       "      <td>IND</td>\n",
       "      <td>NaN</td>\n",
       "      <td>Sales Associate</td>\n",
       "      <td>Sport Worx Inc</td>\n",
       "      <td>11237</td>\n",
       "      <td>Chi Osse</td>\n",
       "      <td>Chi Osse</td>\n",
       "    </tr>\n",
       "  </tbody>\n",
       "</table>\n",
       "<p>1260 rows × 13 columns</p>\n",
       "</div>"
      ],
      "text/plain": [
       "           REFNO        DATE                            NAME  RECIPNAME  \\\n",
       "44      R0007832   10/6/2021  1199 SEIU NYS Political Action  Osse, Chi   \n",
       "79      R0007842  10/30/2021                 32BJ United ADF  Osse, Chi   \n",
       "528     R0006892    6/4/2021                Abrams, Samantha  Osse, Chi   \n",
       "834     R0001843  10/22/2020                 Ackermann, Alex  Osse, Chi   \n",
       "955     R0000211   7/19/2020                   Adair, Luther  Osse, Chi   \n",
       "...          ...         ...                             ...        ...   \n",
       "163438  R0003920    1/7/2021                     Zemser, Amy  Osse, Chi   \n",
       "164210  R0001333   9/27/2020                    Zibo, Anissa  Osse, Chi   \n",
       "164303  R0006659   5/20/2021              Zimmerman, Jessica  Osse, Chi   \n",
       "164554  R0002457  11/30/2020              Zuckerberg, Hannah  Osse, Chi   \n",
       "164648  R0005533   1/11/2021                 Zurier, Michael  Osse, Chi   \n",
       "\n",
       "          AMNT SCHEDULE C_CODE PURPOSECD       OCCUPATION  \\\n",
       "44      1000.0      ABC  PCOMP       NaN              NaN   \n",
       "79      1000.0      ABC  PCOMP       NaN              NaN   \n",
       "528       25.0      ABC    IND       NaN        Librarian   \n",
       "834       10.0      ABC    IND       NaN       Unemployed   \n",
       "955      500.0      ABC    IND       NaN        Physician   \n",
       "...        ...      ...    ...       ...              ...   \n",
       "163438    25.0      ABC    IND       NaN            Sales   \n",
       "164210    10.0      ABC    IND       NaN          Student   \n",
       "164303    50.0      ABC    IND       NaN           Editor   \n",
       "164554    50.0      ABC    IND       NaN        Homemaker   \n",
       "164648    10.0      ABC    IND       NaN  Sales Associate   \n",
       "\n",
       "                              EMPNAME    ZIP normalized_mem matched_name  \n",
       "44                                NaN  10018       Chi Osse     Chi Osse  \n",
       "79                                NaN  10011       Chi Osse     Chi Osse  \n",
       "528     Center for Research Libraries  11221       Chi Osse     Chi Osse  \n",
       "834                               NaN  11238       Chi Osse     Chi Osse  \n",
       "955                     Self-Employed  89107       Chi Osse     Chi Osse  \n",
       "...                               ...    ...            ...          ...  \n",
       "163438                  Lintex Linens  10028       Chi Osse     Chi Osse  \n",
       "164210                            NaN  10026       Chi Osse     Chi Osse  \n",
       "164303            Electric Literature  11205       Chi Osse     Chi Osse  \n",
       "164554                            NaN  10021       Chi Osse     Chi Osse  \n",
       "164648                 Sport Worx Inc  11237       Chi Osse     Chi Osse  \n",
       "\n",
       "[1260 rows x 13 columns]"
      ]
     },
     "execution_count": 19,
     "metadata": {},
     "output_type": "execute_result"
    }
   ],
   "source": [
    "all_cc_df[all_cc_df['normalized_mem'] == 'Chi Osse']"
   ]
  },
  {
   "cell_type": "code",
   "execution_count": 20,
   "metadata": {},
   "outputs": [],
   "source": [
    "con_type = winners_df.groupby('normalized_mem')['C_CODE'].value_counts().reset_index(name='count')\n",
    "con_type_all = all_cc_df.groupby('matched_name')['C_CODE'].value_counts().reset_index(name='count')"
   ]
  },
  {
   "cell_type": "code",
   "execution_count": 21,
   "metadata": {},
   "outputs": [],
   "source": [
    "con_type = con_type.pivot(index='normalized_mem', columns='C_CODE', values='count').reset_index()\n",
    "con_type_all = con_type_all.pivot(index='matched_name', columns='C_CODE', values='count').reset_index()"
   ]
  },
  {
   "cell_type": "code",
   "execution_count": 22,
   "metadata": {},
   "outputs": [],
   "source": [
    "# convert NaN to 0\n",
    "con_type = con_type.fillna(0)\n",
    "con_type_all = con_type_all.fillna(0)"
   ]
  },
  {
   "cell_type": "code",
   "execution_count": 23,
   "metadata": {},
   "outputs": [],
   "source": [
    "con_type['total'] = con_type.select_dtypes(include='number').sum(axis=1)\n",
    "con_type_all['total'] = con_type_all.select_dtypes(include='number').sum(axis=1)"
   ]
  },
  {
   "cell_type": "code",
   "execution_count": 24,
   "metadata": {},
   "outputs": [],
   "source": [
    "con_type['perc_IND'] = (con_type['IND'] / con_type['total']) * 100\n",
    "con_type_all['perc_IND'] = (con_type_all['IND'] / con_type_all['total']) * 100"
   ]
  },
  {
   "cell_type": "code",
   "execution_count": 25,
   "metadata": {},
   "outputs": [],
   "source": [
    "con_type_value = winners_df.groupby(['normalized_mem','C_CODE'])['AMNT'].sum().reset_index(name='total')\n",
    "con_type_value_all = all_cc_df.groupby(['matched_name','C_CODE'])['AMNT'].sum().reset_index(name='total')"
   ]
  },
  {
   "cell_type": "code",
   "execution_count": 26,
   "metadata": {},
   "outputs": [],
   "source": [
    "con_type_value = con_type_value.pivot(index='normalized_mem', columns='C_CODE', values='total').reset_index()\n",
    "con_type_value_all = con_type_value_all.pivot(index='matched_name', columns='C_CODE', values='total').reset_index()"
   ]
  },
  {
   "cell_type": "code",
   "execution_count": 27,
   "metadata": {},
   "outputs": [],
   "source": [
    "con_type_value = con_type_value.fillna(0)\n",
    "con_type_value_all = con_type_value_all.fillna(0)"
   ]
  },
  {
   "cell_type": "code",
   "execution_count": 28,
   "metadata": {},
   "outputs": [],
   "source": [
    "con_type_value['total_con_value'] = con_type_value.select_dtypes(include='number').sum(axis=1)\n",
    "con_type_value_all['total_con_value'] = con_type_value_all.select_dtypes(include='number').sum(axis=1)"
   ]
  },
  {
   "cell_type": "code",
   "execution_count": 29,
   "metadata": {},
   "outputs": [],
   "source": [
    "con_type_value['perc_IND_value'] = (con_type_value['IND'] / con_type_value['total_con_value']) * 100\n",
    "con_type_value_all['perc_IND_value'] = (con_type_value_all['IND'] / con_type_value_all['total_con_value']) * 100"
   ]
  },
  {
   "cell_type": "code",
   "execution_count": 30,
   "metadata": {},
   "outputs": [],
   "source": [
    "con_type = con_type[['normalized_mem','perc_IND']]\n",
    "con_type_value = con_type_value[['normalized_mem','perc_IND_value']]\n",
    "con_type_all = con_type_all[['matched_name','perc_IND']]\n",
    "con_type_value_all = con_type_value_all[['matched_name','perc_IND_value']]"
   ]
  },
  {
   "cell_type": "code",
   "execution_count": 31,
   "metadata": {},
   "outputs": [],
   "source": [
    "con_type_merged = pd.merge(con_type, con_type_value, on='normalized_mem')\n",
    "con_type_all_merged = pd.merge(con_type_all, con_type_value_all, on='matched_name')"
   ]
  },
  {
   "cell_type": "code",
   "execution_count": 43,
   "metadata": {},
   "outputs": [
    {
     "data": {
      "text/plain": [
       "normalized_mem\n",
       "Adrienne Adams           1\n",
       "Oswald Feliz             1\n",
       "Kamillah M Hanks         1\n",
       "Keith Powers             1\n",
       "Kevin C Riley            1\n",
       "Kristin R Jordan         1\n",
       "Lincoln Restler          1\n",
       "Linda Lee                1\n",
       "Lynn Schulman            1\n",
       "Marjorie Velazquez       1\n",
       "Mercedes Narcisse        1\n",
       "Nantasha Williams        1\n",
       "Pierina A Sanchez        1\n",
       "Justin Brannan           1\n",
       "Rafael Salamanca         1\n",
       "Rita C Joseph            1\n",
       "Robert F Holden          1\n",
       "Sandra Ung               1\n",
       "Sandy Nurse              1\n",
       "Selvena Brooks-Powers    1\n",
       "Shahana Hanif            1\n",
       "Shaun Abreu              1\n",
       "Shekar Krishnan          1\n",
       "Tiffany Caban            1\n",
       "Kalman Yeger             1\n",
       "Julie Won                1\n",
       "Alexa Aviles             1\n",
       "David M Carr             1\n",
       "Althea V Stevens         1\n",
       "Amanda Farias            1\n",
       "Ari Kagan                1\n",
       "Carlina Rivera           1\n",
       "Carmen De La Rosa        1\n",
       "Charles Barron           1\n",
       "Chi Osse                 1\n",
       "Christopher Marte        1\n",
       "Crystal Hudson           1\n",
       "Darlene Mealy            1\n",
       "Diana I Ayala            1\n",
       "Julie Menin              1\n",
       "Eric Dinowitz            1\n",
       "Erik Bottcher            1\n",
       "Farah Louis              1\n",
       "Francisco P Moya         1\n",
       "Gale Brewer              1\n",
       "Inna Vernikov            1\n",
       "James F Gennaro          1\n",
       "Jennifer Gutierrez       1\n",
       "Joann Ariola             1\n",
       "Joseph Borelli           1\n",
       "Vickie Paladino          1\n",
       "Name: count, dtype: int64"
      ]
     },
     "execution_count": 43,
     "metadata": {},
     "output_type": "execute_result"
    }
   ],
   "source": [
    "con_type_merged['normalized_mem'].value_counts()"
   ]
  },
  {
   "cell_type": "markdown",
   "metadata": {},
   "source": [
    "look only at individual donations "
   ]
  },
  {
   "cell_type": "code",
   "execution_count": 32,
   "metadata": {},
   "outputs": [],
   "source": [
    "ind_winners = winners_df[winners_df['C_CODE'] == 'IND']\n",
    "ind_winners_all = all_cc_df[all_cc_df['C_CODE'] == 'IND']"
   ]
  },
  {
   "cell_type": "code",
   "execution_count": 33,
   "metadata": {},
   "outputs": [],
   "source": [
    "iw_count = ind_winners.groupby('normalized_mem')['AMNT'].count().reset_index(name='count')\n",
    "iw_amount = ind_winners.groupby('normalized_mem')['AMNT'].sum().reset_index(name='total')\n",
    "iw_mean = ind_winners.groupby('normalized_mem')['AMNT'].mean().reset_index(name='mean')\n",
    "\n",
    "iw_count_all = ind_winners_all.groupby('matched_name')['AMNT'].count().reset_index(name='count')\n",
    "iw_amount_all = ind_winners_all.groupby('matched_name')['AMNT'].sum().reset_index(name='total')\n",
    "iw_mean_all = ind_winners_all.groupby('matched_name')['AMNT'].mean().reset_index(name='mean')"
   ]
  },
  {
   "cell_type": "code",
   "execution_count": 34,
   "metadata": {},
   "outputs": [],
   "source": [
    "iw_merge = pd.merge(iw_count, iw_amount, on='normalized_mem')\n",
    "iw_merge = pd.merge(iw_merge, iw_mean, on='normalized_mem')\n",
    "\n",
    "iw_merge_all = pd.merge(iw_count_all, iw_amount_all, on='matched_name')\n",
    "iw_merge_all = pd.merge(iw_merge_all, iw_mean_all, on='matched_name')"
   ]
  },
  {
   "cell_type": "code",
   "execution_count": 156,
   "metadata": {},
   "outputs": [
    {
     "data": {
      "text/plain": [
       "normalized_mem\n",
       "Adrienne Adams           1\n",
       "Oswald Feliz             1\n",
       "Kalman Yeger             1\n",
       "Kamillah M Hanks         1\n",
       "Keith Powers             1\n",
       "Kevin C Riley            1\n",
       "Lincoln Restler          1\n",
       "Linda Lee                1\n",
       "Lynn Schulman            1\n",
       "Marjorie Velazquez       1\n",
       "Mercedes Narcisse        1\n",
       "Nantasha Williams        1\n",
       "Pierina A Sanchez        1\n",
       "Alexa Aviles             1\n",
       "Rafael Salamanca         1\n",
       "Rita C Joseph            1\n",
       "Robert F Holden          1\n",
       "Sandra Ung               1\n",
       "Sandy Nurse              1\n",
       "Selvena Brooks-Powers    1\n",
       "Shahana Hanif            1\n",
       "Shaun Abreu              1\n",
       "Shekar Krishnan          1\n",
       "Tiffany Caban            1\n",
       "Justin Brannan           1\n",
       "Julie Won                1\n",
       "Julie Menin              1\n",
       "Joseph Borelli           1\n",
       "Althea V Stevens         1\n",
       "Amanda Farias            1\n",
       "Ari Kagan                1\n",
       "Carlina Rivera           1\n",
       "Carmen De La Rosa        1\n",
       "Charles Barron           1\n",
       "Chi Osse                 1\n",
       "Christopher Marte        1\n",
       "Crystal Hudson           1\n",
       "Darlene Mealy            1\n",
       "David M Carr             1\n",
       "Diana I Ayala            1\n",
       "Eric Dinowitz            1\n",
       "Erik Bottcher            1\n",
       "Farah Louis              1\n",
       "Francisco P Moya         1\n",
       "Gale Brewer              1\n",
       "Inna Vernikov            1\n",
       "James F Gennaro          1\n",
       "Jennifer Gutierrez       1\n",
       "Joann Ariola             1\n",
       "Vickie Paladino          1\n",
       "Name: count, dtype: int64"
      ]
     },
     "execution_count": 156,
     "metadata": {},
     "output_type": "execute_result"
    }
   ],
   "source": [
    "iw_merge['normalized_mem'].value_counts()"
   ]
  },
  {
   "cell_type": "code",
   "execution_count": 35,
   "metadata": {},
   "outputs": [],
   "source": [
    "#rename columns\n",
    "iw_merge.columns = ['normalized_mem', 'count', 'total_amount', 'mean_amount']\n",
    "iw_merge_all.columns = ['matched_name', 'count', 'total_amount', 'mean_amount']"
   ]
  },
  {
   "cell_type": "markdown",
   "metadata": {},
   "source": [
    "See how many contributions come from in district "
   ]
  },
  {
   "cell_type": "code",
   "execution_count": 36,
   "metadata": {},
   "outputs": [],
   "source": [
    "nomi = pgeocode.Nominatim('us')"
   ]
  },
  {
   "cell_type": "code",
   "execution_count": 37,
   "metadata": {},
   "outputs": [],
   "source": [
    "ind_winners_reduced = ind_winners[['REFNO','DATE','normalized_mem','ZIP']]\n",
    "ind_winners_reduced_all = ind_winners_all[['REFNO','DATE','matched_name','ZIP']]"
   ]
  },
  {
   "cell_type": "code",
   "execution_count": 44,
   "metadata": {},
   "outputs": [],
   "source": [
    "names_of_note = ['Michael D Hollingsworth','Crystal Hudson','Alexa Aviles','Yu Lin','Jacqueline Painter','Rodrigo Camarena','Chi Osse','Henry L Butler','Tahirah A Moore','Robert Waterman','Reginald Swiney']"
   ]
  },
  {
   "cell_type": "code",
   "execution_count": 43,
   "metadata": {},
   "outputs": [],
   "source": [
    "districts_gdf = gpd.read_file('../data/shapefiles/nycc_22a')"
   ]
  },
  {
   "cell_type": "code",
   "execution_count": 45,
   "metadata": {},
   "outputs": [],
   "source": [
    "def find_coords(zip_code):\n",
    "    lat = nomi.query_postal_code(zip_code)['latitude']\n",
    "    long = nomi.query_postal_code(zip_code)['longitude']\n",
    "\n",
    "    return lat, long"
   ]
  },
  {
   "cell_type": "code",
   "execution_count": 46,
   "metadata": {},
   "outputs": [],
   "source": [
    "df_of_note = ind_winners_reduced_all[ind_winners_reduced_all['matched_name'].isin(names_of_note)]"
   ]
  },
  {
   "cell_type": "code",
   "execution_count": 41,
   "metadata": {},
   "outputs": [],
   "source": [
    "small = ind_winners_reduced.head(10)"
   ]
  },
  {
   "cell_type": "code",
   "execution_count": 42,
   "metadata": {},
   "outputs": [
    {
     "name": "stderr",
     "output_type": "stream",
     "text": [
      "C:\\Users\\samtg\\AppData\\Local\\Temp\\ipykernel_23512\\2594744829.py:1: SettingWithCopyWarning: \n",
      "A value is trying to be set on a copy of a slice from a DataFrame.\n",
      "Try using .loc[row_indexer,col_indexer] = value instead\n",
      "\n",
      "See the caveats in the documentation: https://pandas.pydata.org/pandas-docs/stable/user_guide/indexing.html#returning-a-view-versus-a-copy\n",
      "  small['lat'],small['long'] = zip(*small['ZIP'].apply(lambda x: find_coords(x)))\n",
      "C:\\Users\\samtg\\AppData\\Local\\Temp\\ipykernel_23512\\2594744829.py:1: SettingWithCopyWarning: \n",
      "A value is trying to be set on a copy of a slice from a DataFrame.\n",
      "Try using .loc[row_indexer,col_indexer] = value instead\n",
      "\n",
      "See the caveats in the documentation: https://pandas.pydata.org/pandas-docs/stable/user_guide/indexing.html#returning-a-view-versus-a-copy\n",
      "  small['lat'],small['long'] = zip(*small['ZIP'].apply(lambda x: find_coords(x)))\n"
     ]
    }
   ],
   "source": [
    "small['lat'],small['long'] = zip(*small['ZIP'].apply(lambda x: find_coords(x)))"
   ]
  },
  {
   "cell_type": "code",
   "execution_count": 50,
   "metadata": {},
   "outputs": [
    {
     "name": "stderr",
     "output_type": "stream",
     "text": [
      "C:\\Users\\samtg\\AppData\\Local\\Temp\\ipykernel_26904\\1302998511.py:1: SettingWithCopyWarning: \n",
      "A value is trying to be set on a copy of a slice from a DataFrame\n",
      "\n",
      "See the caveats in the documentation: https://pandas.pydata.org/pandas-docs/stable/user_guide/indexing.html#returning-a-view-versus-a-copy\n",
      "  df_of_note.dropna(subset=['ZIP'], inplace=True)\n"
     ]
    }
   ],
   "source": [
    "df_of_note.dropna(subset=['ZIP'], inplace=True)"
   ]
  },
  {
   "cell_type": "code",
   "execution_count": 51,
   "metadata": {},
   "outputs": [
    {
     "name": "stderr",
     "output_type": "stream",
     "text": [
      "C:\\Users\\samtg\\AppData\\Local\\Temp\\ipykernel_26904\\3163023814.py:1: SettingWithCopyWarning: \n",
      "A value is trying to be set on a copy of a slice from a DataFrame.\n",
      "Try using .loc[row_indexer,col_indexer] = value instead\n",
      "\n",
      "See the caveats in the documentation: https://pandas.pydata.org/pandas-docs/stable/user_guide/indexing.html#returning-a-view-versus-a-copy\n",
      "  df_of_note['lat'],df_of_note['long'] = zip(*df_of_note['ZIP'].apply(lambda x: find_coords(x)))\n",
      "C:\\Users\\samtg\\AppData\\Local\\Temp\\ipykernel_26904\\3163023814.py:1: SettingWithCopyWarning: \n",
      "A value is trying to be set on a copy of a slice from a DataFrame.\n",
      "Try using .loc[row_indexer,col_indexer] = value instead\n",
      "\n",
      "See the caveats in the documentation: https://pandas.pydata.org/pandas-docs/stable/user_guide/indexing.html#returning-a-view-versus-a-copy\n",
      "  df_of_note['lat'],df_of_note['long'] = zip(*df_of_note['ZIP'].apply(lambda x: find_coords(x)))\n"
     ]
    }
   ],
   "source": [
    "df_of_note['lat'],df_of_note['long'] = zip(*df_of_note['ZIP'].apply(lambda x: find_coords(x)))"
   ]
  },
  {
   "cell_type": "code",
   "execution_count": 49,
   "metadata": {},
   "outputs": [
    {
     "data": {
      "text/plain": [
       "193"
      ]
     },
     "execution_count": 49,
     "metadata": {},
     "output_type": "execute_result"
    }
   ],
   "source": [
    "# how many NaN in ind_winners_reduced['ZIP']?\n",
    "ind_winners_reduced['ZIP'].isna().sum()\n",
    "ind_winners_reduced_all['ZIP'].isna().sum()"
   ]
  },
  {
   "cell_type": "code",
   "execution_count": 54,
   "metadata": {},
   "outputs": [],
   "source": [
    "# drop NaN in ind_winners_reduced['ZIP']\n",
    "ind_winners_reduced = ind_winners_reduced.dropna(subset=['ZIP'])\n",
    "ind_winners_reduced_all = ind_winners_reduced_all.dropna(subset=['ZIP'])"
   ]
  },
  {
   "cell_type": "code",
   "execution_count": 55,
   "metadata": {},
   "outputs": [],
   "source": [
    "ind_winners_reduced['latitude'], ind_winners_reduced['longitude'] = zip(*ind_winners_reduced['ZIP'].apply(find_coords))"
   ]
  },
  {
   "cell_type": "code",
   "execution_count": 47,
   "metadata": {},
   "outputs": [],
   "source": [
    "ind_winners_reduced_all['latitude'], ind_winners_reduced_all['longitude'] = zip(*ind_winners_reduced_all['ZIP'].apply(find_coords))"
   ]
  },
  {
   "cell_type": "code",
   "execution_count": 101,
   "metadata": {},
   "outputs": [],
   "source": [
    "ind_winners_reduced_all.to_csv('../data/located_data_all_candidates.csv', index=False)"
   ]
  },
  {
   "cell_type": "code",
   "execution_count": 52,
   "metadata": {},
   "outputs": [],
   "source": [
    "ind_winners_reduced_all = pd.read_csv('../data/located_data_all_candidates.csv')"
   ]
  },
  {
   "cell_type": "code",
   "execution_count": 57,
   "metadata": {},
   "outputs": [
    {
     "data": {
      "text/plain": [
       "REFNO              object\n",
       "DATE               object\n",
       "NAME               object\n",
       "RECIPNAME          object\n",
       "AMNT              float64\n",
       "SCHEDULE           object\n",
       "C_CODE             object\n",
       "PURPOSECD          object\n",
       "OCCUPATION         object\n",
       "EMPNAME            object\n",
       "ZIP                object\n",
       "normalized_mem     object\n",
       "matched_name       object\n",
       "dtype: object"
      ]
     },
     "execution_count": 57,
     "metadata": {},
     "output_type": "execute_result"
    }
   ],
   "source": [
    "ind_winners_all.dtypes"
   ]
  },
  {
   "cell_type": "code",
   "execution_count": 56,
   "metadata": {},
   "outputs": [
    {
     "data": {
      "text/plain": [
       "REFNO            object\n",
       "DATE             object\n",
       "matched_name     object\n",
       "ZIP               int64\n",
       "latitude        float64\n",
       "longitude       float64\n",
       "dtype: object"
      ]
     },
     "execution_count": 56,
     "metadata": {},
     "output_type": "execute_result"
    }
   ],
   "source": [
    "ind_winners_reduced_all.dtypes"
   ]
  },
  {
   "cell_type": "code",
   "execution_count": 62,
   "metadata": {},
   "outputs": [],
   "source": [
    "iwrl_plus = ind_winners_reduced_all.merge(ind_winners_all[['REFNO','DATE','matched_name','ZIP','OCCUPATION','EMPNAME','AMNT','NAME']], on=['REFNO','DATE','matched_name'],how='left')"
   ]
  },
  {
   "cell_type": "code",
   "execution_count": 68,
   "metadata": {},
   "outputs": [],
   "source": [
    "iwrl_plus.drop(columns=['ZIP_y'], inplace=True)"
   ]
  },
  {
   "cell_type": "code",
   "execution_count": 69,
   "metadata": {},
   "outputs": [],
   "source": [
    "iwrl_plus.rename(columns={'ZIP_x':'ZIP'}, inplace=True)"
   ]
  },
  {
   "cell_type": "code",
   "execution_count": 70,
   "metadata": {},
   "outputs": [],
   "source": [
    "iwrl_plus_of_note = iwrl_plus[iwrl_plus['matched_name'].isin(names_of_note)]"
   ]
  },
  {
   "cell_type": "code",
   "execution_count": 71,
   "metadata": {},
   "outputs": [],
   "source": [
    "iwrl_plus_of_note.to_csv('../data/located_data_subset_for_member_chapters.csv', index=False)"
   ]
  },
  {
   "cell_type": "code",
   "execution_count": 56,
   "metadata": {},
   "outputs": [],
   "source": [
    "ind_winners_reduced.dropna(subset=['latitude', 'longitude'], inplace=True)"
   ]
  },
  {
   "cell_type": "code",
   "execution_count": null,
   "metadata": {},
   "outputs": [],
   "source": [
    "ind_winners_reduced_all.dropna(subset=['latitude', 'longitude'], inplace=True)"
   ]
  },
  {
   "cell_type": "code",
   "execution_count": 49,
   "metadata": {},
   "outputs": [],
   "source": [
    "ind_winners_reduced_all.dropna(subset=['latitude', 'longitude'], inplace=True)"
   ]
  },
  {
   "cell_type": "code",
   "execution_count": 57,
   "metadata": {},
   "outputs": [],
   "source": [
    "geometry = [Point(xy) for xy in zip(ind_winners_reduced['longitude'], ind_winners_reduced['latitude'])]\n",
    "gdf = gpd.GeoDataFrame(ind_winners_reduced, geometry=geometry, crs=\"EPSG:4326\")"
   ]
  },
  {
   "cell_type": "code",
   "execution_count": 50,
   "metadata": {},
   "outputs": [],
   "source": [
    "geometry_all = [Point(xy) for xy in zip(ind_winners_reduced_all['longitude'], ind_winners_reduced_all['latitude'])]\n",
    "gdf_all = gpd.GeoDataFrame(ind_winners_reduced_all, geometry=geometry_all, crs=\"EPSG:4326\")"
   ]
  },
  {
   "cell_type": "code",
   "execution_count": 58,
   "metadata": {},
   "outputs": [],
   "source": [
    "gdf = gdf.to_crs(districts_gdf.crs)\n"
   ]
  },
  {
   "cell_type": "code",
   "execution_count": 51,
   "metadata": {},
   "outputs": [],
   "source": [
    "gdf_all = gdf_all.to_crs(districts_gdf.crs)"
   ]
  },
  {
   "cell_type": "code",
   "execution_count": 59,
   "metadata": {},
   "outputs": [
    {
     "name": "stderr",
     "output_type": "stream",
     "text": [
      "C:\\Users\\samtg\\AppData\\Roaming\\Python\\Python311\\site-packages\\IPython\\core\\interactiveshell.py:3448: FutureWarning: The `op` parameter is deprecated and will be removed in a future release. Please use the `predicate` parameter instead.\n",
      "  if await self.run_code(code, result, async_=asy):\n"
     ]
    }
   ],
   "source": [
    "gdf_with_districts = gpd.sjoin(gdf, districts_gdf, how=\"left\", op=\"within\")\n"
   ]
  },
  {
   "cell_type": "code",
   "execution_count": 52,
   "metadata": {},
   "outputs": [
    {
     "name": "stderr",
     "output_type": "stream",
     "text": [
      "C:\\Users\\samtg\\AppData\\Roaming\\Python\\Python311\\site-packages\\IPython\\core\\interactiveshell.py:3448: FutureWarning: The `op` parameter is deprecated and will be removed in a future release. Please use the `predicate` parameter instead.\n",
      "  if await self.run_code(code, result, async_=asy):\n"
     ]
    }
   ],
   "source": [
    "gdf_with_districts_all = gpd.sjoin(gdf_all, districts_gdf, how=\"left\", op=\"within\")"
   ]
  },
  {
   "cell_type": "code",
   "execution_count": 62,
   "metadata": {},
   "outputs": [
    {
     "data": {
      "text/plain": [
       "postal_code              19119\n",
       "country_code                US\n",
       "place_name        Philadelphia\n",
       "state_name        Pennsylvania\n",
       "state_code                  PA\n",
       "county_name       Philadelphia\n",
       "county_code              101.0\n",
       "community_name             NaN\n",
       "community_code             NaN\n",
       "latitude               40.0547\n",
       "longitude             -75.1866\n",
       "accuracy                   4.0\n",
       "Name: 0, dtype: object"
      ]
     },
     "execution_count": 62,
     "metadata": {},
     "output_type": "execute_result"
    }
   ],
   "source": [
    "nomi.query_postal_code('19119')"
   ]
  },
  {
   "cell_type": "code",
   "execution_count": 60,
   "metadata": {},
   "outputs": [],
   "source": [
    "gdf_to_join = gdf_with_districts[['REFNO','DATE','normalized_mem','ZIP','CounDist']]\n"
   ]
  },
  {
   "cell_type": "code",
   "execution_count": 53,
   "metadata": {},
   "outputs": [],
   "source": [
    "gdf_to_join_all = gdf_with_districts_all[['REFNO','DATE','matched_name','ZIP','CounDist']]"
   ]
  },
  {
   "cell_type": "code",
   "execution_count": 61,
   "metadata": {},
   "outputs": [],
   "source": [
    "gdf_to_join = gdf_to_join.fillna('oos')"
   ]
  },
  {
   "cell_type": "code",
   "execution_count": 54,
   "metadata": {},
   "outputs": [],
   "source": [
    "gdf_to_join_all = gdf_to_join_all.fillna('oos')"
   ]
  },
  {
   "cell_type": "code",
   "execution_count": 132,
   "metadata": {},
   "outputs": [
    {
     "data": {
      "text/html": [
       "<div>\n",
       "<style scoped>\n",
       "    .dataframe tbody tr th:only-of-type {\n",
       "        vertical-align: middle;\n",
       "    }\n",
       "\n",
       "    .dataframe tbody tr th {\n",
       "        vertical-align: top;\n",
       "    }\n",
       "\n",
       "    .dataframe thead th {\n",
       "        text-align: right;\n",
       "    }\n",
       "</style>\n",
       "<table border=\"1\" class=\"dataframe\">\n",
       "  <thead>\n",
       "    <tr style=\"text-align: right;\">\n",
       "      <th></th>\n",
       "      <th>REFNO</th>\n",
       "      <th>DATE</th>\n",
       "      <th>normalized_mem</th>\n",
       "      <th>ZIP</th>\n",
       "      <th>CounDist</th>\n",
       "    </tr>\n",
       "  </thead>\n",
       "  <tbody>\n",
       "    <tr>\n",
       "      <th>2</th>\n",
       "      <td>R0002295</td>\n",
       "      <td>3/3/2021</td>\n",
       "      <td>James F Gennaro</td>\n",
       "      <td>11418</td>\n",
       "      <td>29.0</td>\n",
       "    </tr>\n",
       "    <tr>\n",
       "      <th>118</th>\n",
       "      <td>R0005425</td>\n",
       "      <td>9/30/2021</td>\n",
       "      <td>Carlina Rivera</td>\n",
       "      <td>10010</td>\n",
       "      <td>2.0</td>\n",
       "    </tr>\n",
       "    <tr>\n",
       "      <th>119</th>\n",
       "      <td>R0002522</td>\n",
       "      <td>7/7/2020</td>\n",
       "      <td>Carlina Rivera</td>\n",
       "      <td>10010</td>\n",
       "      <td>2.0</td>\n",
       "    </tr>\n",
       "    <tr>\n",
       "      <th>120</th>\n",
       "      <td>R0003919</td>\n",
       "      <td>1/31/2021</td>\n",
       "      <td>Carlina Rivera</td>\n",
       "      <td>10010</td>\n",
       "      <td>2.0</td>\n",
       "    </tr>\n",
       "    <tr>\n",
       "      <th>121</th>\n",
       "      <td>R0004557</td>\n",
       "      <td>5/12/2021</td>\n",
       "      <td>Carlina Rivera</td>\n",
       "      <td>10010</td>\n",
       "      <td>2.0</td>\n",
       "    </tr>\n",
       "  </tbody>\n",
       "</table>\n",
       "</div>"
      ],
      "text/plain": [
       "        REFNO       DATE   normalized_mem    ZIP CounDist\n",
       "2    R0002295   3/3/2021  James F Gennaro  11418     29.0\n",
       "118  R0005425  9/30/2021   Carlina Rivera  10010      2.0\n",
       "119  R0002522   7/7/2020   Carlina Rivera  10010      2.0\n",
       "120  R0003919  1/31/2021   Carlina Rivera  10010      2.0\n",
       "121  R0004557  5/12/2021   Carlina Rivera  10010      2.0"
      ]
     },
     "execution_count": 132,
     "metadata": {},
     "output_type": "execute_result"
    }
   ],
   "source": [
    "gdf_to_join.head()"
   ]
  },
  {
   "cell_type": "code",
   "execution_count": 62,
   "metadata": {},
   "outputs": [],
   "source": [
    "donation_counts = gdf_to_join.groupby(['normalized_mem','CounDist']).size().reset_index(name='count')\n"
   ]
  },
  {
   "cell_type": "code",
   "execution_count": 55,
   "metadata": {},
   "outputs": [],
   "source": [
    "donation_counts_all = gdf_to_join_all.groupby(['matched_name','CounDist']).size().reset_index(name='count')"
   ]
  },
  {
   "cell_type": "code",
   "execution_count": 63,
   "metadata": {},
   "outputs": [],
   "source": [
    "max_donations_by_district = donation_counts.loc[donation_counts.groupby('normalized_mem')['count'].idxmax()]"
   ]
  },
  {
   "cell_type": "code",
   "execution_count": 56,
   "metadata": {},
   "outputs": [],
   "source": [
    "max_donations_by_district_all = donation_counts_all.loc[donation_counts_all.groupby('matched_name')['count'].idxmax()]"
   ]
  },
  {
   "cell_type": "code",
   "execution_count": 64,
   "metadata": {},
   "outputs": [],
   "source": [
    "city_council_districts = pd.read_csv('../data/city_council_districts.csv')"
   ]
  },
  {
   "cell_type": "code",
   "execution_count": 65,
   "metadata": {},
   "outputs": [],
   "source": [
    "member_key = pd.read_csv('../data/member_key.csv')"
   ]
  },
  {
   "cell_type": "code",
   "execution_count": 66,
   "metadata": {},
   "outputs": [],
   "source": [
    "city_council_districts.to_csv('../data/city_council_districts.csv', index=False)"
   ]
  },
  {
   "cell_type": "code",
   "execution_count": 59,
   "metadata": {},
   "outputs": [
    {
     "data": {
      "text/html": [
       "<div>\n",
       "<style scoped>\n",
       "    .dataframe tbody tr th:only-of-type {\n",
       "        vertical-align: middle;\n",
       "    }\n",
       "\n",
       "    .dataframe tbody tr th {\n",
       "        vertical-align: top;\n",
       "    }\n",
       "\n",
       "    .dataframe thead th {\n",
       "        text-align: right;\n",
       "    }\n",
       "</style>\n",
       "<table border=\"1\" class=\"dataframe\">\n",
       "  <thead>\n",
       "    <tr style=\"text-align: right;\">\n",
       "      <th></th>\n",
       "      <th>normalized_mem</th>\n",
       "      <th>district</th>\n",
       "    </tr>\n",
       "  </thead>\n",
       "  <tbody>\n",
       "    <tr>\n",
       "      <th>0</th>\n",
       "      <td>Erin Z Hussein</td>\n",
       "      <td>2</td>\n",
       "    </tr>\n",
       "    <tr>\n",
       "      <th>1</th>\n",
       "      <td>Carlina Rivera</td>\n",
       "      <td>2</td>\n",
       "    </tr>\n",
       "    <tr>\n",
       "      <th>2</th>\n",
       "      <td>Carmen De La Rosa</td>\n",
       "      <td>10</td>\n",
       "    </tr>\n",
       "    <tr>\n",
       "      <th>3</th>\n",
       "      <td>James E Behr</td>\n",
       "      <td>10</td>\n",
       "    </tr>\n",
       "    <tr>\n",
       "      <th>4</th>\n",
       "      <td>Angela Fernandez</td>\n",
       "      <td>10</td>\n",
       "    </tr>\n",
       "  </tbody>\n",
       "</table>\n",
       "</div>"
      ],
      "text/plain": [
       "      normalized_mem  district\n",
       "0     Erin Z Hussein         2\n",
       "1     Carlina Rivera         2\n",
       "2  Carmen De La Rosa        10\n",
       "3       James E Behr        10\n",
       "4   Angela Fernandez        10"
      ]
     },
     "execution_count": 59,
     "metadata": {},
     "output_type": "execute_result"
    }
   ],
   "source": [
    "member_key.head()"
   ]
  },
  {
   "cell_type": "code",
   "execution_count": 67,
   "metadata": {},
   "outputs": [
    {
     "data": {
      "text/plain": [
       "normalized_mem\n",
       "Tiffany Caban            2415\n",
       "Shahana Hanif            1927\n",
       "Kristin R Jordan         1781\n",
       "Alexa Aviles             1660\n",
       "Crystal Hudson           1467\n",
       "Christopher Marte        1345\n",
       "Sandy Nurse              1305\n",
       "Pierina A Sanchez        1285\n",
       "Chi Osse                 1204\n",
       "Carlina Rivera           1195\n",
       "Erik Bottcher            1160\n",
       "Amanda Farias            1081\n",
       "Rita C Joseph             918\n",
       "Marjorie Velazquez        909\n",
       "Vickie Paladino           873\n",
       "Mercedes Narcisse         863\n",
       "Lincoln Restler           827\n",
       "Shekar Krishnan           819\n",
       "Carmen De La Rosa         813\n",
       "Gale Brewer               799\n",
       "Julie Won                 794\n",
       "Rafael Salamanca          773\n",
       "Nantasha Williams         758\n",
       "Sandra Ung                754\n",
       "Lynn Schulman             711\n",
       "Adrienne Adams            709\n",
       "Robert F Holden           685\n",
       "Kalman Yeger              656\n",
       "David M Carr              650\n",
       "Kamillah M Hanks          639\n",
       "Linda Lee                 637\n",
       "Julie Menin               633\n",
       "Justin Brannan            625\n",
       "Shaun Abreu               614\n",
       "Jennifer Gutierrez        602\n",
       "Althea V Stevens          595\n",
       "Ari Kagan                 581\n",
       "Keith Powers              566\n",
       "Farah Louis               489\n",
       "Darlene Mealy             457\n",
       "James F Gennaro           436\n",
       "Inna Vernikov             426\n",
       "Kevin C Riley             424\n",
       "Joseph Borelli            409\n",
       "Francisco P Moya          404\n",
       "Diana I Ayala             373\n",
       "Joann Ariola              370\n",
       "Selvena Brooks-Powers     369\n",
       "Charles Barron            316\n",
       "Oswald Feliz              308\n",
       "Eric Dinowitz             209\n",
       "Name: count, dtype: int64"
      ]
     },
     "execution_count": 67,
     "metadata": {},
     "output_type": "execute_result"
    }
   ],
   "source": [
    "gdf_to_join['normalized_mem'].value_counts()"
   ]
  },
  {
   "cell_type": "code",
   "execution_count": 68,
   "metadata": {},
   "outputs": [],
   "source": [
    "gdf_to_join = pd.merge(gdf_to_join, fuzzy_matched_df, on='normalized_mem', how='left')"
   ]
  },
  {
   "cell_type": "code",
   "execution_count": 69,
   "metadata": {},
   "outputs": [],
   "source": [
    "df_merged = pd.merge(gdf_to_join, city_council_districts, left_on='VotePersonName',right_on ='OfficeRecordFullName', how='left')"
   ]
  },
  {
   "cell_type": "code",
   "execution_count": 60,
   "metadata": {},
   "outputs": [
    {
     "data": {
      "text/plain": [
       "(159156, 5)"
      ]
     },
     "execution_count": 60,
     "metadata": {},
     "output_type": "execute_result"
    }
   ],
   "source": [
    "gdf_to_join_all.shape"
   ]
  },
  {
   "cell_type": "code",
   "execution_count": 61,
   "metadata": {},
   "outputs": [
    {
     "data": {
      "text/plain": [
       "395"
      ]
     },
     "execution_count": 61,
     "metadata": {},
     "output_type": "execute_result"
    }
   ],
   "source": [
    "gdf_to_join_all['matched_name'].nunique()"
   ]
  },
  {
   "cell_type": "code",
   "execution_count": 62,
   "metadata": {},
   "outputs": [],
   "source": [
    "df_merged_all = pd.merge(gdf_to_join_all, member_key, left_on='matched_name',right_on ='normalized_mem', how='left')"
   ]
  },
  {
   "cell_type": "code",
   "execution_count": 90,
   "metadata": {},
   "outputs": [
    {
     "data": {
      "text/html": [
       "<div>\n",
       "<style scoped>\n",
       "    .dataframe tbody tr th:only-of-type {\n",
       "        vertical-align: middle;\n",
       "    }\n",
       "\n",
       "    .dataframe tbody tr th {\n",
       "        vertical-align: top;\n",
       "    }\n",
       "\n",
       "    .dataframe thead th {\n",
       "        text-align: right;\n",
       "    }\n",
       "</style>\n",
       "<table border=\"1\" class=\"dataframe\">\n",
       "  <thead>\n",
       "    <tr style=\"text-align: right;\">\n",
       "      <th></th>\n",
       "      <th>normalized_mem</th>\n",
       "      <th>district</th>\n",
       "    </tr>\n",
       "  </thead>\n",
       "  <tbody>\n",
       "  </tbody>\n",
       "</table>\n",
       "</div>"
      ],
      "text/plain": [
       "Empty DataFrame\n",
       "Columns: [normalized_mem, district]\n",
       "Index: []"
      ]
     },
     "execution_count": 90,
     "metadata": {},
     "output_type": "execute_result"
    }
   ],
   "source": [
    "member_key[member_key['normalized_mem'] == 'Justin Brennan']"
   ]
  },
  {
   "cell_type": "code",
   "execution_count": 89,
   "metadata": {},
   "outputs": [
    {
     "data": {
      "text/plain": [
       "REFNO     DATE       matched_name    ZIP    CounDist\n",
       "R0004742  2/16/2018  Justin Brannan  10038  1.0         1\n",
       "R0006826  9/17/2020  Justin Brannan  11209  43.0        1\n",
       "R0006819  7/19/2020  Justin Brannan  11225  40.0        1\n",
       "R0006820  7/24/2020  Justin Brannan  11367  24.0        1\n",
       "R0006821  7/27/2020  Justin Brannan  10009  2.0         1\n",
       "                                                       ..\n",
       "R0005849  1/10/2020  Justin Brannan  11228  43.0        1\n",
       "R0005850  1/10/2020  Justin Brannan  11204  47.0        1\n",
       "R0005851  1/10/2020  Justin Brannan  11204  47.0        1\n",
       "R0005852  1/10/2020  Justin Brannan  10308  51.0        1\n",
       "R0008052  10/1/2021  Justin Brannan  11230  44.0        1\n",
       "Name: count, Length: 625, dtype: int64"
      ]
     },
     "execution_count": 89,
     "metadata": {},
     "output_type": "execute_result"
    }
   ],
   "source": [
    "gdf_to_join_all[gdf_to_join_all['matched_name'] == 'Justin Brannan'].value_counts()"
   ]
  },
  {
   "cell_type": "code",
   "execution_count": 70,
   "metadata": {},
   "outputs": [
    {
     "name": "stderr",
     "output_type": "stream",
     "text": [
      "C:\\Users\\samtg\\AppData\\Local\\Temp\\ipykernel_17356\\2473771091.py:1: DtypeWarning: Columns (12,21,33,37,38,40,41,42,43,44,45,46,51,54) have mixed types. Specify dtype option on import or set low_memory=False.\n",
      "  candidates_cleaned = pd.read_csv('../data/cleaned/candidates_surgeo.csv')\n"
     ]
    }
   ],
   "source": [
    "candidates_cleaned = pd.read_csv('../data/cleaned/candidates_surgeo.csv')"
   ]
  },
  {
   "cell_type": "code",
   "execution_count": 71,
   "metadata": {},
   "outputs": [
    {
     "ename": "NameError",
     "evalue": "name 'df_merged_all' is not defined",
     "output_type": "error",
     "traceback": [
      "\u001b[1;31m---------------------------------------------------------------------------\u001b[0m",
      "\u001b[1;31mNameError\u001b[0m                                 Traceback (most recent call last)",
      "Cell \u001b[1;32mIn[71], line 1\u001b[0m\n\u001b[1;32m----> 1\u001b[0m \u001b[43mdf_merged_all\u001b[49m[[\u001b[38;5;124m'\u001b[39m\u001b[38;5;124mmatched_name\u001b[39m\u001b[38;5;124m'\u001b[39m,\u001b[38;5;124m'\u001b[39m\u001b[38;5;124mnormalized_mem\u001b[39m\u001b[38;5;124m'\u001b[39m,\u001b[38;5;124m'\u001b[39m\u001b[38;5;124mCounDist\u001b[39m\u001b[38;5;124m'\u001b[39m,\u001b[38;5;124m'\u001b[39m\u001b[38;5;124mdistrict\u001b[39m\u001b[38;5;124m'\u001b[39m]]\u001b[38;5;241m.\u001b[39msample(\u001b[38;5;241m15\u001b[39m)\n",
      "\u001b[1;31mNameError\u001b[0m: name 'df_merged_all' is not defined"
     ]
    }
   ],
   "source": [
    "df_merged_all[['matched_name','normalized_mem','CounDist','district']].sample(15)"
   ]
  },
  {
   "cell_type": "code",
   "execution_count": 84,
   "metadata": {},
   "outputs": [
    {
     "data": {
      "text/plain": [
       "0.135125285883033"
      ]
     },
     "execution_count": 84,
     "metadata": {},
     "output_type": "execute_result"
    }
   ],
   "source": [
    "# what percentage of normalized_mem are nan\n",
    "df_merged_all['normalized_mem'].isna().sum() / len(df_merged_all)"
   ]
  },
  {
   "cell_type": "code",
   "execution_count": 72,
   "metadata": {},
   "outputs": [],
   "source": [
    "# drop columns that are not needed\n",
    "df_merged = df_merged.drop(columns=['score','VotePersonName'])"
   ]
  },
  {
   "cell_type": "code",
   "execution_count": 73,
   "metadata": {},
   "outputs": [
    {
     "data": {
      "text/html": [
       "<div>\n",
       "<style scoped>\n",
       "    .dataframe tbody tr th:only-of-type {\n",
       "        vertical-align: middle;\n",
       "    }\n",
       "\n",
       "    .dataframe tbody tr th {\n",
       "        vertical-align: top;\n",
       "    }\n",
       "\n",
       "    .dataframe thead th {\n",
       "        text-align: right;\n",
       "    }\n",
       "</style>\n",
       "<table border=\"1\" class=\"dataframe\">\n",
       "  <thead>\n",
       "    <tr style=\"text-align: right;\">\n",
       "      <th></th>\n",
       "      <th>REFNO</th>\n",
       "      <th>DATE</th>\n",
       "      <th>normalized_mem</th>\n",
       "      <th>ZIP</th>\n",
       "      <th>CounDist</th>\n",
       "      <th>OfficeRecordFullName</th>\n",
       "      <th>District</th>\n",
       "    </tr>\n",
       "  </thead>\n",
       "  <tbody>\n",
       "    <tr>\n",
       "      <th>0</th>\n",
       "      <td>R0002295</td>\n",
       "      <td>3/3/2021</td>\n",
       "      <td>James F Gennaro</td>\n",
       "      <td>11418</td>\n",
       "      <td>29.0</td>\n",
       "      <td>James F. Gennaro</td>\n",
       "      <td>24.0</td>\n",
       "    </tr>\n",
       "  </tbody>\n",
       "</table>\n",
       "</div>"
      ],
      "text/plain": [
       "      REFNO      DATE   normalized_mem    ZIP CounDist OfficeRecordFullName  \\\n",
       "0  R0002295  3/3/2021  James F Gennaro  11418     29.0     James F. Gennaro   \n",
       "\n",
       "   District  \n",
       "0      24.0  "
      ]
     },
     "execution_count": 73,
     "metadata": {},
     "output_type": "execute_result"
    }
   ],
   "source": [
    "df_merged.head(1)"
   ]
  },
  {
   "cell_type": "code",
   "execution_count": 74,
   "metadata": {},
   "outputs": [],
   "source": [
    "#rename columns\n",
    "df_merged = df_merged.rename(columns={'CounDist':'donation_district','District':'home_district'})"
   ]
  },
  {
   "cell_type": "code",
   "execution_count": 91,
   "metadata": {},
   "outputs": [
    {
     "data": {
      "text/html": [
       "<div>\n",
       "<style scoped>\n",
       "    .dataframe tbody tr th:only-of-type {\n",
       "        vertical-align: middle;\n",
       "    }\n",
       "\n",
       "    .dataframe tbody tr th {\n",
       "        vertical-align: top;\n",
       "    }\n",
       "\n",
       "    .dataframe thead th {\n",
       "        text-align: right;\n",
       "    }\n",
       "</style>\n",
       "<table border=\"1\" class=\"dataframe\">\n",
       "  <thead>\n",
       "    <tr style=\"text-align: right;\">\n",
       "      <th></th>\n",
       "      <th>REFNO</th>\n",
       "      <th>DATE</th>\n",
       "      <th>matched_name</th>\n",
       "      <th>ZIP</th>\n",
       "      <th>CounDist</th>\n",
       "      <th>normalized_mem</th>\n",
       "      <th>district</th>\n",
       "    </tr>\n",
       "  </thead>\n",
       "  <tbody>\n",
       "    <tr>\n",
       "      <th>0</th>\n",
       "      <td>R0001664</td>\n",
       "      <td>12/17/2020</td>\n",
       "      <td>Rodrigo Camarena</td>\n",
       "      <td>90068</td>\n",
       "      <td>oos</td>\n",
       "      <td>Rodrigo Camarena</td>\n",
       "      <td>38.0</td>\n",
       "    </tr>\n",
       "    <tr>\n",
       "      <th>1</th>\n",
       "      <td>R0000080</td>\n",
       "      <td>9/5/2020</td>\n",
       "      <td>Jenny L Low</td>\n",
       "      <td>11201</td>\n",
       "      <td>33.0</td>\n",
       "      <td>Jenny L Low</td>\n",
       "      <td>1.0</td>\n",
       "    </tr>\n",
       "    <tr>\n",
       "      <th>2</th>\n",
       "      <td>R0002295</td>\n",
       "      <td>3/3/2021</td>\n",
       "      <td>James F Gennaro</td>\n",
       "      <td>11418</td>\n",
       "      <td>29.0</td>\n",
       "      <td>James F Gennaro</td>\n",
       "      <td>24.0</td>\n",
       "    </tr>\n",
       "    <tr>\n",
       "      <th>3</th>\n",
       "      <td>R0000171</td>\n",
       "      <td>10/19/2020</td>\n",
       "      <td>Leslie Boghosian Murphy</td>\n",
       "      <td>10027</td>\n",
       "      <td>7.0</td>\n",
       "      <td>Leslie Boghosian Murphy</td>\n",
       "      <td>3.0</td>\n",
       "    </tr>\n",
       "    <tr>\n",
       "      <th>4</th>\n",
       "      <td>R0001588</td>\n",
       "      <td>1/21/2021</td>\n",
       "      <td>Benjamin Solotaire</td>\n",
       "      <td>11211</td>\n",
       "      <td>34.0</td>\n",
       "      <td>Benjamin Solotaire</td>\n",
       "      <td>33.0</td>\n",
       "    </tr>\n",
       "  </tbody>\n",
       "</table>\n",
       "</div>"
      ],
      "text/plain": [
       "      REFNO        DATE             matched_name    ZIP CounDist  \\\n",
       "0  R0001664  12/17/2020         Rodrigo Camarena  90068      oos   \n",
       "1  R0000080    9/5/2020              Jenny L Low  11201     33.0   \n",
       "2  R0002295    3/3/2021          James F Gennaro  11418     29.0   \n",
       "3  R0000171  10/19/2020  Leslie Boghosian Murphy  10027      7.0   \n",
       "4  R0001588   1/21/2021       Benjamin Solotaire  11211     34.0   \n",
       "\n",
       "            normalized_mem  district  \n",
       "0         Rodrigo Camarena      38.0  \n",
       "1              Jenny L Low       1.0  \n",
       "2          James F Gennaro      24.0  \n",
       "3  Leslie Boghosian Murphy       3.0  \n",
       "4       Benjamin Solotaire      33.0  "
      ]
     },
     "execution_count": 91,
     "metadata": {},
     "output_type": "execute_result"
    }
   ],
   "source": [
    "df_merged_all.head()"
   ]
  },
  {
   "cell_type": "code",
   "execution_count": 92,
   "metadata": {},
   "outputs": [],
   "source": [
    "df_merged_all = df_merged_all.rename(columns={'CounDist':'donation_district','district':'home_district'})"
   ]
  },
  {
   "cell_type": "code",
   "execution_count": 75,
   "metadata": {},
   "outputs": [],
   "source": [
    "df_merged['is_home_district'] = df_merged['donation_district'] == df_merged['home_district']"
   ]
  },
  {
   "cell_type": "code",
   "execution_count": 93,
   "metadata": {},
   "outputs": [],
   "source": [
    "df_merged_all['is_home_district'] = df_merged_all['donation_district'] == df_merged_all['home_district']"
   ]
  },
  {
   "cell_type": "code",
   "execution_count": 76,
   "metadata": {},
   "outputs": [],
   "source": [
    "df_merged['is_oos'] = df_merged['donation_district'] == 'oos'"
   ]
  },
  {
   "cell_type": "code",
   "execution_count": 94,
   "metadata": {},
   "outputs": [],
   "source": [
    "df_merged_all['is_oos'] = df_merged_all['donation_district'] == 'oos'"
   ]
  },
  {
   "cell_type": "code",
   "execution_count": 77,
   "metadata": {},
   "outputs": [],
   "source": [
    "donation_summary = df_merged.groupby('normalized_mem').agg(\n",
    "    total_donations=('REFNO', 'count'),\n",
    "    home_district_donations=('is_home_district', 'sum'),\n",
    "    oos_donations=('is_oos', 'sum')\n",
    ").reset_index()"
   ]
  },
  {
   "cell_type": "code",
   "execution_count": 95,
   "metadata": {},
   "outputs": [],
   "source": [
    "donation_summary_all = df_merged_all.groupby('matched_name').agg(\n",
    "    total_donations=('REFNO', 'count'),\n",
    "    home_district_donations=('is_home_district', 'sum'),\n",
    "    oos_donations=('is_oos', 'sum')\n",
    ").reset_index()"
   ]
  },
  {
   "cell_type": "code",
   "execution_count": 78,
   "metadata": {},
   "outputs": [],
   "source": [
    "donation_summary['home_district_percentage'] = (donation_summary['home_district_donations'] / donation_summary['total_donations']) * 100\n",
    "donation_summary['oos_percentage'] = (donation_summary['oos_donations'] / donation_summary['total_donations']) * 100"
   ]
  },
  {
   "cell_type": "code",
   "execution_count": 96,
   "metadata": {},
   "outputs": [],
   "source": [
    "donation_summary_all['home_district_percentage'] = (donation_summary_all['home_district_donations'] / donation_summary_all['total_donations']) * 100\n",
    "donation_summary_all['oos_percentage'] = (donation_summary_all['oos_donations'] / donation_summary_all['total_donations']) * 100"
   ]
  },
  {
   "cell_type": "code",
   "execution_count": 160,
   "metadata": {},
   "outputs": [],
   "source": [
    "ds_join = donation_summary[['normalized_mem','home_district_percentage','oos_percentage']]"
   ]
  },
  {
   "cell_type": "code",
   "execution_count": 97,
   "metadata": {},
   "outputs": [],
   "source": [
    "ds_join_all = donation_summary_all[['matched_name','home_district_percentage','oos_percentage']]"
   ]
  },
  {
   "cell_type": "markdown",
   "metadata": {},
   "source": [
    "Put it all together"
   ]
  },
  {
   "cell_type": "code",
   "execution_count": 161,
   "metadata": {},
   "outputs": [],
   "source": [
    "iw_merge = pd.merge(iw_merge, ds_join, on='normalized_mem')"
   ]
  },
  {
   "cell_type": "code",
   "execution_count": 98,
   "metadata": {},
   "outputs": [],
   "source": [
    "iw_merge_all = pd.merge(iw_merge_all, ds_join_all, on='matched_name')"
   ]
  },
  {
   "cell_type": "code",
   "execution_count": 162,
   "metadata": {},
   "outputs": [],
   "source": [
    "iw_merge = pd.merge(iw_merge, con_type_value, on='normalized_mem')"
   ]
  },
  {
   "cell_type": "code",
   "execution_count": 99,
   "metadata": {},
   "outputs": [],
   "source": [
    "iw_merge_all = pd.merge(iw_merge_all, con_type_value_all, on='matched_name')"
   ]
  },
  {
   "cell_type": "code",
   "execution_count": 163,
   "metadata": {},
   "outputs": [
    {
     "data": {
      "text/plain": [
       "normalized_mem\n",
       "Adrienne Adams           1\n",
       "Oswald Feliz             1\n",
       "Kamillah M Hanks         1\n",
       "Keith Powers             1\n",
       "Kevin C Riley            1\n",
       "Kristin R Jordan         1\n",
       "Lincoln Restler          1\n",
       "Linda Lee                1\n",
       "Lynn Schulman            1\n",
       "Marjorie Velazquez       1\n",
       "Mercedes Narcisse        1\n",
       "Nantasha Williams        1\n",
       "Pierina A Sanchez        1\n",
       "Justin Brannan           1\n",
       "Rafael Salamanca         1\n",
       "Rita C Joseph            1\n",
       "Robert F Holden          1\n",
       "Sandra Ung               1\n",
       "Sandy Nurse              1\n",
       "Selvena Brooks-Powers    1\n",
       "Shahana Hanif            1\n",
       "Shaun Abreu              1\n",
       "Shekar Krishnan          1\n",
       "Tiffany Caban            1\n",
       "Kalman Yeger             1\n",
       "Julie Won                1\n",
       "Alexa Aviles             1\n",
       "David M Carr             1\n",
       "Althea V Stevens         1\n",
       "Amanda Farias            1\n",
       "Ari Kagan                1\n",
       "Carlina Rivera           1\n",
       "Carmen De La Rosa        1\n",
       "Charles Barron           1\n",
       "Chi Osse                 1\n",
       "Christopher Marte        1\n",
       "Crystal Hudson           1\n",
       "Darlene Mealy            1\n",
       "Diana I Ayala            1\n",
       "Julie Menin              1\n",
       "Eric Dinowitz            1\n",
       "Erik Bottcher            1\n",
       "Farah Louis              1\n",
       "Francisco P Moya         1\n",
       "Gale Brewer              1\n",
       "Inna Vernikov            1\n",
       "James F Gennaro          1\n",
       "Jennifer Gutierrez       1\n",
       "Joann Ariola             1\n",
       "Joseph Borelli           1\n",
       "Vickie Paladino          1\n",
       "Name: count, dtype: int64"
      ]
     },
     "execution_count": 163,
     "metadata": {},
     "output_type": "execute_result"
    }
   ],
   "source": [
    "iw_merge['normalized_mem'].value_counts()"
   ]
  },
  {
   "cell_type": "code",
   "execution_count": 164,
   "metadata": {},
   "outputs": [],
   "source": [
    "iw_merge.to_csv('../data/winning_members_donations.csv', index=False)"
   ]
  },
  {
   "cell_type": "code",
   "execution_count": 100,
   "metadata": {},
   "outputs": [],
   "source": [
    "iw_merge_all.to_csv('../data/all_members_donations.csv', index=False)"
   ]
  },
  {
   "cell_type": "code",
   "execution_count": 6,
   "metadata": {},
   "outputs": [],
   "source": [
    "iw_merge = pd.read_csv('../data/winning_members_donations.csv')"
   ]
  },
  {
   "cell_type": "code",
   "execution_count": 83,
   "metadata": {},
   "outputs": [],
   "source": [
    "from sklearn.preprocessing import StandardScaler\n",
    "from sklearn.cluster import KMeans\n",
    "import matplotlib.pyplot as plt\n",
    "from sklearn.metrics import silhouette_score"
   ]
  },
  {
   "cell_type": "code",
   "execution_count": 84,
   "metadata": {},
   "outputs": [],
   "source": [
    "columns_for_clustering = ['count', 'total_amount', 'mean_amount', 'home_district_percentage', 'oos_percentage','perc_IND_value']"
   ]
  },
  {
   "cell_type": "code",
   "execution_count": 85,
   "metadata": {},
   "outputs": [],
   "source": [
    "scaler = StandardScaler()\n",
    "df_scaled = scaler.fit_transform(iw_merge[columns_for_clustering])"
   ]
  },
  {
   "cell_type": "code",
   "execution_count": 86,
   "metadata": {},
   "outputs": [
    {
     "name": "stderr",
     "output_type": "stream",
     "text": [
      "c:\\Users\\samtg\\AppData\\Local\\Programs\\Python\\Python311\\Lib\\site-packages\\sklearn\\cluster\\_kmeans.py:1412: FutureWarning: The default value of `n_init` will change from 10 to 'auto' in 1.4. Set the value of `n_init` explicitly to suppress the warning\n",
      "  super()._check_params_vs_input(X, default_n_init=10)\n",
      "c:\\Users\\samtg\\AppData\\Local\\Programs\\Python\\Python311\\Lib\\site-packages\\sklearn\\cluster\\_kmeans.py:1412: FutureWarning: The default value of `n_init` will change from 10 to 'auto' in 1.4. Set the value of `n_init` explicitly to suppress the warning\n",
      "  super()._check_params_vs_input(X, default_n_init=10)\n",
      "c:\\Users\\samtg\\AppData\\Local\\Programs\\Python\\Python311\\Lib\\site-packages\\sklearn\\cluster\\_kmeans.py:1412: FutureWarning: The default value of `n_init` will change from 10 to 'auto' in 1.4. Set the value of `n_init` explicitly to suppress the warning\n",
      "  super()._check_params_vs_input(X, default_n_init=10)\n",
      "c:\\Users\\samtg\\AppData\\Local\\Programs\\Python\\Python311\\Lib\\site-packages\\sklearn\\cluster\\_kmeans.py:1412: FutureWarning: The default value of `n_init` will change from 10 to 'auto' in 1.4. Set the value of `n_init` explicitly to suppress the warning\n",
      "  super()._check_params_vs_input(X, default_n_init=10)\n",
      "c:\\Users\\samtg\\AppData\\Local\\Programs\\Python\\Python311\\Lib\\site-packages\\sklearn\\cluster\\_kmeans.py:1412: FutureWarning: The default value of `n_init` will change from 10 to 'auto' in 1.4. Set the value of `n_init` explicitly to suppress the warning\n",
      "  super()._check_params_vs_input(X, default_n_init=10)\n",
      "c:\\Users\\samtg\\AppData\\Local\\Programs\\Python\\Python311\\Lib\\site-packages\\sklearn\\cluster\\_kmeans.py:1412: FutureWarning: The default value of `n_init` will change from 10 to 'auto' in 1.4. Set the value of `n_init` explicitly to suppress the warning\n",
      "  super()._check_params_vs_input(X, default_n_init=10)\n",
      "c:\\Users\\samtg\\AppData\\Local\\Programs\\Python\\Python311\\Lib\\site-packages\\sklearn\\cluster\\_kmeans.py:1412: FutureWarning: The default value of `n_init` will change from 10 to 'auto' in 1.4. Set the value of `n_init` explicitly to suppress the warning\n",
      "  super()._check_params_vs_input(X, default_n_init=10)\n",
      "c:\\Users\\samtg\\AppData\\Local\\Programs\\Python\\Python311\\Lib\\site-packages\\sklearn\\cluster\\_kmeans.py:1412: FutureWarning: The default value of `n_init` will change from 10 to 'auto' in 1.4. Set the value of `n_init` explicitly to suppress the warning\n",
      "  super()._check_params_vs_input(X, default_n_init=10)\n",
      "c:\\Users\\samtg\\AppData\\Local\\Programs\\Python\\Python311\\Lib\\site-packages\\sklearn\\cluster\\_kmeans.py:1412: FutureWarning: The default value of `n_init` will change from 10 to 'auto' in 1.4. Set the value of `n_init` explicitly to suppress the warning\n",
      "  super()._check_params_vs_input(X, default_n_init=10)\n"
     ]
    }
   ],
   "source": [
    "inertia = []\n",
    "K_range = range(1, 10)\n",
    "for k in K_range:\n",
    "    kmeans = KMeans(n_clusters=k, random_state=42)\n",
    "    kmeans.fit(df_scaled)\n",
    "    inertia.append(kmeans.inertia_)"
   ]
  },
  {
   "cell_type": "code",
   "execution_count": 87,
   "metadata": {},
   "outputs": [
    {
     "data": {
      "image/png": "[encoded data removed]",
      "text/plain": [
       "<Figure size 800x600 with 1 Axes>"
      ]
     },
     "metadata": {},
     "output_type": "display_data"
    }
   ],
   "source": [
    "plt.figure(figsize=(8, 6))\n",
    "plt.plot(K_range, inertia, 'bx-')\n",
    "plt.xlabel('Number of clusters (k)')\n",
    "plt.ylabel('Inertia')\n",
    "plt.title('Elbow Method For Optimal k')\n",
    "plt.show()"
   ]
  },
  {
   "cell_type": "code",
   "execution_count": 88,
   "metadata": {},
   "outputs": [
    {
     "name": "stderr",
     "output_type": "stream",
     "text": [
      "c:\\Users\\samtg\\AppData\\Local\\Programs\\Python\\Python311\\Lib\\site-packages\\sklearn\\cluster\\_kmeans.py:1412: FutureWarning: The default value of `n_init` will change from 10 to 'auto' in 1.4. Set the value of `n_init` explicitly to suppress the warning\n",
      "  super()._check_params_vs_input(X, default_n_init=10)\n"
     ]
    }
   ],
   "source": [
    "optimal_k = 5\n",
    "kmeans = KMeans(n_clusters=optimal_k, random_state=42)\n",
    "iw_merge['cluster'] = kmeans.fit_predict(df_scaled)"
   ]
  },
  {
   "cell_type": "markdown",
   "metadata": {},
   "source": [
    "Try and compare winners' donations to losers'"
   ]
  },
  {
   "cell_type": "code",
   "execution_count": 181,
   "metadata": {},
   "outputs": [],
   "source": [
    "member_key = pd.read_csv('../../cc_election_cleaning/candidate_district_key.csv')"
   ]
  },
  {
   "cell_type": "code",
   "execution_count": 185,
   "metadata": {},
   "outputs": [
    {
     "data": {
      "text/plain": [
       "array(['Rodrigo Camarena', 'Jenny L Low', 'James F Gennaro',\n",
       "       'Leslie Boghosian Murphy', 'Benjamin Solotaire', 'Elizabeth Adams',\n",
       "       'Shirley S Paul', 'Lynn Schulman', 'Mercedes Narcisse',\n",
       "       'Kamillah M Hanks', 'Amoy K Barnes', 'Jaslin Kaur',\n",
       "       'Charles Barron', 'Shahana Hanif', 'Amanda Farias', 'Amit S Bagga',\n",
       "       'John Choe', 'Julie Menin', 'Selvena Brooks-Powers', 'Ari Kagan',\n",
       "       'Rafael Salamanca', 'Keith Powers', 'Marjorie Velazquez',\n",
       "       'Cordell Cleare', 'Briget Rein', 'Eric Dinowitz',\n",
       "       'Shekar Krishnan', 'Rita C Joseph', 'Althea V Stevens',\n",
       "       'Crystal Hudson', 'Wilfredo Florentino', 'Alexa Aviles',\n",
       "       'Erik Bottcher', 'Juan D Ardila', 'Pierina A Sanchez', 'Julie Won',\n",
       "       'Carolyn T Tran', 'Alicka Ampry-Samuel', 'Carmen De La Rosa',\n",
       "       'Adrienne Adams', 'Felicia Singh', 'Kevin C Riley', 'Chi Osse',\n",
       "       'Tiffany Caban', 'Jesse D Laymon', 'Linda Lee', 'Mariya Markh',\n",
       "       'Gale Brewer', 'Justin Brannan', 'Jennifer Gutierrez',\n",
       "       'Francisco P Moya', 'Diana I Ayala', 'Nantasha Williams',\n",
       "       'Sandra Ung', 'Stacy R Lynch', 'Shaun Abreu', 'Tony Avella',\n",
       "       'Carlina Rivera', 'Gigi Li', 'Oswald Feliz', 'Ischia Bravo',\n",
       "       'George Onuorah', 'Harold Tischler', 'Edwin Raymond',\n",
       "       'Abigail J Martin', 'Kim Moscaritolo', 'Fatima Baryab',\n",
       "       'Mamnunul M Haq', 'Dimple Willabus', 'Alexander N Rias',\n",
       "       'Kerryanne C Burke', 'Judy D Newton', 'Farah Louis',\n",
       "       'Maria Ordonez', 'Daniel M Cohen', 'Yudelka Tapia',\n",
       "       'Carmen Quinones', 'Rick Echevarria', 'William A Allen',\n",
       "       'Alfonso Quiroz', 'Steven Raga', 'Kaled A Alamarie',\n",
       "       'Emily Sharpe', 'Robert Waterman', 'Edwin Wong',\n",
       "       'Denise M Keehan-Smith', 'Michael D Hollingsworth',\n",
       "       'Edwin DeJesus', 'Leonardo Bullaro', 'Kathleen Sforza',\n",
       "       'Steven Saperstein', 'David Aronov', 'Mario Rosser',\n",
       "       'Corey Ortega', 'Rebecca Lamorte', 'Sheba T Simpson',\n",
       "       'Anthony Miranda', 'Glennis E Gomez', 'Raymond Sanchez',\n",
       "       'Eliseo D Labayen', 'Ranti Ogunleye', 'Olivia Drabczyk',\n",
       "       'Michael P Schnall', 'Joseph Borelli', 'Sharon Levy', 'Maud Maron',\n",
       "       'Curtis M Harris', 'Justin M Krebs', 'Marti G Allen-Cummings',\n",
       "       'Douglas Schneider', 'Jason Clark', 'Seth M Rosen',\n",
       "       'Tricia Shimamura', 'Richard J Lee', 'Sandy Nurse',\n",
       "       'Hiram Monserrate', 'Sam T Pirozzolo', 'Misba Abdin', 'Mike Scala',\n",
       "       'Helal A Sheikh', 'Monique S Johnson', 'Abdourahamane Diallo',\n",
       "       'Ahmadou T Diallo', 'Gregory S Green', 'Regina Kinsey',\n",
       "       'Mohammed N Mujumder', 'James J Johnson', 'Timothy E Turane',\n",
       "       'Tahirah A Moore', 'Anthony Beckford', 'Victor Swinton',\n",
       "       'Yves T Filius', 'Keith L Taylor', 'Mark Gjonaj', 'Steve Behar',\n",
       "       'Saifur R Khan', 'Mujib U Rahman', \"Brent M O'Leary\",\n",
       "       'Julia Forman', 'Kenya Handy-Hilliard', 'Athena Moore',\n",
       "       'Sara K Lind', 'Josue Pierre', 'Darlene Jackson',\n",
       "       'Phelan-Dante Fitzpatrick', 'Mohammad S Uddin', 'Leonardo Coello',\n",
       "       'Tiffany A Tucker-Pryor', 'Maxi Eugene', 'Billy Freeland',\n",
       "       'April Somboun', 'Robert F Holden', 'Kristin R Jordan',\n",
       "       'Jeffrey Omura', 'Amber Adler', 'Tiffany Winbush',\n",
       "       'Aleta A LaFargue', 'Ebony R Young', 'Austin Shafran',\n",
       "       'Adolfo Abreu', 'Inna Vernikov', 'Erin Z Hussein',\n",
       "       'Evie Hantzopoulos', 'Darlene Mealy', 'Aidan Q Rivera',\n",
       "       'Moumita Ahmed', 'Koshy O Thomas', 'Felicia Kalan', 'Marni Halasa',\n",
       "       'Gardy Brazela', 'Cyril F Joseph', 'Binyomin Bendet',\n",
       "       'Anthony Rivers', 'Bill Perkins', 'David M Carr', 'Hailing Chen',\n",
       "       'Angela Fernandez', 'Brandon West', 'Vivia Morgan',\n",
       "       'Jonathan Bailey', 'Aleda F Gagarin', 'Lincoln Restler',\n",
       "       'Douglas J Shapiro', 'Christopher Marte', 'Steven Patzer',\n",
       "       'Harold C Miller', 'Kalman Yeger', 'Daniel Padernacht',\n",
       "       'Maria A Danzilo', 'Boris Noble', 'Bella A Matias',\n",
       "       'Manny De Los Santos', 'Talea E Wufka', 'Fernando A Aquino',\n",
       "       'Liliana C Melo', 'Marie M Adam-Ovide', 'Josue G Perez',\n",
       "       'William Rivera', 'Luis M Tejada', 'Thomas A Leon',\n",
       "       'Mirza M Rashid', 'Brian Fox', 'Marvin R Jeffcoat',\n",
       "       'Mark Szuszkiewicz', 'Henry L Butler', 'Sal F Albanese',\n",
       "       'Toba Potosky', 'Haile M Rivera', 'Juan Pagan', 'Marcos A Sierra',\n",
       "       'John Sanchez', 'Tamika Mapp', 'Lorenzo Brea',\n",
       "       'Edwin R De La Cruz', 'Shaeleigh M Severino', 'Joann Ariola',\n",
       "       'Rafael Acevedo', 'Ingrid P Gomez', 'Avi Cyperstein',\n",
       "       'Socrates S Solano', 'Nabaraj KC', 'Alejandra L Caraballo',\n",
       "       'Johanna Garcia', 'Regina Edwards', 'Heajin Kim', 'Joshua Kravitz',\n",
       "       'Victor Jordan', 'Dao Yin', 'Shanequa E Moore', 'Andy J Marte',\n",
       "       'Tirso S Pina', 'Lena A Melendez', 'Heriberto Mateo',\n",
       "       'Keith Harris', 'George S Wonica', 'Jordan Hafizi', 'Eliu A Lara',\n",
       "       'Mark Foley', 'Jason L Walker', 'Debra Markell',\n",
       "       'Raimondo Graziano', 'Selina Grey', 'Cecilia C Cortez',\n",
       "       'Terrell L Finner', 'Louis A Cespedes', 'Victoria E Cambranes',\n",
       "       'Nikki Lucas', 'Jacqueline Painter', 'Arthur Z Schwartz',\n",
       "       'David Aiken', 'Leroy Gadsden', 'Al-Hassan Kanu', 'Helen Hines',\n",
       "       'Nicholas Roloson', 'Christopher Durosinmi', 'Whitney A Hu',\n",
       "       'Troy McGhie', 'Philippe-Edner Apostol-Marius', 'Uniqua S Smith',\n",
       "       'Donghui Zang', 'Neng Wang', 'Kelvin Richards', 'John F McBeth',\n",
       "       'Abou Diakhate', 'Sultan Maruf', 'Donald J Cranston',\n",
       "       'Allison L Ryan', 'Deirdre M Levy', 'Vickie Paladino',\n",
       "       'Sanjeev Jindal', 'Renee Collymore', 'Christopher A Sosa',\n",
       "       'Adriana P Aviles', 'Manuel F Perez', 'Michael Beltzer',\n",
       "       'Harriet L Hines', 'John Williams', 'Joseph Packer',\n",
       "       'Harpreet S Toor', 'John J Joyner Jr', 'Blake Morris', 'Rene Hill',\n",
       "       'Joshua Clennon', 'Ruben Cruz', 'Jacqueline Toboroff',\n",
       "       'Brian A Cunningham', 'Terrance D Knox', 'Lilithe L Lozano',\n",
       "       'Marcelle Lashley-Kabore', 'Ceasar Zuniga', 'Marko Kepi',\n",
       "       'Zuri S Jackson', 'Japneet Singh', 'Julian S Sepulveda',\n",
       "       'Darma V Diaz', 'Badrun N Khan', 'Jomo Williams',\n",
       "       'Jesse A Cerrotti', 'Lattina Brown', 'Yu-Ching James Pai',\n",
       "       'Mino Lora', 'Ellen Young', 'Alec Brook Krasny',\n",
       "       'Benjamin I Guttmann', 'Sabrina Gates', 'Jennifer E DeLuca',\n",
       "       'Vanessa Simon', 'Jermaine Sean Smith', 'Jeanette Toomer',\n",
       "       'Sean C Hayes', 'Nicholas B Velkov', 'Scott F Murphy',\n",
       "       'Shah S Haque', 'Jessica Simmons', 'Sean A Esrafily',\n",
       "       'Catherina Gioino', 'Michael S Conigliaro', 'Hector Robertson',\n",
       "       'Stuart C Sherman', 'James F Reilly', 'Jason R Price',\n",
       "       'John-Alexander Sakelos', 'David T Alexis', 'Micah Peterson',\n",
       "       'Rod Townsend', 'Kenichi Wilson', 'Ruben Wills', 'Alpheaus Marcus',\n",
       "       'Pierre Gooding', 'Susan Lee', 'Billy K Council', 'Gena M Watson',\n",
       "       'David Hernandez', 'Reginald Swiney', 'Denny R Salas',\n",
       "       'Melody M Jimenez', 'Dennis N Mihalsky', 'Zack Weiner',\n",
       "       'Bernadette Ferrara', 'Aleksander Mici', 'Matthew I Morgan',\n",
       "       'Susan M Damplo', 'Troy Blackwell', 'Patricia Rondinelli',\n",
       "       'Marco A Tamayo', 'Ruth McDaniels', 'Yu Lin', 'Miguel Estrella',\n",
       "       'Pamela Hamilton-Johnson', 'Shadoe G Tarver',\n",
       "       'Sharon R Wedderburn', 'Nicole Hunt', 'Linda Guillebeaux',\n",
       "       'Seth L Breland', 'Sheryl A Fetik', 'Yi Chen', 'Jaime-Faye Bean',\n",
       "       'Nicole S Lee', 'Angelo King', 'Glennis Sanchez Severino',\n",
       "       'Bernadette McNear', 'Ming-Kang Low', 'Erik S Frankel',\n",
       "       'Patrick Johnson', 'David Gold', 'Gerry Hopkins', 'James E Behr',\n",
       "       'Glomani Bravo-Lopez', 'Carlton Berkley', 'Suraj Jaswal',\n",
       "       'Tavo T Bortoli', 'Evan F Boccardi', 'Ivan D Mossop Jr',\n",
       "       'Samuel Sierra', 'Timothy Rosen', 'Francesca M Castellanos',\n",
       "       'Lutchi Gayot', 'William H Salgado', 'Constantin Jean-Pierre',\n",
       "       'Steven Sirgiovanni', 'Dionel J Then', 'Lucy Cerezo Scully',\n",
       "       'Winton Tran', 'John Ciafone', 'Irene Estrada',\n",
       "       'Demetrius D Wilson II', 'Bianca Ozeri', 'Alberto Aguilar III',\n",
       "       'Stephen M Finley', 'Franck Joseph',\n",
       "       'Christopher R Fuentes-Padilla', 'Francis E Spangenberg',\n",
       "       'Carl L Lundgren', 'Franklin P Gonzalez', 'Jessica Haller',\n",
       "       'Maayan Z Zik', 'Vincent C Johnson', 'Danny Marin',\n",
       "       'Nancy J Martinez', 'Joshua Y Maynard', 'Kevin Pazmino',\n",
       "       'Rajesh K Ranot', 'Everett R Reed', 'Nicholas J Robbins',\n",
       "       'Mandeep S Sahi', 'Nayma Silver'], dtype=object)"
      ]
     },
     "execution_count": 185,
     "metadata": {},
     "output_type": "execute_result"
    }
   ],
   "source": [
    "all_cc_df['normalized_mem'].unique()"
   ]
  },
  {
   "cell_type": "code",
   "execution_count": 94,
   "metadata": {},
   "outputs": [],
   "source": [
    "fuzzy_all_cc_df = fuzzy_merge(member_key, all_cc_df,  'DefaultBallotName','normalized_mem', threshold=80)"
   ]
  },
  {
   "cell_type": "code",
   "execution_count": 188,
   "metadata": {},
   "outputs": [],
   "source": [
    "#drop fuzzy_all_cc_df index 287\n",
    "fuzzy_all_cc_df = fuzzy_all_cc_df.drop(index=287)"
   ]
  },
  {
   "cell_type": "code",
   "execution_count": null,
   "metadata": {},
   "outputs": [
    {
     "data": {
      "text/html": [
       "<div>\n",
       "<style scoped>\n",
       "    .dataframe tbody tr th:only-of-type {\n",
       "        vertical-align: middle;\n",
       "    }\n",
       "\n",
       "    .dataframe tbody tr th {\n",
       "        vertical-align: top;\n",
       "    }\n",
       "\n",
       "    .dataframe thead th {\n",
       "        text-align: right;\n",
       "    }\n",
       "</style>\n",
       "<table border=\"1\" class=\"dataframe\">\n",
       "  <thead>\n",
       "    <tr style=\"text-align: right;\">\n",
       "      <th></th>\n",
       "      <th>DefaultBallotName</th>\n",
       "      <th>normalized_mem</th>\n",
       "      <th>score</th>\n",
       "    </tr>\n",
       "  </thead>\n",
       "  <tbody>\n",
       "    <tr>\n",
       "      <th>0</th>\n",
       "      <td>Erin Hussein</td>\n",
       "      <td>Erin Z Hussein</td>\n",
       "      <td>92</td>\n",
       "    </tr>\n",
       "    <tr>\n",
       "      <th>1</th>\n",
       "      <td>Carlina Rivera</td>\n",
       "      <td>Carlina Rivera</td>\n",
       "      <td>100</td>\n",
       "    </tr>\n",
       "    <tr>\n",
       "      <th>2</th>\n",
       "      <td>Carmen N. De La Rosa</td>\n",
       "      <td>Carmen De La Rosa</td>\n",
       "      <td>94</td>\n",
       "    </tr>\n",
       "    <tr>\n",
       "      <th>3</th>\n",
       "      <td>James E. Behr</td>\n",
       "      <td>James E Behr</td>\n",
       "      <td>100</td>\n",
       "    </tr>\n",
       "    <tr>\n",
       "      <th>4</th>\n",
       "      <td>Angela Fernandez</td>\n",
       "      <td>Angela Fernandez</td>\n",
       "      <td>100</td>\n",
       "    </tr>\n",
       "    <tr>\n",
       "      <th>...</th>\n",
       "      <td>...</td>\n",
       "      <td>...</td>\n",
       "      <td>...</td>\n",
       "    </tr>\n",
       "    <tr>\n",
       "      <th>283</th>\n",
       "      <td>Marko Kepi</td>\n",
       "      <td>Marko Kepi</td>\n",
       "      <td>100</td>\n",
       "    </tr>\n",
       "    <tr>\n",
       "      <th>284</th>\n",
       "      <td>David M. Carr</td>\n",
       "      <td>David M Carr</td>\n",
       "      <td>100</td>\n",
       "    </tr>\n",
       "    <tr>\n",
       "      <th>285</th>\n",
       "      <td>Jordan Hafizi</td>\n",
       "      <td>Jordan Hafizi</td>\n",
       "      <td>100</td>\n",
       "    </tr>\n",
       "    <tr>\n",
       "      <th>286</th>\n",
       "      <td>Kathleen Sforza</td>\n",
       "      <td>Kathleen Sforza</td>\n",
       "      <td>100</td>\n",
       "    </tr>\n",
       "    <tr>\n",
       "      <th>288</th>\n",
       "      <td>Kristin Richardson Jordan</td>\n",
       "      <td>Kristin R Jordan</td>\n",
       "      <td>100</td>\n",
       "    </tr>\n",
       "  </tbody>\n",
       "</table>\n",
       "<p>288 rows × 3 columns</p>\n",
       "</div>"
      ],
      "text/plain": [
       "             DefaultBallotName     normalized_mem  score\n",
       "0                 Erin Hussein     Erin Z Hussein     92\n",
       "1               Carlina Rivera     Carlina Rivera    100\n",
       "2         Carmen N. De La Rosa  Carmen De La Rosa     94\n",
       "3                James E. Behr       James E Behr    100\n",
       "4             Angela Fernandez   Angela Fernandez    100\n",
       "..                         ...                ...    ...\n",
       "283                 Marko Kepi         Marko Kepi    100\n",
       "284              David M. Carr       David M Carr    100\n",
       "285              Jordan Hafizi      Jordan Hafizi    100\n",
       "286            Kathleen Sforza    Kathleen Sforza    100\n",
       "288  Kristin Richardson Jordan   Kristin R Jordan    100\n",
       "\n",
       "[288 rows x 3 columns]"
      ]
     },
     "execution_count": 244,
     "metadata": {},
     "output_type": "execute_result"
    }
   ],
   "source": [
    "fuzzy_all_cc_df"
   ]
  },
  {
   "cell_type": "code",
   "execution_count": 186,
   "metadata": {},
   "outputs": [],
   "source": [
    "new_row = {'DefaultBallotName': 'Kristin Richardson Jordan', 'normalized_mem': 'Kristin R Jordan', 'score': 100}\n",
    "fuzzy_all_cc_df = pd.concat([fuzzy_all_cc_df, pd.DataFrame([new_row])], ignore_index=True)"
   ]
  },
  {
   "cell_type": "code",
   "execution_count": 190,
   "metadata": {},
   "outputs": [],
   "source": [
    "# find DefaultBallotName in member key but not fuzzy_all_cc_df\n",
    "missing_members = member_key[~member_key['DefaultBallotName'].isin(fuzzy_all_cc_df['DefaultBallotName'])]"
   ]
  },
  {
   "cell_type": "code",
   "execution_count": 191,
   "metadata": {},
   "outputs": [],
   "source": [
    "# rename DefaultBallotName to normalized_mem\n",
    "missing_members = missing_members.rename(columns={'DefaultBallotName':'normalized_mem'})"
   ]
  },
  {
   "cell_type": "code",
   "execution_count": 130,
   "metadata": {},
   "outputs": [
    {
     "data": {
      "text/html": [
       "<div>\n",
       "<style scoped>\n",
       "    .dataframe tbody tr th:only-of-type {\n",
       "        vertical-align: middle;\n",
       "    }\n",
       "\n",
       "    .dataframe tbody tr th {\n",
       "        vertical-align: top;\n",
       "    }\n",
       "\n",
       "    .dataframe thead th {\n",
       "        text-align: right;\n",
       "    }\n",
       "</style>\n",
       "<table border=\"1\" class=\"dataframe\">\n",
       "  <thead>\n",
       "    <tr style=\"text-align: right;\">\n",
       "      <th></th>\n",
       "      <th>DefaultBallotName</th>\n",
       "      <th>normalized_mem</th>\n",
       "      <th>score</th>\n",
       "    </tr>\n",
       "  </thead>\n",
       "  <tbody>\n",
       "    <tr>\n",
       "      <th>0</th>\n",
       "      <td>Erin Hussein</td>\n",
       "      <td>Erin Z Hussein</td>\n",
       "      <td>92</td>\n",
       "    </tr>\n",
       "    <tr>\n",
       "      <th>1</th>\n",
       "      <td>Carlina Rivera</td>\n",
       "      <td>Carlina Rivera</td>\n",
       "      <td>100</td>\n",
       "    </tr>\n",
       "    <tr>\n",
       "      <th>2</th>\n",
       "      <td>Carmen N. De La Rosa</td>\n",
       "      <td>Carmen De La Rosa</td>\n",
       "      <td>94</td>\n",
       "    </tr>\n",
       "    <tr>\n",
       "      <th>3</th>\n",
       "      <td>James E. Behr</td>\n",
       "      <td>James E Behr</td>\n",
       "      <td>100</td>\n",
       "    </tr>\n",
       "    <tr>\n",
       "      <th>4</th>\n",
       "      <td>Angela Fernandez</td>\n",
       "      <td>Angela Fernandez</td>\n",
       "      <td>100</td>\n",
       "    </tr>\n",
       "    <tr>\n",
       "      <th>...</th>\n",
       "      <td>...</td>\n",
       "      <td>...</td>\n",
       "      <td>...</td>\n",
       "    </tr>\n",
       "    <tr>\n",
       "      <th>283</th>\n",
       "      <td>Marko Kepi</td>\n",
       "      <td>Marko Kepi</td>\n",
       "      <td>100</td>\n",
       "    </tr>\n",
       "    <tr>\n",
       "      <th>284</th>\n",
       "      <td>David M. Carr</td>\n",
       "      <td>David M Carr</td>\n",
       "      <td>100</td>\n",
       "    </tr>\n",
       "    <tr>\n",
       "      <th>285</th>\n",
       "      <td>Jordan Hafizi</td>\n",
       "      <td>Jordan Hafizi</td>\n",
       "      <td>100</td>\n",
       "    </tr>\n",
       "    <tr>\n",
       "      <th>286</th>\n",
       "      <td>Kathleen Sforza</td>\n",
       "      <td>Kathleen Sforza</td>\n",
       "      <td>100</td>\n",
       "    </tr>\n",
       "    <tr>\n",
       "      <th>287</th>\n",
       "      <td>Kristin Richardson Jordan</td>\n",
       "      <td>Kristin Richardson Jordan</td>\n",
       "      <td>100</td>\n",
       "    </tr>\n",
       "  </tbody>\n",
       "</table>\n",
       "<p>288 rows × 3 columns</p>\n",
       "</div>"
      ],
      "text/plain": [
       "             DefaultBallotName             normalized_mem  score\n",
       "0                 Erin Hussein             Erin Z Hussein     92\n",
       "1               Carlina Rivera             Carlina Rivera    100\n",
       "2         Carmen N. De La Rosa          Carmen De La Rosa     94\n",
       "3                James E. Behr               James E Behr    100\n",
       "4             Angela Fernandez           Angela Fernandez    100\n",
       "..                         ...                        ...    ...\n",
       "283                 Marko Kepi                 Marko Kepi    100\n",
       "284              David M. Carr               David M Carr    100\n",
       "285              Jordan Hafizi              Jordan Hafizi    100\n",
       "286            Kathleen Sforza            Kathleen Sforza    100\n",
       "287  Kristin Richardson Jordan  Kristin Richardson Jordan    100\n",
       "\n",
       "[288 rows x 3 columns]"
      ]
     },
     "execution_count": 130,
     "metadata": {},
     "output_type": "execute_result"
    }
   ],
   "source": [
    "fuzzy_all_cc_df"
   ]
  },
  {
   "cell_type": "code",
   "execution_count": 192,
   "metadata": {},
   "outputs": [],
   "source": [
    "member_key = member_key.merge(fuzzy_all_cc_df, left_on='DefaultBallotName', right_on='DefaultBallotName', how='left')"
   ]
  },
  {
   "cell_type": "code",
   "execution_count": 99,
   "metadata": {},
   "outputs": [],
   "source": [
    "def find_real_name(df):\n",
    "    if df['normalized_mem'] == df['DefaultBallotName']:\n",
    "        return df['normalized_mem']\n",
    "    else:\n",
    "        return df['DefaultBallotName']"
   ]
  },
  {
   "cell_type": "code",
   "execution_count": 193,
   "metadata": {},
   "outputs": [],
   "source": [
    "member_key['real_name'] = member_key.apply(find_real_name, axis=1)"
   ]
  },
  {
   "cell_type": "code",
   "execution_count": 200,
   "metadata": {},
   "outputs": [
    {
     "data": {
      "text/plain": [
       "array(['Erin Hussein', 'Carlina Rivera', 'Carmen N. De La Rosa',\n",
       "       'James E. Behr', 'Angela Fernandez', 'Francesca M. Castellanos',\n",
       "       'Johanna Garcia', 'Josue Perez', 'Tirso S. Pina', 'Thomas A. Leon',\n",
       "       'Christopher Marte', 'Susan Damplo', 'Susan Lee', 'Gigi Li',\n",
       "       'Jenny L. Low', 'Sean C. Hayes', 'Maud Maron',\n",
       "       'Tiffany Johnson-Winbush', 'Denny R. Salas',\n",
       "       'Leslie Boghosian Murphy', 'Erik D. Bottcher',\n",
       "       'Phelan D. Fitzpatrick', 'Marni Halasa', 'Aleta A. LaFargue',\n",
       "       'Arthur Z. Schwartz', 'Rebecca N. Lamorte', 'Julie Menin',\n",
       "       'Kim Moscaritolo', 'Tricia M. Shimamura', 'Billy Freeland',\n",
       "       'Marco A. Tamayo', 'Christopher  A. Sosa', 'Gale A. Brewer',\n",
       "       'David Gold', 'Maria Danzilo', 'Zachary Tov Weiner',\n",
       "       'Jeffrey Omura', 'Sara Lind', 'Luis Tejada', 'Carmen R. Quinones',\n",
       "       'Stacy R. Lynch', 'Corey Ortega', 'Shaun Abreu', 'Maria Ordonez',\n",
       "       'Lena Melendez', 'Marti Gould  Allen-Cummings', 'Daniel M. Cohen',\n",
       "       'Raymond Sanchez Jr.', 'Keith L. Harris', 'Miguel Estrella',\n",
       "       'Diana I. Ayala', 'Tamika Mapp', 'Manuel Onativia',\n",
       "       'Antoinette D. Glover', 'Bill Perkins', 'Pierre A. Gooding',\n",
       "       'Athena Moore', 'Joshua Albert Clennon',\n",
       "       'Kristin Richardson Jordan', 'William A. Allen', 'Keith Taylor',\n",
       "       'Sheba T. Simpson-Amsterdam', 'Cordell Cleare', 'Mario Rosser',\n",
       "       'Bernadette McNear', 'Ruth L. McDaniels', 'Billy Council',\n",
       "       'Rafael Salamanca Jr.', 'Helen Hines', 'Shanequa Moore',\n",
       "       'Pamela A. Hamilton-Johnson', 'Kevin Riley', 'Abigail Martin',\n",
       "       'Eric Dinowitz', 'Mino Lora', 'Jessica Haller', 'Carlton Berkley',\n",
       "       'Marcos Sierra', 'Daniel Padernacht', 'Irene Estrada',\n",
       "       'Monique S. Johnson', 'John Perez', 'Marjorie Velazquez',\n",
       "       'Marilyn Soto', 'Pierina Ana Sanchez', 'Adolfo Abreu',\n",
       "       'Yudelka Tapia', 'Haile Rivera', 'Fernando A. Aquino',\n",
       "       'Socrates S. Solano', 'Oswald Feliz', 'Bernadette Ferrara',\n",
       "       'Ischia J. Bravo', 'John E. Sanchez', 'Lillithe Lozano',\n",
       "       'Troy Blackwell', 'Kenny G. Agosto', 'Latchmi Devi Gopal',\n",
       "       'Ahmadou T. Diallo', 'Abdourahamane Diallo', 'Althea V. Stevens',\n",
       "       'Yves T. Filius', 'William Rivera', 'Amanda Farias',\n",
       "       'Darlene Jackson', 'Michael Beltzer', 'William Russell Moore',\n",
       "       'Mohammed Mujumder', 'Eliu A. Lara', 'Mirza M. Rashid',\n",
       "       'John J. Ciafone', 'Tiffany Caban', 'Leonardo T. Bullaro',\n",
       "       'Evie Hantzopoulos', 'Catherina Gioino', 'Nick Velkov',\n",
       "       'Ariel Rivera-Diaz', 'Aramis Ocasio', 'Darlene Mealy',\n",
       "       'Alicka Tani Ampry-Samuel', 'Farah N. Louis', 'Anthony Beckford',\n",
       "       'Cyril F. Joseph', 'Elizabeth E. Adams', 'Victoria E. Cambranes',\n",
       "       'Lincoln Restler', 'Sabrina N. Gates', 'Stu Sherman',\n",
       "       'April Somboun', 'Toba Potosky', 'Ben Solotaire',\n",
       "       'Jennifer Gutierrez', 'Andy J. Marte', 'Scott Murphy',\n",
       "       'Lutchi Gayot', 'Renee T. Collymore', 'Deirdre M. Levy',\n",
       "       'Crystal Hudson', 'Michael Hollingsworth', 'Curtis M. Harris',\n",
       "       'Regina A. Kinsey', 'Hector Robertson', 'Tahirah A. Moore',\n",
       "       'Henry L. Butler', 'Chi A. Osse', 'Robert Waterman',\n",
       "       'Reginald Swiney', 'Heriberto Mateo', 'Sandy Nurse',\n",
       "       'Darma V. Diaz', 'Rick Echevarria', 'Misba Abdin',\n",
       "       'Christopher Durosinmi', 'Alexa Aviles', 'Yu Lin',\n",
       "       'Rodrigo G. Camarena', 'Jacqui Painter', 'Cesar Zuniga',\n",
       "       'Victor Swinton', 'Justin M. Krebs', 'Brandon West',\n",
       "       'Jessica Simmons', 'Shahana K. Hanif', 'Mamnun M. Haq',\n",
       "       'Douglas M. Schneider', 'Briget Rein', 'Rita C. Joseph',\n",
       "       'Kenya Handy-Hilliard', 'Cecilia Cortez', 'Josue Pierre',\n",
       "       'Blake Morris', 'Edwin K. Raymond', 'Vivia M. Morgan',\n",
       "       'Harriet L. Hines', 'John Williams', 'Victor Jordan',\n",
       "       'Maxi Eugene', 'Charles Barron', 'Wilfredo Florentino',\n",
       "       'Nikki Lucas', 'Gena M. Watson', 'Mercedes Narcisse',\n",
       "       'Tiffany Pryor', 'Shirley S. Paul', 'Judy D. Newton',\n",
       "       'Zuri S. Jackson', 'R. Dimple Willabus', 'Donald J. Cranston',\n",
       "       'Gardy Brazela', 'Alec Brook-Krasny', 'Joseph Packer',\n",
       "       'Steven D. Patzer', 'Ari Kagan', 'Steven Saperstein',\n",
       "       'Mariya Markh', 'Binyomin Zev Bendet', 'Amber L. Adler',\n",
       "       'Heshy Tischler', 'John-Alexander Sakelos', 'Dawn A. Anatra',\n",
       "       'Robert F. Holden', 'Juan D. Ardila', 'Japneet Singh',\n",
       "       'Adrienne E. Adams', 'Ruben Wills', 'Nancy J. Martinez',\n",
       "       'Selvena N. Brooks-Powers', 'Nicole S. Lee', 'Tony Avella',\n",
       "       'Richard J. Lee', 'Austin I. Shafran', 'Adriana Aviles',\n",
       "       'Francis E. Spangenberg', 'Nabaraj KC', 'Sandra Ung',\n",
       "       'Ellen Young', 'Hailing Chen', 'Dao Yin', 'Anthony Miranda',\n",
       "       'Neng Wang', 'John Choe', 'Ming-Kang Low', 'Francisco P. Moya',\n",
       "       'David Aiken', 'Talea E. Wufka', 'Ingrid P. Gomez',\n",
       "       'George Onuorah', 'Linda Lee', 'Jaslin Kaur', 'Steve Behar',\n",
       "       'Debra Markell', 'Harpreet S. Toor', 'Sanjeev Kumar Jindal',\n",
       "       'Koshy O. Thomas', 'James F. Gennaro', 'Moumita Ahmed',\n",
       "       'Saifur R. Khan', 'Mohammed Uddin', 'Manuel F. Perez',\n",
       "       'Carolyn Tran', 'Alfonso Quiroz', 'Shekar Krishnan',\n",
       "       'Yi Andy Chen', 'Fatima Baryab', 'Liliana C. Melo',\n",
       "       'William H. Salgado', 'Steven B. Raga', 'Denise M. Keehan-Smith',\n",
       "       'Badrun Khan', 'Julie Won', 'Hailie Kim', 'Amit S. Bagga',\n",
       "       \"Brent O'Leary\", 'Glennis E. Gomez', 'Jonathan Bailey',\n",
       "       'Julia L. Forman', 'Sultan Al Maruf', 'Jesse Laymon',\n",
       "       'Emily E. Sharpe', 'Ebony R. Young', 'Lorenzo Brea',\n",
       "       'Nantasha M. Williams', 'Jermaine Sean Smith', 'Al-Hassan Kanu',\n",
       "       'Harold C. Miller Jr.', 'Kerryanne C. Burke', 'Anthony Rivers',\n",
       "       'James J. Johnson', 'Linda Guillebeaux', 'Rene A. Hill',\n",
       "       'Marie M. Adam-Ovide', 'Jason Myles Clark', 'Leroy Gadsden',\n",
       "       'Douglas J. Shapiro', 'Avi Cyperstein', 'Lynn C. Schulman',\n",
       "       'Aleda F. Gagarin', 'David Aronov', 'Donghui Zang',\n",
       "       'Sheryl Ann Fetik', 'Eliseo Dorion Labayen', 'Edwin K. Wong',\n",
       "       'Felicia Singh', 'Kaled A. Alamarie', 'Michael G. Scala',\n",
       "       'Helal A. Sheikh', 'Shaeleigh Severino', 'Bella A. Matias',\n",
       "       'Vickie Paladino', 'James F. Reilly', 'Alex Amoroso',\n",
       "       'Timothy Rosen', 'Angelo King', 'Joann Ariola',\n",
       "       'Stephen A. Sirgiovanni', 'Michael P. Schnall', 'David Hernandez',\n",
       "       'Selina Grey', 'Troy McGhie', 'Ranti Ogunleye', 'Kamillah Hanks',\n",
       "       'Kelvin Richards', 'Amoy Barnes', 'John F. McBeth Sr.',\n",
       "       'Sam T. Pirozzolo', 'Marko Kepi', 'David M. Carr', 'Jordan Hafizi',\n",
       "       'Kathleen Sforza'], dtype=object)"
      ]
     },
     "execution_count": 200,
     "metadata": {},
     "output_type": "execute_result"
    }
   ],
   "source": [
    "member_key['DefaultBallotName'].unique()"
   ]
  },
  {
   "cell_type": "code",
   "execution_count": 201,
   "metadata": {},
   "outputs": [],
   "source": [
    "member_key = member_key[['normalized_mem','district']]"
   ]
  },
  {
   "cell_type": "code",
   "execution_count": 202,
   "metadata": {},
   "outputs": [
    {
     "data": {
      "text/plain": [
       "array(['Erin Z Hussein', 'Carlina Rivera', 'Carmen De La Rosa',\n",
       "       'James E Behr', 'Angela Fernandez', 'Francesca M Castellanos',\n",
       "       'Johanna Garcia', 'Josue G Perez', 'Tirso S Pina', 'Thomas A Leon',\n",
       "       'Christopher Marte', 'Susan M Damplo', 'Susan Lee', 'Gigi Li',\n",
       "       'Jenny L Low', 'Sean C Hayes', 'Maud Maron', nan, 'Denny R Salas',\n",
       "       'Leslie Boghosian Murphy', 'Erik Bottcher',\n",
       "       'Phelan-Dante Fitzpatrick', 'Marni Halasa', 'Aleta A LaFargue',\n",
       "       'Arthur Z Schwartz', 'Rebecca Lamorte', 'Julie Menin',\n",
       "       'Kim Moscaritolo', 'Tricia Shimamura', 'Billy Freeland',\n",
       "       'Marco A Tamayo', 'Christopher A Sosa', 'Gale Brewer',\n",
       "       'David Gold', 'Maria A Danzilo', 'Jeffrey Omura', 'Sara K Lind',\n",
       "       'Luis M Tejada', 'Carmen Quinones', 'Stacy R Lynch',\n",
       "       'Corey Ortega', 'Shaun Abreu', 'Maria Ordonez', 'Lena A Melendez',\n",
       "       'Marti G Allen-Cummings', 'Daniel M Cohen', 'Raymond Sanchez',\n",
       "       'Keith Harris', 'Miguel Estrella', 'Diana I Ayala', 'Tamika Mapp',\n",
       "       'Bill Perkins', 'Pierre Gooding', 'Athena Moore', 'Joshua Clennon',\n",
       "       'Kristin R Jordan', 'William A Allen', 'Keith L Taylor',\n",
       "       'Cordell Cleare', 'Mario Rosser', 'Bernadette McNear',\n",
       "       'Ruth McDaniels', 'Billy K Council', 'Rafael Salamanca',\n",
       "       'Helen Hines', 'Shanequa E Moore', 'Pamela Hamilton-Johnson',\n",
       "       'Kevin C Riley', 'Abigail J Martin', 'Eric Dinowitz', 'Mino Lora',\n",
       "       'Jessica Haller', 'Carlton Berkley', 'Marcos A Sierra',\n",
       "       'Daniel Padernacht', 'Irene Estrada', 'Monique S Johnson',\n",
       "       'Marjorie Velazquez', 'Pierina A Sanchez', 'Adolfo Abreu',\n",
       "       'Yudelka Tapia', 'Haile M Rivera', 'Fernando A Aquino',\n",
       "       'Socrates S Solano', 'Oswald Feliz', 'Bernadette Ferrara',\n",
       "       'Ischia Bravo', 'John Sanchez', 'Lilithe L Lozano',\n",
       "       'Troy Blackwell', 'Ahmadou T Diallo', 'Abdourahamane Diallo',\n",
       "       'Althea V Stevens', 'Yves T Filius', 'William Rivera',\n",
       "       'Amanda Farias', 'Darlene Jackson', 'Michael Beltzer',\n",
       "       'Mohammed N Mujumder', 'Eliu A Lara', 'Mirza M Rashid',\n",
       "       'John Ciafone', 'Tiffany Caban', 'Leonardo Bullaro',\n",
       "       'Evie Hantzopoulos', 'Catherina Gioino', 'Darlene Mealy',\n",
       "       'Alicka Ampry-Samuel', 'Farah Louis', 'Anthony Beckford',\n",
       "       'Cyril F Joseph', 'Elizabeth Adams', 'Victoria E Cambranes',\n",
       "       'Lincoln Restler', 'Sabrina Gates', 'Stuart C Sherman',\n",
       "       'April Somboun', 'Toba Potosky', 'Benjamin Solotaire',\n",
       "       'Jennifer Gutierrez', 'Andy J Marte', 'Scott F Murphy',\n",
       "       'Lutchi Gayot', 'Renee Collymore', 'Deirdre M Levy',\n",
       "       'Crystal Hudson', 'Michael D Hollingsworth', 'Curtis M Harris',\n",
       "       'Regina Kinsey', 'Hector Robertson', 'Tahirah A Moore',\n",
       "       'Henry L Butler', 'Chi Osse', 'Robert Waterman', 'Reginald Swiney',\n",
       "       'Heriberto Mateo', 'Sandy Nurse', 'Darma V Diaz',\n",
       "       'Rick Echevarria', 'Misba Abdin', 'Christopher Durosinmi',\n",
       "       'Alexa Aviles', 'Yu Lin', 'Rodrigo Camarena', 'Jacqueline Painter',\n",
       "       'Ceasar Zuniga', 'Victor Swinton', 'Justin M Krebs',\n",
       "       'Brandon West', 'Jessica Simmons', 'Shahana Hanif',\n",
       "       'Mamnunul M Haq', 'Douglas Schneider', 'Briget Rein',\n",
       "       'Rita C Joseph', 'Kenya Handy-Hilliard', 'Cecilia C Cortez',\n",
       "       'Josue Pierre', 'Blake Morris', 'Edwin Raymond', 'Vivia Morgan',\n",
       "       'Harriet L Hines', 'John Williams', 'Victor Jordan', 'Maxi Eugene',\n",
       "       'Charles Barron', 'Wilfredo Florentino', 'Nikki Lucas',\n",
       "       'Gena M Watson', 'Mercedes Narcisse', 'Shirley S Paul',\n",
       "       'Judy D Newton', 'Zuri S Jackson', 'Dimple Willabus',\n",
       "       'Donald J Cranston', 'Gardy Brazela', 'Alec Brook Krasny',\n",
       "       'Joseph Packer', 'Steven Patzer', 'Ari Kagan', 'Steven Saperstein',\n",
       "       'Mariya Markh', 'Binyomin Bendet', 'Amber Adler',\n",
       "       'John-Alexander Sakelos', 'Robert F Holden', 'Juan D Ardila',\n",
       "       'Japneet Singh', 'Adrienne Adams', 'Ruben Wills',\n",
       "       'Nancy J Martinez', 'Selvena Brooks-Powers', 'Nicole S Lee',\n",
       "       'Tony Avella', 'Richard J Lee', 'Austin Shafran',\n",
       "       'Adriana P Aviles', 'Francis E Spangenberg', 'Nabaraj KC',\n",
       "       'Sandra Ung', 'Ellen Young', 'Hailing Chen', 'Dao Yin',\n",
       "       'Anthony Miranda', 'Neng Wang', 'John Choe', 'Ming-Kang Low',\n",
       "       'Francisco P Moya', 'David Aiken', 'Talea E Wufka',\n",
       "       'Ingrid P Gomez', 'George Onuorah', 'Linda Lee', 'Jaslin Kaur',\n",
       "       'Steve Behar', 'Debra Markell', 'Harpreet S Toor',\n",
       "       'Sanjeev Jindal', 'Koshy O Thomas', 'James F Gennaro',\n",
       "       'Moumita Ahmed', 'Saifur R Khan', 'Mohammad S Uddin',\n",
       "       'Manuel F Perez', 'Carolyn T Tran', 'Alfonso Quiroz',\n",
       "       'Shekar Krishnan', 'Fatima Baryab', 'Liliana C Melo',\n",
       "       'William H Salgado', 'Steven Raga', 'Denise M Keehan-Smith',\n",
       "       'Badrun N Khan', 'Julie Won', 'Amit S Bagga', \"Brent M O'Leary\",\n",
       "       'Glennis E Gomez', 'Jonathan Bailey', 'Julia Forman',\n",
       "       'Sultan Maruf', 'Jesse D Laymon', 'Emily Sharpe', 'Ebony R Young',\n",
       "       'Lorenzo Brea', 'Nantasha Williams', 'Jermaine Sean Smith',\n",
       "       'Al-Hassan Kanu', 'Harold C Miller', 'Kerryanne C Burke',\n",
       "       'Anthony Rivers', 'James J Johnson', 'Linda Guillebeaux',\n",
       "       'Rene Hill', 'Marie M Adam-Ovide', 'Leroy Gadsden',\n",
       "       'Douglas J Shapiro', 'Avi Cyperstein', 'Lynn Schulman',\n",
       "       'Aleda F Gagarin', 'David Aronov', 'Donghui Zang',\n",
       "       'Sheryl A Fetik', 'Eliseo D Labayen', 'Edwin Wong',\n",
       "       'Felicia Singh', 'Kaled A Alamarie', 'Helal A Sheikh',\n",
       "       'Shaeleigh M Severino', 'Bella A Matias', 'Vickie Paladino',\n",
       "       'James F Reilly', 'Timothy Rosen', 'Angelo King', 'Joann Ariola',\n",
       "       'Steven Sirgiovanni', 'Michael P Schnall', 'David Hernandez',\n",
       "       'Selina Grey', 'Troy McGhie', 'Ranti Ogunleye', 'Kamillah M Hanks',\n",
       "       'Kelvin Richards', 'Amoy K Barnes', 'John F McBeth',\n",
       "       'Sam T Pirozzolo', 'Marko Kepi', 'David M Carr', 'Jordan Hafizi',\n",
       "       'Kathleen Sforza'], dtype=object)"
      ]
     },
     "execution_count": 202,
     "metadata": {},
     "output_type": "execute_result"
    }
   ],
   "source": [
    "member_key['normalized_mem'].unique()"
   ]
  },
  {
   "cell_type": "code",
   "execution_count": 203,
   "metadata": {},
   "outputs": [],
   "source": [
    "member_key = pd.concat([member_key, missing_members], ignore_index=True)"
   ]
  },
  {
   "cell_type": "code",
   "execution_count": 204,
   "metadata": {},
   "outputs": [],
   "source": [
    "member_key.to_csv('../data/member_key.csv', index=False)"
   ]
  },
  {
   "cell_type": "code",
   "execution_count": 205,
   "metadata": {},
   "outputs": [],
   "source": [
    "all_cc_df_dis = pd.merge(all_cc_df, member_key, on='normalized_mem', how='left')"
   ]
  },
  {
   "cell_type": "code",
   "execution_count": 207,
   "metadata": {},
   "outputs": [
    {
     "data": {
      "text/html": [
       "<div>\n",
       "<style scoped>\n",
       "    .dataframe tbody tr th:only-of-type {\n",
       "        vertical-align: middle;\n",
       "    }\n",
       "\n",
       "    .dataframe tbody tr th {\n",
       "        vertical-align: top;\n",
       "    }\n",
       "\n",
       "    .dataframe thead th {\n",
       "        text-align: right;\n",
       "    }\n",
       "</style>\n",
       "<table border=\"1\" class=\"dataframe\">\n",
       "  <thead>\n",
       "    <tr style=\"text-align: right;\">\n",
       "      <th></th>\n",
       "      <th>REFNO</th>\n",
       "      <th>DATE</th>\n",
       "      <th>NAME</th>\n",
       "      <th>RECIPNAME</th>\n",
       "      <th>AMNT</th>\n",
       "      <th>SCHEDULE</th>\n",
       "      <th>C_CODE</th>\n",
       "      <th>PURPOSECD</th>\n",
       "      <th>OCCUPATION</th>\n",
       "      <th>EMPNAME</th>\n",
       "      <th>ZIP</th>\n",
       "      <th>normalized_mem</th>\n",
       "      <th>matched_name</th>\n",
       "      <th>district</th>\n",
       "    </tr>\n",
       "  </thead>\n",
       "  <tbody>\n",
       "    <tr>\n",
       "      <th>366</th>\n",
       "      <td>R0006868</td>\n",
       "      <td>3/11/2021</td>\n",
       "      <td>Abelskamp, Julian</td>\n",
       "      <td>Jordan, Kristin R</td>\n",
       "      <td>10.0</td>\n",
       "      <td>ABC</td>\n",
       "      <td>IND</td>\n",
       "      <td>NaN</td>\n",
       "      <td>Not Employed</td>\n",
       "      <td>Not Employed</td>\n",
       "      <td>10027</td>\n",
       "      <td>Kristin R Jordan</td>\n",
       "      <td>Kristin R Jordan</td>\n",
       "      <td>9.0</td>\n",
       "    </tr>\n",
       "    <tr>\n",
       "      <th>425</th>\n",
       "      <td>R0006513</td>\n",
       "      <td>2/13/2021</td>\n",
       "      <td>Abraha, Alex</td>\n",
       "      <td>Jordan, Kristin R</td>\n",
       "      <td>15.0</td>\n",
       "      <td>ABC</td>\n",
       "      <td>IND</td>\n",
       "      <td>NaN</td>\n",
       "      <td>Educator</td>\n",
       "      <td>University</td>\n",
       "      <td>55429</td>\n",
       "      <td>Kristin R Jordan</td>\n",
       "      <td>Kristin R Jordan</td>\n",
       "      <td>9.0</td>\n",
       "    </tr>\n",
       "    <tr>\n",
       "      <th>921</th>\n",
       "      <td>R0001930</td>\n",
       "      <td>6/26/2020</td>\n",
       "      <td>Acquah, Samuel</td>\n",
       "      <td>Jordan, Kristin R</td>\n",
       "      <td>300.0</td>\n",
       "      <td>ABC</td>\n",
       "      <td>IND</td>\n",
       "      <td>NaN</td>\n",
       "      <td>Physician</td>\n",
       "      <td>Mount Sinai</td>\n",
       "      <td>07632</td>\n",
       "      <td>Kristin R Jordan</td>\n",
       "      <td>Kristin R Jordan</td>\n",
       "      <td>9.0</td>\n",
       "    </tr>\n",
       "    <tr>\n",
       "      <th>1146</th>\n",
       "      <td>R0000571</td>\n",
       "      <td>12/6/2019</td>\n",
       "      <td>Adams, Kalima</td>\n",
       "      <td>Jordan, Kristin R</td>\n",
       "      <td>20.0</td>\n",
       "      <td>ABC</td>\n",
       "      <td>IND</td>\n",
       "      <td>NaN</td>\n",
       "      <td>Hairdresser</td>\n",
       "      <td>Self-employed</td>\n",
       "      <td>10458</td>\n",
       "      <td>Kristin R Jordan</td>\n",
       "      <td>Kristin R Jordan</td>\n",
       "      <td>9.0</td>\n",
       "    </tr>\n",
       "    <tr>\n",
       "      <th>1159</th>\n",
       "      <td>R0010137</td>\n",
       "      <td>9/20/2021</td>\n",
       "      <td>Adams, Lorraine</td>\n",
       "      <td>Jordan, Kristin R</td>\n",
       "      <td>175.0</td>\n",
       "      <td>ABC</td>\n",
       "      <td>IND</td>\n",
       "      <td>NaN</td>\n",
       "      <td>Author</td>\n",
       "      <td>Self-Employed</td>\n",
       "      <td>10035</td>\n",
       "      <td>Kristin R Jordan</td>\n",
       "      <td>Kristin R Jordan</td>\n",
       "      <td>9.0</td>\n",
       "    </tr>\n",
       "    <tr>\n",
       "      <th>...</th>\n",
       "      <td>...</td>\n",
       "      <td>...</td>\n",
       "      <td>...</td>\n",
       "      <td>...</td>\n",
       "      <td>...</td>\n",
       "      <td>...</td>\n",
       "      <td>...</td>\n",
       "      <td>...</td>\n",
       "      <td>...</td>\n",
       "      <td>...</td>\n",
       "      <td>...</td>\n",
       "      <td>...</td>\n",
       "      <td>...</td>\n",
       "      <td>...</td>\n",
       "    </tr>\n",
       "    <tr>\n",
       "      <th>164465</th>\n",
       "      <td>R0006056</td>\n",
       "      <td>1/11/2021</td>\n",
       "      <td>Zorio, Stephen</td>\n",
       "      <td>Jordan, Kristin R</td>\n",
       "      <td>23.0</td>\n",
       "      <td>ABC</td>\n",
       "      <td>IND</td>\n",
       "      <td>NaN</td>\n",
       "      <td>Marketing Specialist</td>\n",
       "      <td>Amazon</td>\n",
       "      <td>10026</td>\n",
       "      <td>Kristin R Jordan</td>\n",
       "      <td>Kristin R Jordan</td>\n",
       "      <td>9.0</td>\n",
       "    </tr>\n",
       "    <tr>\n",
       "      <th>164655</th>\n",
       "      <td>R0008781</td>\n",
       "      <td>6/25/2021</td>\n",
       "      <td>Zurkuhlen, Michael</td>\n",
       "      <td>Jordan, Kristin R</td>\n",
       "      <td>45.0</td>\n",
       "      <td>ABC</td>\n",
       "      <td>IND</td>\n",
       "      <td>NaN</td>\n",
       "      <td>Teacher</td>\n",
       "      <td>Calhoun School</td>\n",
       "      <td>10032</td>\n",
       "      <td>Kristin R Jordan</td>\n",
       "      <td>Kristin R Jordan</td>\n",
       "      <td>9.0</td>\n",
       "    </tr>\n",
       "    <tr>\n",
       "      <th>164656</th>\n",
       "      <td>R0010135</td>\n",
       "      <td>9/20/2021</td>\n",
       "      <td>Zurkuhlen, Michael</td>\n",
       "      <td>Jordan, Kristin R</td>\n",
       "      <td>25.0</td>\n",
       "      <td>ABC</td>\n",
       "      <td>IND</td>\n",
       "      <td>NaN</td>\n",
       "      <td>Teacher</td>\n",
       "      <td>The Calhoun School</td>\n",
       "      <td>10032</td>\n",
       "      <td>Kristin R Jordan</td>\n",
       "      <td>Kristin R Jordan</td>\n",
       "      <td>9.0</td>\n",
       "    </tr>\n",
       "    <tr>\n",
       "      <th>164657</th>\n",
       "      <td>R0006880</td>\n",
       "      <td>3/11/2021</td>\n",
       "      <td>Zurkuhlen, Michael</td>\n",
       "      <td>Jordan, Kristin R</td>\n",
       "      <td>25.0</td>\n",
       "      <td>ABC</td>\n",
       "      <td>IND</td>\n",
       "      <td>NaN</td>\n",
       "      <td>Teacher</td>\n",
       "      <td>Calhoun School</td>\n",
       "      <td>10032</td>\n",
       "      <td>Kristin R Jordan</td>\n",
       "      <td>Kristin R Jordan</td>\n",
       "      <td>9.0</td>\n",
       "    </tr>\n",
       "    <tr>\n",
       "      <th>164658</th>\n",
       "      <td>R0004428</td>\n",
       "      <td>7/29/2020</td>\n",
       "      <td>Zurkuhlen, Peter</td>\n",
       "      <td>Jordan, Kristin R</td>\n",
       "      <td>25.0</td>\n",
       "      <td>ABC</td>\n",
       "      <td>IND</td>\n",
       "      <td>NaN</td>\n",
       "      <td>Chief of Staff</td>\n",
       "      <td>GET HELP</td>\n",
       "      <td>90027</td>\n",
       "      <td>Kristin R Jordan</td>\n",
       "      <td>Kristin R Jordan</td>\n",
       "      <td>9.0</td>\n",
       "    </tr>\n",
       "  </tbody>\n",
       "</table>\n",
       "<p>1826 rows × 14 columns</p>\n",
       "</div>"
      ],
      "text/plain": [
       "           REFNO       DATE                NAME          RECIPNAME   AMNT  \\\n",
       "366     R0006868  3/11/2021   Abelskamp, Julian  Jordan, Kristin R   10.0   \n",
       "425     R0006513  2/13/2021        Abraha, Alex  Jordan, Kristin R   15.0   \n",
       "921     R0001930  6/26/2020      Acquah, Samuel  Jordan, Kristin R  300.0   \n",
       "1146    R0000571  12/6/2019       Adams, Kalima  Jordan, Kristin R   20.0   \n",
       "1159    R0010137  9/20/2021     Adams, Lorraine  Jordan, Kristin R  175.0   \n",
       "...          ...        ...                 ...                ...    ...   \n",
       "164465  R0006056  1/11/2021      Zorio, Stephen  Jordan, Kristin R   23.0   \n",
       "164655  R0008781  6/25/2021  Zurkuhlen, Michael  Jordan, Kristin R   45.0   \n",
       "164656  R0010135  9/20/2021  Zurkuhlen, Michael  Jordan, Kristin R   25.0   \n",
       "164657  R0006880  3/11/2021  Zurkuhlen, Michael  Jordan, Kristin R   25.0   \n",
       "164658  R0004428  7/29/2020    Zurkuhlen, Peter  Jordan, Kristin R   25.0   \n",
       "\n",
       "       SCHEDULE C_CODE PURPOSECD            OCCUPATION             EMPNAME  \\\n",
       "366         ABC    IND       NaN          Not Employed        Not Employed   \n",
       "425         ABC    IND       NaN              Educator          University   \n",
       "921         ABC    IND       NaN             Physician         Mount Sinai   \n",
       "1146        ABC    IND       NaN           Hairdresser       Self-employed   \n",
       "1159        ABC    IND       NaN                Author       Self-Employed   \n",
       "...         ...    ...       ...                   ...                 ...   \n",
       "164465      ABC    IND       NaN  Marketing Specialist              Amazon   \n",
       "164655      ABC    IND       NaN               Teacher      Calhoun School   \n",
       "164656      ABC    IND       NaN               Teacher  The Calhoun School   \n",
       "164657      ABC    IND       NaN               Teacher      Calhoun School   \n",
       "164658      ABC    IND       NaN        Chief of Staff            GET HELP   \n",
       "\n",
       "          ZIP    normalized_mem      matched_name  district  \n",
       "366     10027  Kristin R Jordan  Kristin R Jordan       9.0  \n",
       "425     55429  Kristin R Jordan  Kristin R Jordan       9.0  \n",
       "921     07632  Kristin R Jordan  Kristin R Jordan       9.0  \n",
       "1146    10458  Kristin R Jordan  Kristin R Jordan       9.0  \n",
       "1159    10035  Kristin R Jordan  Kristin R Jordan       9.0  \n",
       "...       ...               ...               ...       ...  \n",
       "164465  10026  Kristin R Jordan  Kristin R Jordan       9.0  \n",
       "164655  10032  Kristin R Jordan  Kristin R Jordan       9.0  \n",
       "164656  10032  Kristin R Jordan  Kristin R Jordan       9.0  \n",
       "164657  10032  Kristin R Jordan  Kristin R Jordan       9.0  \n",
       "164658  90027  Kristin R Jordan  Kristin R Jordan       9.0  \n",
       "\n",
       "[1826 rows x 14 columns]"
      ]
     },
     "execution_count": 207,
     "metadata": {},
     "output_type": "execute_result"
    }
   ],
   "source": [
    "all_cc_df_dis[all_cc_df_dis['normalized_mem'] == 'Kristin R Jordan']"
   ]
  },
  {
   "cell_type": "code",
   "execution_count": 208,
   "metadata": {},
   "outputs": [],
   "source": [
    "dis_fundraising = all_cc_df_dis.groupby(['district','normalized_mem'])['AMNT'].sum().reset_index(name='total')"
   ]
  },
  {
   "cell_type": "code",
   "execution_count": 209,
   "metadata": {},
   "outputs": [],
   "source": [
    "dis_fundraising['district_toal'] = dis_fundraising.groupby('district')['total'].transform('sum')"
   ]
  },
  {
   "cell_type": "code",
   "execution_count": 210,
   "metadata": {},
   "outputs": [],
   "source": [
    "dis_fundraising['perc_total'] = (dis_fundraising['total'] / dis_fundraising['district_toal']) * 100"
   ]
  },
  {
   "cell_type": "code",
   "execution_count": 211,
   "metadata": {},
   "outputs": [],
   "source": [
    "dis_fundraising['highest_amount'] = dis_fundraising.groupby('district')['total'].transform('max')"
   ]
  },
  {
   "cell_type": "code",
   "execution_count": 212,
   "metadata": {},
   "outputs": [],
   "source": [
    "dis_fundraising['perc_highest'] = (dis_fundraising['total'] / dis_fundraising['highest_amount']) * 100"
   ]
  },
  {
   "cell_type": "code",
   "execution_count": 213,
   "metadata": {},
   "outputs": [],
   "source": [
    "df_join = dis_fundraising[['normalized_mem','perc_total','perc_highest']]"
   ]
  },
  {
   "cell_type": "code",
   "execution_count": 243,
   "metadata": {},
   "outputs": [
    {
     "data": {
      "text/plain": [
       "(288, 3)"
      ]
     },
     "execution_count": 243,
     "metadata": {},
     "output_type": "execute_result"
    }
   ],
   "source": [
    "df_join.shape"
   ]
  },
  {
   "cell_type": "markdown",
   "metadata": {},
   "source": [
    "Try cluster again with additional data"
   ]
  },
  {
   "cell_type": "code",
   "execution_count": 216,
   "metadata": {},
   "outputs": [],
   "source": [
    "iw_merge = pd.merge(iw_merge, df_join, on='normalized_mem')"
   ]
  },
  {
   "cell_type": "code",
   "execution_count": 217,
   "metadata": {},
   "outputs": [
    {
     "data": {
      "text/plain": [
       "array(['Adrienne Adams', 'Alexa Aviles', 'Althea V Stevens',\n",
       "       'Amanda Farias', 'Ari Kagan', 'Carlina Rivera',\n",
       "       'Carmen De La Rosa', 'Charles Barron', 'Chi Osse',\n",
       "       'Christopher Marte', 'Crystal Hudson', 'Darlene Mealy',\n",
       "       'David M Carr', 'Diana I Ayala', 'Eric Dinowitz', 'Erik Bottcher',\n",
       "       'Farah Louis', 'Francisco P Moya', 'Gale Brewer',\n",
       "       'James F Gennaro', 'Jennifer Gutierrez', 'Joann Ariola',\n",
       "       'Julie Menin', 'Julie Won', 'Kamillah M Hanks', 'Kevin C Riley',\n",
       "       'Kristin R Jordan', 'Lincoln Restler', 'Linda Lee',\n",
       "       'Lynn Schulman', 'Marjorie Velazquez', 'Mercedes Narcisse',\n",
       "       'Nantasha Williams', 'Oswald Feliz', 'Pierina A Sanchez',\n",
       "       'Rafael Salamanca', 'Rita C Joseph', 'Robert F Holden',\n",
       "       'Sandra Ung', 'Sandy Nurse', 'Selvena Brooks-Powers',\n",
       "       'Shahana Hanif', 'Shaun Abreu', 'Shekar Krishnan', 'Tiffany Caban',\n",
       "       'Vickie Paladino'], dtype=object)"
      ]
     },
     "execution_count": 217,
     "metadata": {},
     "output_type": "execute_result"
    }
   ],
   "source": [
    "iw_merge['normalized_mem'].unique()"
   ]
  },
  {
   "cell_type": "code",
   "execution_count": 223,
   "metadata": {},
   "outputs": [],
   "source": [
    "iw_merge.columns = ['normalized_mem', 'count', 'total_amount', 'mean_amount','home_district_percentage', 'oos_percentage','perc_IND_value','perc_total','perc_highest']"
   ]
  },
  {
   "cell_type": "code",
   "execution_count": 224,
   "metadata": {},
   "outputs": [],
   "source": [
    "columns_for_clustering = ['total_amount','count', 'mean_amount', 'home_district_percentage', 'oos_percentage','perc_IND_value','perc_total','perc_highest']"
   ]
  },
  {
   "cell_type": "code",
   "execution_count": 225,
   "metadata": {},
   "outputs": [],
   "source": [
    "scaler = StandardScaler()\n",
    "df_scaled = scaler.fit_transform(iw_merge[columns_for_clustering])"
   ]
  },
  {
   "cell_type": "code",
   "execution_count": 226,
   "metadata": {},
   "outputs": [
    {
     "name": "stderr",
     "output_type": "stream",
     "text": [
      "c:\\Users\\samtg\\AppData\\Local\\Programs\\Python\\Python311\\Lib\\site-packages\\sklearn\\cluster\\_kmeans.py:1412: FutureWarning: The default value of `n_init` will change from 10 to 'auto' in 1.4. Set the value of `n_init` explicitly to suppress the warning\n",
      "  super()._check_params_vs_input(X, default_n_init=10)\n",
      "c:\\Users\\samtg\\AppData\\Local\\Programs\\Python\\Python311\\Lib\\site-packages\\sklearn\\cluster\\_kmeans.py:1412: FutureWarning: The default value of `n_init` will change from 10 to 'auto' in 1.4. Set the value of `n_init` explicitly to suppress the warning\n",
      "  super()._check_params_vs_input(X, default_n_init=10)\n",
      "c:\\Users\\samtg\\AppData\\Local\\Programs\\Python\\Python311\\Lib\\site-packages\\sklearn\\cluster\\_kmeans.py:1412: FutureWarning: The default value of `n_init` will change from 10 to 'auto' in 1.4. Set the value of `n_init` explicitly to suppress the warning\n",
      "  super()._check_params_vs_input(X, default_n_init=10)\n",
      "c:\\Users\\samtg\\AppData\\Local\\Programs\\Python\\Python311\\Lib\\site-packages\\sklearn\\cluster\\_kmeans.py:1412: FutureWarning: The default value of `n_init` will change from 10 to 'auto' in 1.4. Set the value of `n_init` explicitly to suppress the warning\n",
      "  super()._check_params_vs_input(X, default_n_init=10)\n",
      "c:\\Users\\samtg\\AppData\\Local\\Programs\\Python\\Python311\\Lib\\site-packages\\sklearn\\cluster\\_kmeans.py:1412: FutureWarning: The default value of `n_init` will change from 10 to 'auto' in 1.4. Set the value of `n_init` explicitly to suppress the warning\n",
      "  super()._check_params_vs_input(X, default_n_init=10)\n",
      "c:\\Users\\samtg\\AppData\\Local\\Programs\\Python\\Python311\\Lib\\site-packages\\sklearn\\cluster\\_kmeans.py:1412: FutureWarning: The default value of `n_init` will change from 10 to 'auto' in 1.4. Set the value of `n_init` explicitly to suppress the warning\n",
      "  super()._check_params_vs_input(X, default_n_init=10)\n",
      "c:\\Users\\samtg\\AppData\\Local\\Programs\\Python\\Python311\\Lib\\site-packages\\sklearn\\cluster\\_kmeans.py:1412: FutureWarning: The default value of `n_init` will change from 10 to 'auto' in 1.4. Set the value of `n_init` explicitly to suppress the warning\n",
      "  super()._check_params_vs_input(X, default_n_init=10)\n",
      "c:\\Users\\samtg\\AppData\\Local\\Programs\\Python\\Python311\\Lib\\site-packages\\sklearn\\cluster\\_kmeans.py:1412: FutureWarning: The default value of `n_init` will change from 10 to 'auto' in 1.4. Set the value of `n_init` explicitly to suppress the warning\n",
      "  super()._check_params_vs_input(X, default_n_init=10)\n",
      "c:\\Users\\samtg\\AppData\\Local\\Programs\\Python\\Python311\\Lib\\site-packages\\sklearn\\cluster\\_kmeans.py:1412: FutureWarning: The default value of `n_init` will change from 10 to 'auto' in 1.4. Set the value of `n_init` explicitly to suppress the warning\n",
      "  super()._check_params_vs_input(X, default_n_init=10)\n"
     ]
    }
   ],
   "source": [
    "inertia = []\n",
    "K_range = range(1, 10)\n",
    "for k in K_range:\n",
    "    kmeans = KMeans(n_clusters=k, random_state=42)\n",
    "    kmeans.fit(df_scaled)\n",
    "    inertia.append(kmeans.inertia_)"
   ]
  },
  {
   "cell_type": "code",
   "execution_count": 227,
   "metadata": {},
   "outputs": [
    {
     "data": {
      "image/png": "[encoded data removed]",
      "text/plain": [
       "<Figure size 800x600 with 1 Axes>"
      ]
     },
     "metadata": {},
     "output_type": "display_data"
    }
   ],
   "source": [
    "plt.figure(figsize=(8, 6))\n",
    "plt.plot(K_range, inertia, 'bx-')\n",
    "plt.xlabel('Number of clusters (k)')\n",
    "plt.ylabel('Inertia')\n",
    "plt.title('Elbow Method For Optimal k')\n",
    "plt.show()"
   ]
  },
  {
   "cell_type": "code",
   "execution_count": 228,
   "metadata": {},
   "outputs": [
    {
     "name": "stderr",
     "output_type": "stream",
     "text": [
      "c:\\Users\\samtg\\AppData\\Local\\Programs\\Python\\Python311\\Lib\\site-packages\\sklearn\\cluster\\_kmeans.py:1412: FutureWarning: The default value of `n_init` will change from 10 to 'auto' in 1.4. Set the value of `n_init` explicitly to suppress the warning\n",
      "  super()._check_params_vs_input(X, default_n_init=10)\n"
     ]
    }
   ],
   "source": [
    "optimal_k = 5\n",
    "kmeans = KMeans(n_clusters=optimal_k, random_state=42)\n",
    "iw_merge['finance_cluster'] = kmeans.fit_predict(df_scaled)"
   ]
  },
  {
   "cell_type": "code",
   "execution_count": 229,
   "metadata": {},
   "outputs": [
    {
     "data": {
      "text/html": [
       "<div>\n",
       "<style scoped>\n",
       "    .dataframe tbody tr th:only-of-type {\n",
       "        vertical-align: middle;\n",
       "    }\n",
       "\n",
       "    .dataframe tbody tr th {\n",
       "        vertical-align: top;\n",
       "    }\n",
       "\n",
       "    .dataframe thead th {\n",
       "        text-align: right;\n",
       "    }\n",
       "</style>\n",
       "<table border=\"1\" class=\"dataframe\">\n",
       "  <thead>\n",
       "    <tr style=\"text-align: right;\">\n",
       "      <th></th>\n",
       "      <th>perc_IND_value</th>\n",
       "      <th>normalized_mem</th>\n",
       "      <th>finance_cluster</th>\n",
       "      <th>mean_amount</th>\n",
       "      <th>perc_total</th>\n",
       "      <th>home_district_percentage</th>\n",
       "      <th>oos_percentage</th>\n",
       "    </tr>\n",
       "  </thead>\n",
       "  <tbody>\n",
       "    <tr>\n",
       "      <th>35</th>\n",
       "      <td>91.860525</td>\n",
       "      <td>Rafael Salamanca</td>\n",
       "      <td>2</td>\n",
       "      <td>607.161125</td>\n",
       "      <td>97.674565</td>\n",
       "      <td>6.985770</td>\n",
       "      <td>40.491591</td>\n",
       "    </tr>\n",
       "    <tr>\n",
       "      <th>23</th>\n",
       "      <td>94.763636</td>\n",
       "      <td>Julie Won</td>\n",
       "      <td>4</td>\n",
       "      <td>101.735391</td>\n",
       "      <td>16.168912</td>\n",
       "      <td>19.143577</td>\n",
       "      <td>32.871537</td>\n",
       "    </tr>\n",
       "    <tr>\n",
       "      <th>32</th>\n",
       "      <td>86.882563</td>\n",
       "      <td>Nantasha Williams</td>\n",
       "      <td>4</td>\n",
       "      <td>81.509393</td>\n",
       "      <td>21.278774</td>\n",
       "      <td>18.997361</td>\n",
       "      <td>27.440633</td>\n",
       "    </tr>\n",
       "    <tr>\n",
       "      <th>44</th>\n",
       "      <td>91.794469</td>\n",
       "      <td>Tiffany Caban</td>\n",
       "      <td>4</td>\n",
       "      <td>45.088936</td>\n",
       "      <td>42.868978</td>\n",
       "      <td>17.101449</td>\n",
       "      <td>25.383023</td>\n",
       "    </tr>\n",
       "    <tr>\n",
       "      <th>36</th>\n",
       "      <td>90.745980</td>\n",
       "      <td>Rita C Joseph</td>\n",
       "      <td>4</td>\n",
       "      <td>95.112706</td>\n",
       "      <td>24.206036</td>\n",
       "      <td>22.331155</td>\n",
       "      <td>23.093682</td>\n",
       "    </tr>\n",
       "    <tr>\n",
       "      <th>34</th>\n",
       "      <td>87.428823</td>\n",
       "      <td>Pierina A Sanchez</td>\n",
       "      <td>4</td>\n",
       "      <td>64.956515</td>\n",
       "      <td>30.948199</td>\n",
       "      <td>14.241245</td>\n",
       "      <td>21.712062</td>\n",
       "    </tr>\n",
       "    <tr>\n",
       "      <th>8</th>\n",
       "      <td>83.912556</td>\n",
       "      <td>Chi Osse</td>\n",
       "      <td>4</td>\n",
       "      <td>47.850285</td>\n",
       "      <td>31.921326</td>\n",
       "      <td>11.046512</td>\n",
       "      <td>20.764120</td>\n",
       "    </tr>\n",
       "    <tr>\n",
       "      <th>2</th>\n",
       "      <td>71.531572</td>\n",
       "      <td>Althea V Stevens</td>\n",
       "      <td>0</td>\n",
       "      <td>62.539026</td>\n",
       "      <td>34.445552</td>\n",
       "      <td>10.252101</td>\n",
       "      <td>20.504202</td>\n",
       "    </tr>\n",
       "    <tr>\n",
       "      <th>42</th>\n",
       "      <td>83.488915</td>\n",
       "      <td>Shaun Abreu</td>\n",
       "      <td>1</td>\n",
       "      <td>120.939318</td>\n",
       "      <td>18.217516</td>\n",
       "      <td>35.179153</td>\n",
       "      <td>20.195440</td>\n",
       "    </tr>\n",
       "    <tr>\n",
       "      <th>43</th>\n",
       "      <td>90.608775</td>\n",
       "      <td>Shekar Krishnan</td>\n",
       "      <td>1</td>\n",
       "      <td>113.217042</td>\n",
       "      <td>32.347419</td>\n",
       "      <td>49.328449</td>\n",
       "      <td>19.536020</td>\n",
       "    </tr>\n",
       "    <tr>\n",
       "      <th>31</th>\n",
       "      <td>90.366108</td>\n",
       "      <td>Mercedes Narcisse</td>\n",
       "      <td>1</td>\n",
       "      <td>139.534557</td>\n",
       "      <td>31.010355</td>\n",
       "      <td>38.354577</td>\n",
       "      <td>19.466976</td>\n",
       "    </tr>\n",
       "    <tr>\n",
       "      <th>1</th>\n",
       "      <td>86.896592</td>\n",
       "      <td>Alexa Aviles</td>\n",
       "      <td>4</td>\n",
       "      <td>46.063290</td>\n",
       "      <td>34.628641</td>\n",
       "      <td>16.746988</td>\n",
       "      <td>18.614458</td>\n",
       "    </tr>\n",
       "    <tr>\n",
       "      <th>10</th>\n",
       "      <td>90.902344</td>\n",
       "      <td>Crystal Hudson</td>\n",
       "      <td>4</td>\n",
       "      <td>82.413769</td>\n",
       "      <td>45.489700</td>\n",
       "      <td>22.767553</td>\n",
       "      <td>16.632584</td>\n",
       "    </tr>\n",
       "    <tr>\n",
       "      <th>0</th>\n",
       "      <td>76.703696</td>\n",
       "      <td>Adrienne Adams</td>\n",
       "      <td>0</td>\n",
       "      <td>105.610210</td>\n",
       "      <td>61.530863</td>\n",
       "      <td>31.452750</td>\n",
       "      <td>16.078984</td>\n",
       "    </tr>\n",
       "    <tr>\n",
       "      <th>15</th>\n",
       "      <td>94.888761</td>\n",
       "      <td>Erik Bottcher</td>\n",
       "      <td>1</td>\n",
       "      <td>129.466610</td>\n",
       "      <td>46.214663</td>\n",
       "      <td>52.068966</td>\n",
       "      <td>15.948276</td>\n",
       "    </tr>\n",
       "    <tr>\n",
       "      <th>40</th>\n",
       "      <td>79.099349</td>\n",
       "      <td>Selvena Brooks-Powers</td>\n",
       "      <td>0</td>\n",
       "      <td>149.707775</td>\n",
       "      <td>89.453748</td>\n",
       "      <td>39.566396</td>\n",
       "      <td>15.718157</td>\n",
       "    </tr>\n",
       "    <tr>\n",
       "      <th>17</th>\n",
       "      <td>71.326193</td>\n",
       "      <td>Francisco P Moya</td>\n",
       "      <td>0</td>\n",
       "      <td>219.840194</td>\n",
       "      <td>64.537393</td>\n",
       "      <td>32.178218</td>\n",
       "      <td>15.346535</td>\n",
       "    </tr>\n",
       "    <tr>\n",
       "      <th>27</th>\n",
       "      <td>97.379450</td>\n",
       "      <td>Lincoln Restler</td>\n",
       "      <td>1</td>\n",
       "      <td>103.420000</td>\n",
       "      <td>24.213735</td>\n",
       "      <td>33.494559</td>\n",
       "      <td>15.235792</td>\n",
       "    </tr>\n",
       "    <tr>\n",
       "      <th>28</th>\n",
       "      <td>90.334295</td>\n",
       "      <td>Linda Lee</td>\n",
       "      <td>1</td>\n",
       "      <td>130.690840</td>\n",
       "      <td>27.223583</td>\n",
       "      <td>30.455259</td>\n",
       "      <td>15.227630</td>\n",
       "    </tr>\n",
       "    <tr>\n",
       "      <th>25</th>\n",
       "      <td>66.283043</td>\n",
       "      <td>Kevin C Riley</td>\n",
       "      <td>0</td>\n",
       "      <td>80.421911</td>\n",
       "      <td>66.542125</td>\n",
       "      <td>45.283019</td>\n",
       "      <td>15.094340</td>\n",
       "    </tr>\n",
       "    <tr>\n",
       "      <th>26</th>\n",
       "      <td>96.810987</td>\n",
       "      <td>Kristin R Jordan</td>\n",
       "      <td>4</td>\n",
       "      <td>50.511925</td>\n",
       "      <td>24.549519</td>\n",
       "      <td>0.000000</td>\n",
       "      <td>14.654688</td>\n",
       "    </tr>\n",
       "    <tr>\n",
       "      <th>38</th>\n",
       "      <td>87.197057</td>\n",
       "      <td>Sandra Ung</td>\n",
       "      <td>1</td>\n",
       "      <td>150.104329</td>\n",
       "      <td>25.473248</td>\n",
       "      <td>29.575597</td>\n",
       "      <td>14.456233</td>\n",
       "    </tr>\n",
       "    <tr>\n",
       "      <th>41</th>\n",
       "      <td>94.283030</td>\n",
       "      <td>Shahana Hanif</td>\n",
       "      <td>4</td>\n",
       "      <td>45.172652</td>\n",
       "      <td>22.430341</td>\n",
       "      <td>38.868708</td>\n",
       "      <td>13.907628</td>\n",
       "    </tr>\n",
       "    <tr>\n",
       "      <th>6</th>\n",
       "      <td>83.921562</td>\n",
       "      <td>Carmen De La Rosa</td>\n",
       "      <td>1</td>\n",
       "      <td>89.906212</td>\n",
       "      <td>28.991808</td>\n",
       "      <td>29.151292</td>\n",
       "      <td>13.530135</td>\n",
       "    </tr>\n",
       "    <tr>\n",
       "      <th>39</th>\n",
       "      <td>90.570088</td>\n",
       "      <td>Sandy Nurse</td>\n",
       "      <td>4</td>\n",
       "      <td>47.295808</td>\n",
       "      <td>34.636487</td>\n",
       "      <td>9.501916</td>\n",
       "      <td>13.256705</td>\n",
       "    </tr>\n",
       "    <tr>\n",
       "      <th>19</th>\n",
       "      <td>74.140756</td>\n",
       "      <td>James F Gennaro</td>\n",
       "      <td>0</td>\n",
       "      <td>162.683146</td>\n",
       "      <td>55.212121</td>\n",
       "      <td>52.064220</td>\n",
       "      <td>12.844037</td>\n",
       "    </tr>\n",
       "    <tr>\n",
       "      <th>22</th>\n",
       "      <td>90.852074</td>\n",
       "      <td>Julie Menin</td>\n",
       "      <td>1</td>\n",
       "      <td>158.000167</td>\n",
       "      <td>29.687549</td>\n",
       "      <td>37.756714</td>\n",
       "      <td>12.480253</td>\n",
       "    </tr>\n",
       "    <tr>\n",
       "      <th>29</th>\n",
       "      <td>87.280345</td>\n",
       "      <td>Lynn Schulman</td>\n",
       "      <td>1</td>\n",
       "      <td>120.465863</td>\n",
       "      <td>28.431805</td>\n",
       "      <td>20.393812</td>\n",
       "      <td>12.376934</td>\n",
       "    </tr>\n",
       "    <tr>\n",
       "      <th>18</th>\n",
       "      <td>90.178542</td>\n",
       "      <td>Gale Brewer</td>\n",
       "      <td>1</td>\n",
       "      <td>129.515006</td>\n",
       "      <td>39.708390</td>\n",
       "      <td>34.042553</td>\n",
       "      <td>11.389237</td>\n",
       "    </tr>\n",
       "    <tr>\n",
       "      <th>20</th>\n",
       "      <td>74.192488</td>\n",
       "      <td>Jennifer Gutierrez</td>\n",
       "      <td>0</td>\n",
       "      <td>62.139706</td>\n",
       "      <td>53.330040</td>\n",
       "      <td>20.764120</td>\n",
       "      <td>10.797342</td>\n",
       "    </tr>\n",
       "    <tr>\n",
       "      <th>45</th>\n",
       "      <td>99.002109</td>\n",
       "      <td>Vickie Paladino</td>\n",
       "      <td>1</td>\n",
       "      <td>74.324064</td>\n",
       "      <td>19.991112</td>\n",
       "      <td>52.462772</td>\n",
       "      <td>10.767468</td>\n",
       "    </tr>\n",
       "    <tr>\n",
       "      <th>3</th>\n",
       "      <td>84.117395</td>\n",
       "      <td>Amanda Farias</td>\n",
       "      <td>4</td>\n",
       "      <td>54.499255</td>\n",
       "      <td>30.875704</td>\n",
       "      <td>8.140611</td>\n",
       "      <td>10.360777</td>\n",
       "    </tr>\n",
       "    <tr>\n",
       "      <th>5</th>\n",
       "      <td>84.010679</td>\n",
       "      <td>Carlina Rivera</td>\n",
       "      <td>0</td>\n",
       "      <td>91.203311</td>\n",
       "      <td>89.645962</td>\n",
       "      <td>38.577406</td>\n",
       "      <td>10.041841</td>\n",
       "    </tr>\n",
       "    <tr>\n",
       "      <th>30</th>\n",
       "      <td>84.076119</td>\n",
       "      <td>Marjorie Velazquez</td>\n",
       "      <td>0</td>\n",
       "      <td>82.557777</td>\n",
       "      <td>75.494984</td>\n",
       "      <td>29.812981</td>\n",
       "      <td>9.460946</td>\n",
       "    </tr>\n",
       "    <tr>\n",
       "      <th>13</th>\n",
       "      <td>76.095533</td>\n",
       "      <td>Diana I Ayala</td>\n",
       "      <td>0</td>\n",
       "      <td>120.228117</td>\n",
       "      <td>79.169281</td>\n",
       "      <td>34.048257</td>\n",
       "      <td>9.383378</td>\n",
       "    </tr>\n",
       "    <tr>\n",
       "      <th>16</th>\n",
       "      <td>97.635654</td>\n",
       "      <td>Farah Louis</td>\n",
       "      <td>1</td>\n",
       "      <td>125.389676</td>\n",
       "      <td>77.065808</td>\n",
       "      <td>23.721881</td>\n",
       "      <td>8.384458</td>\n",
       "    </tr>\n",
       "    <tr>\n",
       "      <th>24</th>\n",
       "      <td>85.911066</td>\n",
       "      <td>Kamillah M Hanks</td>\n",
       "      <td>1</td>\n",
       "      <td>126.515182</td>\n",
       "      <td>26.639803</td>\n",
       "      <td>55.868545</td>\n",
       "      <td>8.137715</td>\n",
       "    </tr>\n",
       "    <tr>\n",
       "      <th>12</th>\n",
       "      <td>97.288441</td>\n",
       "      <td>David M Carr</td>\n",
       "      <td>1</td>\n",
       "      <td>160.126354</td>\n",
       "      <td>42.444877</td>\n",
       "      <td>39.846154</td>\n",
       "      <td>7.846154</td>\n",
       "    </tr>\n",
       "    <tr>\n",
       "      <th>7</th>\n",
       "      <td>78.486577</td>\n",
       "      <td>Charles Barron</td>\n",
       "      <td>3</td>\n",
       "      <td>82.495298</td>\n",
       "      <td>23.354198</td>\n",
       "      <td>38.291139</td>\n",
       "      <td>6.962025</td>\n",
       "    </tr>\n",
       "    <tr>\n",
       "      <th>14</th>\n",
       "      <td>73.808413</td>\n",
       "      <td>Eric Dinowitz</td>\n",
       "      <td>0</td>\n",
       "      <td>171.243860</td>\n",
       "      <td>30.784391</td>\n",
       "      <td>71.770335</td>\n",
       "      <td>6.220096</td>\n",
       "    </tr>\n",
       "    <tr>\n",
       "      <th>9</th>\n",
       "      <td>99.901828</td>\n",
       "      <td>Christopher Marte</td>\n",
       "      <td>3</td>\n",
       "      <td>95.104594</td>\n",
       "      <td>17.456570</td>\n",
       "      <td>53.457249</td>\n",
       "      <td>5.799257</td>\n",
       "    </tr>\n",
       "    <tr>\n",
       "      <th>33</th>\n",
       "      <td>78.897522</td>\n",
       "      <td>Oswald Feliz</td>\n",
       "      <td>3</td>\n",
       "      <td>114.910321</td>\n",
       "      <td>29.136531</td>\n",
       "      <td>41.883117</td>\n",
       "      <td>5.519481</td>\n",
       "    </tr>\n",
       "    <tr>\n",
       "      <th>37</th>\n",
       "      <td>81.914273</td>\n",
       "      <td>Robert F Holden</td>\n",
       "      <td>0</td>\n",
       "      <td>89.504494</td>\n",
       "      <td>60.410569</td>\n",
       "      <td>66.277372</td>\n",
       "      <td>5.401460</td>\n",
       "    </tr>\n",
       "    <tr>\n",
       "      <th>21</th>\n",
       "      <td>89.592899</td>\n",
       "      <td>Joann Ariola</td>\n",
       "      <td>3</td>\n",
       "      <td>118.342318</td>\n",
       "      <td>20.709875</td>\n",
       "      <td>60.810811</td>\n",
       "      <td>5.135135</td>\n",
       "    </tr>\n",
       "    <tr>\n",
       "      <th>11</th>\n",
       "      <td>91.011785</td>\n",
       "      <td>Darlene Mealy</td>\n",
       "      <td>3</td>\n",
       "      <td>68.315175</td>\n",
       "      <td>16.443945</td>\n",
       "      <td>38.730853</td>\n",
       "      <td>2.625821</td>\n",
       "    </tr>\n",
       "    <tr>\n",
       "      <th>4</th>\n",
       "      <td>85.947521</td>\n",
       "      <td>Ari Kagan</td>\n",
       "      <td>0</td>\n",
       "      <td>119.069257</td>\n",
       "      <td>50.508646</td>\n",
       "      <td>39.414802</td>\n",
       "      <td>2.237522</td>\n",
       "    </tr>\n",
       "  </tbody>\n",
       "</table>\n",
       "</div>"
      ],
      "text/plain": [
       "    perc_IND_value         normalized_mem  finance_cluster  mean_amount  \\\n",
       "35       91.860525       Rafael Salamanca                2   607.161125   \n",
       "23       94.763636              Julie Won                4   101.735391   \n",
       "32       86.882563      Nantasha Williams                4    81.509393   \n",
       "44       91.794469          Tiffany Caban                4    45.088936   \n",
       "36       90.745980          Rita C Joseph                4    95.112706   \n",
       "34       87.428823      Pierina A Sanchez                4    64.956515   \n",
       "8        83.912556               Chi Osse                4    47.850285   \n",
       "2        71.531572       Althea V Stevens                0    62.539026   \n",
       "42       83.488915            Shaun Abreu                1   120.939318   \n",
       "43       90.608775        Shekar Krishnan                1   113.217042   \n",
       "31       90.366108      Mercedes Narcisse                1   139.534557   \n",
       "1        86.896592           Alexa Aviles                4    46.063290   \n",
       "10       90.902344         Crystal Hudson                4    82.413769   \n",
       "0        76.703696         Adrienne Adams                0   105.610210   \n",
       "15       94.888761          Erik Bottcher                1   129.466610   \n",
       "40       79.099349  Selvena Brooks-Powers                0   149.707775   \n",
       "17       71.326193       Francisco P Moya                0   219.840194   \n",
       "27       97.379450        Lincoln Restler                1   103.420000   \n",
       "28       90.334295              Linda Lee                1   130.690840   \n",
       "25       66.283043          Kevin C Riley                0    80.421911   \n",
       "26       96.810987       Kristin R Jordan                4    50.511925   \n",
       "38       87.197057             Sandra Ung                1   150.104329   \n",
       "41       94.283030          Shahana Hanif                4    45.172652   \n",
       "6        83.921562      Carmen De La Rosa                1    89.906212   \n",
       "39       90.570088            Sandy Nurse                4    47.295808   \n",
       "19       74.140756        James F Gennaro                0   162.683146   \n",
       "22       90.852074            Julie Menin                1   158.000167   \n",
       "29       87.280345          Lynn Schulman                1   120.465863   \n",
       "18       90.178542            Gale Brewer                1   129.515006   \n",
       "20       74.192488     Jennifer Gutierrez                0    62.139706   \n",
       "45       99.002109        Vickie Paladino                1    74.324064   \n",
       "3        84.117395          Amanda Farias                4    54.499255   \n",
       "5        84.010679         Carlina Rivera                0    91.203311   \n",
       "30       84.076119     Marjorie Velazquez                0    82.557777   \n",
       "13       76.095533          Diana I Ayala                0   120.228117   \n",
       "16       97.635654            Farah Louis                1   125.389676   \n",
       "24       85.911066       Kamillah M Hanks                1   126.515182   \n",
       "12       97.288441           David M Carr                1   160.126354   \n",
       "7        78.486577         Charles Barron                3    82.495298   \n",
       "14       73.808413          Eric Dinowitz                0   171.243860   \n",
       "9        99.901828      Christopher Marte                3    95.104594   \n",
       "33       78.897522           Oswald Feliz                3   114.910321   \n",
       "37       81.914273        Robert F Holden                0    89.504494   \n",
       "21       89.592899           Joann Ariola                3   118.342318   \n",
       "11       91.011785          Darlene Mealy                3    68.315175   \n",
       "4        85.947521              Ari Kagan                0   119.069257   \n",
       "\n",
       "    perc_total  home_district_percentage  oos_percentage  \n",
       "35   97.674565                  6.985770       40.491591  \n",
       "23   16.168912                 19.143577       32.871537  \n",
       "32   21.278774                 18.997361       27.440633  \n",
       "44   42.868978                 17.101449       25.383023  \n",
       "36   24.206036                 22.331155       23.093682  \n",
       "34   30.948199                 14.241245       21.712062  \n",
       "8    31.921326                 11.046512       20.764120  \n",
       "2    34.445552                 10.252101       20.504202  \n",
       "42   18.217516                 35.179153       20.195440  \n",
       "43   32.347419                 49.328449       19.536020  \n",
       "31   31.010355                 38.354577       19.466976  \n",
       "1    34.628641                 16.746988       18.614458  \n",
       "10   45.489700                 22.767553       16.632584  \n",
       "0    61.530863                 31.452750       16.078984  \n",
       "15   46.214663                 52.068966       15.948276  \n",
       "40   89.453748                 39.566396       15.718157  \n",
       "17   64.537393                 32.178218       15.346535  \n",
       "27   24.213735                 33.494559       15.235792  \n",
       "28   27.223583                 30.455259       15.227630  \n",
       "25   66.542125                 45.283019       15.094340  \n",
       "26   24.549519                  0.000000       14.654688  \n",
       "38   25.473248                 29.575597       14.456233  \n",
       "41   22.430341                 38.868708       13.907628  \n",
       "6    28.991808                 29.151292       13.530135  \n",
       "39   34.636487                  9.501916       13.256705  \n",
       "19   55.212121                 52.064220       12.844037  \n",
       "22   29.687549                 37.756714       12.480253  \n",
       "29   28.431805                 20.393812       12.376934  \n",
       "18   39.708390                 34.042553       11.389237  \n",
       "20   53.330040                 20.764120       10.797342  \n",
       "45   19.991112                 52.462772       10.767468  \n",
       "3    30.875704                  8.140611       10.360777  \n",
       "5    89.645962                 38.577406       10.041841  \n",
       "30   75.494984                 29.812981        9.460946  \n",
       "13   79.169281                 34.048257        9.383378  \n",
       "16   77.065808                 23.721881        8.384458  \n",
       "24   26.639803                 55.868545        8.137715  \n",
       "12   42.444877                 39.846154        7.846154  \n",
       "7    23.354198                 38.291139        6.962025  \n",
       "14   30.784391                 71.770335        6.220096  \n",
       "9    17.456570                 53.457249        5.799257  \n",
       "33   29.136531                 41.883117        5.519481  \n",
       "37   60.410569                 66.277372        5.401460  \n",
       "21   20.709875                 60.810811        5.135135  \n",
       "11   16.443945                 38.730853        2.625821  \n",
       "4    50.508646                 39.414802        2.237522  "
      ]
     },
     "execution_count": 229,
     "metadata": {},
     "output_type": "execute_result"
    }
   ],
   "source": [
    "iw_merge[['perc_IND_value','normalized_mem','finance_cluster','mean_amount','perc_total','home_district_percentage', 'oos_percentage',]].sort_values('oos_percentage', ascending=False)"
   ]
  },
  {
   "cell_type": "code",
   "execution_count": 230,
   "metadata": {},
   "outputs": [],
   "source": [
    "iw_merge.to_csv('../data/winning_members_clusters.csv', index=False)"
   ]
  },
  {
   "cell_type": "code",
   "execution_count": 242,
   "metadata": {},
   "outputs": [
    {
     "data": {
      "text/plain": [
       "(46, 10)"
      ]
     },
     "execution_count": 242,
     "metadata": {},
     "output_type": "execute_result"
    }
   ],
   "source": [
    "iw_merge.shape"
   ]
  },
  {
   "cell_type": "code",
   "execution_count": 5,
   "metadata": {},
   "outputs": [],
   "source": [
    "iw_merge = pd.read_csv('../data/winning_members_clusters.csv')"
   ]
  },
  {
   "cell_type": "code",
   "execution_count": null,
   "metadata": {},
   "outputs": [],
   "source": [
    "iw_merge[['normalized_mem','cluster','total_amount','mean_amount','home_district_percentage','oos_percentage',]].sort_values('cluster')"
   ]
  },
  {
   "cell_type": "markdown",
   "metadata": {},
   "source": [
    "Cluster with groups"
   ]
  },
  {
   "cell_type": "code",
   "execution_count": 224,
   "metadata": {},
   "outputs": [],
   "source": [
    "groups = pd.read_csv('../data/group_export.csv')"
   ]
  },
  {
   "cell_type": "code",
   "execution_count": 225,
   "metadata": {},
   "outputs": [],
   "source": [
    "group_iw = pd.merge(iw_merge, groups, on='normalized_mem', how='left')"
   ]
  },
  {
   "cell_type": "code",
   "execution_count": 227,
   "metadata": {},
   "outputs": [],
   "source": [
    "# replace NaN with 0\n",
    "group_iw = group_iw.fillna(0)"
   ]
  },
  {
   "cell_type": "code",
   "execution_count": 228,
   "metadata": {},
   "outputs": [
    {
     "data": {
      "text/plain": [
       "Index(['normalized_mem', 'count', 'total_amount', 'mean_amount',\n",
       "       'home_district_percentage', 'oos_percentage', 'perc_IND_value',\n",
       "       'perc_total', 'perc_highest', 'cluster', 'dsa_wfp', 'stonewall',\n",
       "       'dc_37', 'twu', 'cops', 'sanitation', 'firemen', 'carpenters', 'psc',\n",
       "       'teachers', 'tile', 'acec', 'cwa', 'hotel', 'nysl', 'seiu',\n",
       "       'ironworkers', 'afl_cio'],\n",
       "      dtype='object')"
      ]
     },
     "execution_count": 228,
     "metadata": {},
     "output_type": "execute_result"
    }
   ],
   "source": [
    "group_iw.columns"
   ]
  },
  {
   "cell_type": "code",
   "execution_count": 235,
   "metadata": {},
   "outputs": [],
   "source": [
    "columns_for_clustering = ['total_amount', 'mean_amount', 'home_district_percentage', 'oos_percentage','perc_IND_value','perc_total',\n",
    "                          'dsa_wfp', \n",
    "       'dc_37', 'twu', 'cops', \n",
    "       'teachers', 'tile',  'hotel', 'nysl', 'seiu',\n",
    "        'afl_cio']"
   ]
  },
  {
   "cell_type": "code",
   "execution_count": 236,
   "metadata": {},
   "outputs": [],
   "source": [
    "scaler = StandardScaler()\n",
    "df_scaled = scaler.fit_transform(group_iw[columns_for_clustering])"
   ]
  },
  {
   "cell_type": "code",
   "execution_count": 237,
   "metadata": {},
   "outputs": [
    {
     "name": "stderr",
     "output_type": "stream",
     "text": [
      "c:\\Users\\samtg\\AppData\\Local\\Programs\\Python\\Python311\\Lib\\site-packages\\sklearn\\cluster\\_kmeans.py:1412: FutureWarning: The default value of `n_init` will change from 10 to 'auto' in 1.4. Set the value of `n_init` explicitly to suppress the warning\n",
      "  super()._check_params_vs_input(X, default_n_init=10)\n",
      "c:\\Users\\samtg\\AppData\\Local\\Programs\\Python\\Python311\\Lib\\site-packages\\sklearn\\cluster\\_kmeans.py:1412: FutureWarning: The default value of `n_init` will change from 10 to 'auto' in 1.4. Set the value of `n_init` explicitly to suppress the warning\n",
      "  super()._check_params_vs_input(X, default_n_init=10)\n",
      "c:\\Users\\samtg\\AppData\\Local\\Programs\\Python\\Python311\\Lib\\site-packages\\sklearn\\cluster\\_kmeans.py:1412: FutureWarning: The default value of `n_init` will change from 10 to 'auto' in 1.4. Set the value of `n_init` explicitly to suppress the warning\n",
      "  super()._check_params_vs_input(X, default_n_init=10)\n",
      "c:\\Users\\samtg\\AppData\\Local\\Programs\\Python\\Python311\\Lib\\site-packages\\sklearn\\cluster\\_kmeans.py:1412: FutureWarning: The default value of `n_init` will change from 10 to 'auto' in 1.4. Set the value of `n_init` explicitly to suppress the warning\n",
      "  super()._check_params_vs_input(X, default_n_init=10)\n",
      "c:\\Users\\samtg\\AppData\\Local\\Programs\\Python\\Python311\\Lib\\site-packages\\sklearn\\cluster\\_kmeans.py:1412: FutureWarning: The default value of `n_init` will change from 10 to 'auto' in 1.4. Set the value of `n_init` explicitly to suppress the warning\n",
      "  super()._check_params_vs_input(X, default_n_init=10)\n",
      "c:\\Users\\samtg\\AppData\\Local\\Programs\\Python\\Python311\\Lib\\site-packages\\sklearn\\cluster\\_kmeans.py:1412: FutureWarning: The default value of `n_init` will change from 10 to 'auto' in 1.4. Set the value of `n_init` explicitly to suppress the warning\n",
      "  super()._check_params_vs_input(X, default_n_init=10)\n",
      "c:\\Users\\samtg\\AppData\\Local\\Programs\\Python\\Python311\\Lib\\site-packages\\sklearn\\cluster\\_kmeans.py:1412: FutureWarning: The default value of `n_init` will change from 10 to 'auto' in 1.4. Set the value of `n_init` explicitly to suppress the warning\n",
      "  super()._check_params_vs_input(X, default_n_init=10)\n",
      "c:\\Users\\samtg\\AppData\\Local\\Programs\\Python\\Python311\\Lib\\site-packages\\sklearn\\cluster\\_kmeans.py:1412: FutureWarning: The default value of `n_init` will change from 10 to 'auto' in 1.4. Set the value of `n_init` explicitly to suppress the warning\n",
      "  super()._check_params_vs_input(X, default_n_init=10)\n",
      "c:\\Users\\samtg\\AppData\\Local\\Programs\\Python\\Python311\\Lib\\site-packages\\sklearn\\cluster\\_kmeans.py:1412: FutureWarning: The default value of `n_init` will change from 10 to 'auto' in 1.4. Set the value of `n_init` explicitly to suppress the warning\n",
      "  super()._check_params_vs_input(X, default_n_init=10)\n"
     ]
    }
   ],
   "source": [
    "inertia = []\n",
    "K_range = range(1, 10)\n",
    "for k in K_range:\n",
    "    kmeans = KMeans(n_clusters=k, random_state=42)\n",
    "    kmeans.fit(df_scaled)\n",
    "    inertia.append(kmeans.inertia_)"
   ]
  },
  {
   "cell_type": "code",
   "execution_count": 238,
   "metadata": {},
   "outputs": [
    {
     "data": {
      "image/png": "[encoded data removed]",
      "text/plain": [
       "<Figure size 800x600 with 1 Axes>"
      ]
     },
     "metadata": {},
     "output_type": "display_data"
    }
   ],
   "source": [
    "plt.figure(figsize=(8, 6))\n",
    "plt.plot(K_range, inertia, 'bx-')\n",
    "plt.xlabel('Number of clusters (k)')\n",
    "plt.ylabel('Inertia')\n",
    "plt.title('Elbow Method For Optimal k')\n",
    "plt.show()"
   ]
  },
  {
   "cell_type": "code",
   "execution_count": 239,
   "metadata": {},
   "outputs": [
    {
     "name": "stderr",
     "output_type": "stream",
     "text": [
      "c:\\Users\\samtg\\AppData\\Local\\Programs\\Python\\Python311\\Lib\\site-packages\\sklearn\\cluster\\_kmeans.py:1412: FutureWarning: The default value of `n_init` will change from 10 to 'auto' in 1.4. Set the value of `n_init` explicitly to suppress the warning\n",
      "  super()._check_params_vs_input(X, default_n_init=10)\n"
     ]
    }
   ],
   "source": [
    "optimal_k = 6\n",
    "kmeans = KMeans(n_clusters=optimal_k, random_state=42)\n",
    "group_iw['cluster'] = kmeans.fit_predict(df_scaled)"
   ]
  },
  {
   "cell_type": "code",
   "execution_count": null,
   "metadata": {},
   "outputs": [],
   "source": [
    "group_iw[['normalized_mem','cluster']].sort_values('cluster')"
   ]
  },
  {
   "cell_type": "markdown",
   "metadata": {},
   "source": [
    "All candidates "
   ]
  },
  {
   "cell_type": "code",
   "execution_count": 104,
   "metadata": {},
   "outputs": [],
   "source": [
    "columns_for_clustering = ['count', 'total_amount', 'mean_amount', 'home_district_percentage', 'oos_percentage','perc_IND_value']"
   ]
  },
  {
   "cell_type": "code",
   "execution_count": 174,
   "metadata": {},
   "outputs": [],
   "source": [
    "#drop nan\n",
    "iw_merge_all = iw_merge_all.dropna(subset=columns_for_clustering)"
   ]
  },
  {
   "cell_type": "code",
   "execution_count": 175,
   "metadata": {},
   "outputs": [],
   "source": [
    "scaler = StandardScaler()\n",
    "df_scaled = scaler.fit_transform(iw_merge_all[columns_for_clustering])"
   ]
  },
  {
   "cell_type": "code",
   "execution_count": 176,
   "metadata": {},
   "outputs": [
    {
     "name": "stderr",
     "output_type": "stream",
     "text": [
      "c:\\Users\\samtg\\AppData\\Local\\Programs\\Python\\Python311\\Lib\\site-packages\\sklearn\\cluster\\_kmeans.py:1412: FutureWarning: The default value of `n_init` will change from 10 to 'auto' in 1.4. Set the value of `n_init` explicitly to suppress the warning\n",
      "  super()._check_params_vs_input(X, default_n_init=10)\n",
      "c:\\Users\\samtg\\AppData\\Local\\Programs\\Python\\Python311\\Lib\\site-packages\\sklearn\\cluster\\_kmeans.py:1412: FutureWarning: The default value of `n_init` will change from 10 to 'auto' in 1.4. Set the value of `n_init` explicitly to suppress the warning\n",
      "  super()._check_params_vs_input(X, default_n_init=10)\n",
      "c:\\Users\\samtg\\AppData\\Local\\Programs\\Python\\Python311\\Lib\\site-packages\\sklearn\\cluster\\_kmeans.py:1412: FutureWarning: The default value of `n_init` will change from 10 to 'auto' in 1.4. Set the value of `n_init` explicitly to suppress the warning\n",
      "  super()._check_params_vs_input(X, default_n_init=10)\n",
      "c:\\Users\\samtg\\AppData\\Local\\Programs\\Python\\Python311\\Lib\\site-packages\\sklearn\\cluster\\_kmeans.py:1412: FutureWarning: The default value of `n_init` will change from 10 to 'auto' in 1.4. Set the value of `n_init` explicitly to suppress the warning\n",
      "  super()._check_params_vs_input(X, default_n_init=10)\n",
      "c:\\Users\\samtg\\AppData\\Local\\Programs\\Python\\Python311\\Lib\\site-packages\\sklearn\\cluster\\_kmeans.py:1412: FutureWarning: The default value of `n_init` will change from 10 to 'auto' in 1.4. Set the value of `n_init` explicitly to suppress the warning\n",
      "  super()._check_params_vs_input(X, default_n_init=10)\n",
      "c:\\Users\\samtg\\AppData\\Local\\Programs\\Python\\Python311\\Lib\\site-packages\\sklearn\\cluster\\_kmeans.py:1412: FutureWarning: The default value of `n_init` will change from 10 to 'auto' in 1.4. Set the value of `n_init` explicitly to suppress the warning\n",
      "  super()._check_params_vs_input(X, default_n_init=10)\n",
      "c:\\Users\\samtg\\AppData\\Local\\Programs\\Python\\Python311\\Lib\\site-packages\\sklearn\\cluster\\_kmeans.py:1412: FutureWarning: The default value of `n_init` will change from 10 to 'auto' in 1.4. Set the value of `n_init` explicitly to suppress the warning\n",
      "  super()._check_params_vs_input(X, default_n_init=10)\n",
      "c:\\Users\\samtg\\AppData\\Local\\Programs\\Python\\Python311\\Lib\\site-packages\\sklearn\\cluster\\_kmeans.py:1412: FutureWarning: The default value of `n_init` will change from 10 to 'auto' in 1.4. Set the value of `n_init` explicitly to suppress the warning\n",
      "  super()._check_params_vs_input(X, default_n_init=10)\n",
      "c:\\Users\\samtg\\AppData\\Local\\Programs\\Python\\Python311\\Lib\\site-packages\\sklearn\\cluster\\_kmeans.py:1412: FutureWarning: The default value of `n_init` will change from 10 to 'auto' in 1.4. Set the value of `n_init` explicitly to suppress the warning\n",
      "  super()._check_params_vs_input(X, default_n_init=10)\n"
     ]
    }
   ],
   "source": [
    "inertia = []\n",
    "K_range = range(1, 10)\n",
    "for k in K_range:\n",
    "    kmeans = KMeans(n_clusters=k, random_state=42)\n",
    "    kmeans.fit(df_scaled)\n",
    "    inertia.append(kmeans.inertia_)"
   ]
  },
  {
   "cell_type": "code",
   "execution_count": 177,
   "metadata": {},
   "outputs": [
    {
     "data": {
      "image/png": "[encoded data removed]",
      "text/plain": [
       "<Figure size 800x600 with 1 Axes>"
      ]
     },
     "metadata": {},
     "output_type": "display_data"
    }
   ],
   "source": [
    "plt.figure(figsize=(8, 6))\n",
    "plt.plot(K_range, inertia, 'bx-')\n",
    "plt.xlabel('Number of clusters (k)')\n",
    "plt.ylabel('Inertia')\n",
    "plt.title('Elbow Method For Optimal k')\n",
    "plt.show()"
   ]
  },
  {
   "cell_type": "code",
   "execution_count": 190,
   "metadata": {},
   "outputs": [
    {
     "name": "stderr",
     "output_type": "stream",
     "text": [
      "c:\\Users\\samtg\\AppData\\Local\\Programs\\Python\\Python311\\Lib\\site-packages\\sklearn\\cluster\\_kmeans.py:1412: FutureWarning: The default value of `n_init` will change from 10 to 'auto' in 1.4. Set the value of `n_init` explicitly to suppress the warning\n",
      "  super()._check_params_vs_input(X, default_n_init=10)\n",
      "C:\\Users\\samtg\\AppData\\Local\\Temp\\ipykernel_2308\\3038395397.py:3: SettingWithCopyWarning: \n",
      "A value is trying to be set on a copy of a slice from a DataFrame.\n",
      "Try using .loc[row_indexer,col_indexer] = value instead\n",
      "\n",
      "See the caveats in the documentation: https://pandas.pydata.org/pandas-docs/stable/user_guide/indexing.html#returning-a-view-versus-a-copy\n",
      "  iw_merge_all['cluster'] = kmeans.fit_predict(df_scaled)\n"
     ]
    }
   ],
   "source": [
    "optimal_k = 5\n",
    "kmeans = KMeans(n_clusters=optimal_k, random_state=42)\n",
    "iw_merge_all['cluster'] = kmeans.fit_predict(df_scaled)"
   ]
  },
  {
   "cell_type": "code",
   "execution_count": 191,
   "metadata": {},
   "outputs": [
    {
     "data": {
      "text/plain": [
       "cluster\n",
       "3    140\n",
       "4    129\n",
       "0     86\n",
       "2     30\n",
       "1      9\n",
       "Name: count, dtype: int64"
      ]
     },
     "execution_count": 191,
     "metadata": {},
     "output_type": "execute_result"
    }
   ],
   "source": [
    "iw_merge_all['cluster'].value_counts()"
   ]
  },
  {
   "cell_type": "code",
   "execution_count": 192,
   "metadata": {},
   "outputs": [
    {
     "data": {
      "text/html": [
       "<div>\n",
       "<style scoped>\n",
       "    .dataframe tbody tr th:only-of-type {\n",
       "        vertical-align: middle;\n",
       "    }\n",
       "\n",
       "    .dataframe tbody tr th {\n",
       "        vertical-align: top;\n",
       "    }\n",
       "\n",
       "    .dataframe thead th {\n",
       "        text-align: right;\n",
       "    }\n",
       "</style>\n",
       "<table border=\"1\" class=\"dataframe\">\n",
       "  <thead>\n",
       "    <tr style=\"text-align: right;\">\n",
       "      <th></th>\n",
       "      <th>matched_name</th>\n",
       "      <th>cluster</th>\n",
       "      <th>total_amount</th>\n",
       "      <th>mean_amount</th>\n",
       "      <th>home_district_percentage</th>\n",
       "      <th>oos_percentage</th>\n",
       "    </tr>\n",
       "  </thead>\n",
       "  <tbody>\n",
       "    <tr>\n",
       "      <th>164</th>\n",
       "      <td>Jaslin Kaur</td>\n",
       "      <td>0</td>\n",
       "      <td>48795.11</td>\n",
       "      <td>33.744889</td>\n",
       "      <td>10.434174</td>\n",
       "      <td>20.518207</td>\n",
       "    </tr>\n",
       "    <tr>\n",
       "      <th>51</th>\n",
       "      <td>Brandon West</td>\n",
       "      <td>0</td>\n",
       "      <td>76463.44</td>\n",
       "      <td>37.482078</td>\n",
       "      <td>24.962705</td>\n",
       "      <td>17.901542</td>\n",
       "    </tr>\n",
       "    <tr>\n",
       "      <th>263</th>\n",
       "      <td>Michael D Hollingsworth</td>\n",
       "      <td>0</td>\n",
       "      <td>83755.82</td>\n",
       "      <td>39.488835</td>\n",
       "      <td>19.033955</td>\n",
       "      <td>14.442850</td>\n",
       "    </tr>\n",
       "    <tr>\n",
       "      <th>305</th>\n",
       "      <td>Rene Hill</td>\n",
       "      <td>0</td>\n",
       "      <td>31564.00</td>\n",
       "      <td>41.531579</td>\n",
       "      <td>19.002695</td>\n",
       "      <td>5.525606</td>\n",
       "    </tr>\n",
       "    <tr>\n",
       "      <th>273</th>\n",
       "      <td>Mohammed N Mujumder</td>\n",
       "      <td>0</td>\n",
       "      <td>38387.00</td>\n",
       "      <td>41.815904</td>\n",
       "      <td>20.043573</td>\n",
       "      <td>3.267974</td>\n",
       "    </tr>\n",
       "    <tr>\n",
       "      <th>204</th>\n",
       "      <td>Kaled A Alamarie</td>\n",
       "      <td>0</td>\n",
       "      <td>38028.00</td>\n",
       "      <td>43.610092</td>\n",
       "      <td>21.288838</td>\n",
       "      <td>7.364787</td>\n",
       "    </tr>\n",
       "    <tr>\n",
       "      <th>365</th>\n",
       "      <td>Tiffany Caban</td>\n",
       "      <td>0</td>\n",
       "      <td>111910.74</td>\n",
       "      <td>45.088936</td>\n",
       "      <td>17.101449</td>\n",
       "      <td>25.383023</td>\n",
       "    </tr>\n",
       "    <tr>\n",
       "      <th>336</th>\n",
       "      <td>Shahana Hanif</td>\n",
       "      <td>0</td>\n",
       "      <td>88402.88</td>\n",
       "      <td>45.172652</td>\n",
       "      <td>38.868708</td>\n",
       "      <td>13.907628</td>\n",
       "    </tr>\n",
       "    <tr>\n",
       "      <th>15</th>\n",
       "      <td>Alexa Aviles</td>\n",
       "      <td>0</td>\n",
       "      <td>78261.53</td>\n",
       "      <td>46.063290</td>\n",
       "      <td>16.746988</td>\n",
       "      <td>18.614458</td>\n",
       "    </tr>\n",
       "    <tr>\n",
       "      <th>3</th>\n",
       "      <td>Adolfo Abreu</td>\n",
       "      <td>0</td>\n",
       "      <td>70624.56</td>\n",
       "      <td>46.280839</td>\n",
       "      <td>8.168643</td>\n",
       "      <td>19.104084</td>\n",
       "    </tr>\n",
       "    <tr>\n",
       "      <th>313</th>\n",
       "      <td>Rodrigo Camarena</td>\n",
       "      <td>0</td>\n",
       "      <td>37103.00</td>\n",
       "      <td>46.729219</td>\n",
       "      <td>19.176319</td>\n",
       "      <td>19.176319</td>\n",
       "    </tr>\n",
       "    <tr>\n",
       "      <th>323</th>\n",
       "      <td>Sandy Nurse</td>\n",
       "      <td>0</td>\n",
       "      <td>63187.20</td>\n",
       "      <td>47.295808</td>\n",
       "      <td>9.501916</td>\n",
       "      <td>13.256705</td>\n",
       "    </tr>\n",
       "    <tr>\n",
       "      <th>105</th>\n",
       "      <td>Edwin Raymond</td>\n",
       "      <td>0</td>\n",
       "      <td>98116.72</td>\n",
       "      <td>47.422291</td>\n",
       "      <td>7.170732</td>\n",
       "      <td>56.097561</td>\n",
       "    </tr>\n",
       "    <tr>\n",
       "      <th>11</th>\n",
       "      <td>Aleda F Gagarin</td>\n",
       "      <td>0</td>\n",
       "      <td>34204.70</td>\n",
       "      <td>47.771927</td>\n",
       "      <td>31.857143</td>\n",
       "      <td>13.142857</td>\n",
       "    </tr>\n",
       "    <tr>\n",
       "      <th>66</th>\n",
       "      <td>Chi Osse</td>\n",
       "      <td>0</td>\n",
       "      <td>58808.00</td>\n",
       "      <td>47.850285</td>\n",
       "      <td>11.046512</td>\n",
       "      <td>20.764120</td>\n",
       "    </tr>\n",
       "    <tr>\n",
       "      <th>121</th>\n",
       "      <td>Felicia Singh</td>\n",
       "      <td>0</td>\n",
       "      <td>75753.70</td>\n",
       "      <td>49.707152</td>\n",
       "      <td>16.744186</td>\n",
       "      <td>16.611296</td>\n",
       "    </tr>\n",
       "    <tr>\n",
       "      <th>254</th>\n",
       "      <td>Marti G Allen-Cummings</td>\n",
       "      <td>0</td>\n",
       "      <td>82397.90</td>\n",
       "      <td>49.757186</td>\n",
       "      <td>21.773700</td>\n",
       "      <td>23.669725</td>\n",
       "    </tr>\n",
       "    <tr>\n",
       "      <th>218</th>\n",
       "      <td>Kristin R Jordan</td>\n",
       "      <td>0</td>\n",
       "      <td>91073.00</td>\n",
       "      <td>50.511925</td>\n",
       "      <td>0.000000</td>\n",
       "      <td>14.654688</td>\n",
       "    </tr>\n",
       "    <tr>\n",
       "      <th>22</th>\n",
       "      <td>Amanda Farias</td>\n",
       "      <td>0</td>\n",
       "      <td>60003.68</td>\n",
       "      <td>54.499255</td>\n",
       "      <td>8.140611</td>\n",
       "      <td>10.360777</td>\n",
       "    </tr>\n",
       "    <tr>\n",
       "      <th>117</th>\n",
       "      <td>Evie Hantzopoulos</td>\n",
       "      <td>0</td>\n",
       "      <td>67094.38</td>\n",
       "      <td>57.150239</td>\n",
       "      <td>53.182214</td>\n",
       "      <td>12.467306</td>\n",
       "    </tr>\n",
       "    <tr>\n",
       "      <th>179</th>\n",
       "      <td>Johanna Garcia</td>\n",
       "      <td>0</td>\n",
       "      <td>71657.00</td>\n",
       "      <td>57.555823</td>\n",
       "      <td>53.184450</td>\n",
       "      <td>5.293631</td>\n",
       "    </tr>\n",
       "    <tr>\n",
       "      <th>162</th>\n",
       "      <td>James J Johnson</td>\n",
       "      <td>0</td>\n",
       "      <td>58854.00</td>\n",
       "      <td>59.750254</td>\n",
       "      <td>27.880658</td>\n",
       "      <td>27.674897</td>\n",
       "    </tr>\n",
       "    <tr>\n",
       "      <th>301</th>\n",
       "      <td>Rebecca Lamorte</td>\n",
       "      <td>0</td>\n",
       "      <td>42292.55</td>\n",
       "      <td>60.591046</td>\n",
       "      <td>29.608128</td>\n",
       "      <td>24.383164</td>\n",
       "    </tr>\n",
       "    <tr>\n",
       "      <th>171</th>\n",
       "      <td>Jennifer Gutierrez</td>\n",
       "      <td>0</td>\n",
       "      <td>38091.64</td>\n",
       "      <td>62.139706</td>\n",
       "      <td>20.764120</td>\n",
       "      <td>10.797342</td>\n",
       "    </tr>\n",
       "    <tr>\n",
       "      <th>275</th>\n",
       "      <td>Moumita Ahmed</td>\n",
       "      <td>0</td>\n",
       "      <td>38944.61</td>\n",
       "      <td>63.739133</td>\n",
       "      <td>26.973684</td>\n",
       "      <td>26.644737</td>\n",
       "    </tr>\n",
       "  </tbody>\n",
       "</table>\n",
       "</div>"
      ],
      "text/plain": [
       "                matched_name  cluster  total_amount  mean_amount  \\\n",
       "164              Jaslin Kaur        0      48795.11    33.744889   \n",
       "51              Brandon West        0      76463.44    37.482078   \n",
       "263  Michael D Hollingsworth        0      83755.82    39.488835   \n",
       "305                Rene Hill        0      31564.00    41.531579   \n",
       "273      Mohammed N Mujumder        0      38387.00    41.815904   \n",
       "204         Kaled A Alamarie        0      38028.00    43.610092   \n",
       "365            Tiffany Caban        0     111910.74    45.088936   \n",
       "336            Shahana Hanif        0      88402.88    45.172652   \n",
       "15              Alexa Aviles        0      78261.53    46.063290   \n",
       "3               Adolfo Abreu        0      70624.56    46.280839   \n",
       "313         Rodrigo Camarena        0      37103.00    46.729219   \n",
       "323              Sandy Nurse        0      63187.20    47.295808   \n",
       "105            Edwin Raymond        0      98116.72    47.422291   \n",
       "11           Aleda F Gagarin        0      34204.70    47.771927   \n",
       "66                  Chi Osse        0      58808.00    47.850285   \n",
       "121            Felicia Singh        0      75753.70    49.707152   \n",
       "254   Marti G Allen-Cummings        0      82397.90    49.757186   \n",
       "218         Kristin R Jordan        0      91073.00    50.511925   \n",
       "22             Amanda Farias        0      60003.68    54.499255   \n",
       "117        Evie Hantzopoulos        0      67094.38    57.150239   \n",
       "179           Johanna Garcia        0      71657.00    57.555823   \n",
       "162          James J Johnson        0      58854.00    59.750254   \n",
       "301          Rebecca Lamorte        0      42292.55    60.591046   \n",
       "171       Jennifer Gutierrez        0      38091.64    62.139706   \n",
       "275            Moumita Ahmed        0      38944.61    63.739133   \n",
       "\n",
       "     home_district_percentage  oos_percentage  \n",
       "164                 10.434174       20.518207  \n",
       "51                  24.962705       17.901542  \n",
       "263                 19.033955       14.442850  \n",
       "305                 19.002695        5.525606  \n",
       "273                 20.043573        3.267974  \n",
       "204                 21.288838        7.364787  \n",
       "365                 17.101449       25.383023  \n",
       "336                 38.868708       13.907628  \n",
       "15                  16.746988       18.614458  \n",
       "3                    8.168643       19.104084  \n",
       "313                 19.176319       19.176319  \n",
       "323                  9.501916       13.256705  \n",
       "105                  7.170732       56.097561  \n",
       "11                  31.857143       13.142857  \n",
       "66                  11.046512       20.764120  \n",
       "121                 16.744186       16.611296  \n",
       "254                 21.773700       23.669725  \n",
       "218                  0.000000       14.654688  \n",
       "22                   8.140611       10.360777  \n",
       "117                 53.182214       12.467306  \n",
       "179                 53.184450        5.293631  \n",
       "162                 27.880658       27.674897  \n",
       "301                 29.608128       24.383164  \n",
       "171                 20.764120       10.797342  \n",
       "275                 26.973684       26.644737  "
      ]
     },
     "execution_count": 192,
     "metadata": {},
     "output_type": "execute_result"
    }
   ],
   "source": [
    "iw_merge_all[iw_merge_all['cluster'] == 0][['matched_name','cluster','total_amount','mean_amount','home_district_percentage','oos_percentage']].sort_values('mean_amount').head(25)"
   ]
  },
  {
   "cell_type": "code",
   "execution_count": 193,
   "metadata": {},
   "outputs": [],
   "source": [
    "iw_merge_all.to_csv('../data/all_members_clusters.csv', index=False)"
   ]
  },
  {
   "cell_type": "markdown",
   "metadata": {},
   "source": [
    "Everything above this was done in the Fall of '24 for the original chapter. Below is looking at it again Feb '25 for edits. "
   ]
  },
  {
   "cell_type": "code",
   "execution_count": 245,
   "metadata": {},
   "outputs": [],
   "source": [
    "df = pd.read_csv('../data/winning_members_donations.csv')"
   ]
  },
  {
   "cell_type": "code",
   "execution_count": 246,
   "metadata": {},
   "outputs": [
    {
     "data": {
      "text/plain": [
       "(51, 7)"
      ]
     },
     "execution_count": 246,
     "metadata": {},
     "output_type": "execute_result"
    }
   ],
   "source": [
    "df.shape"
   ]
  },
  {
   "cell_type": "code",
   "execution_count": 247,
   "metadata": {},
   "outputs": [],
   "source": [
    "test_again = df.copy()"
   ]
  },
  {
   "cell_type": "code",
   "execution_count": 248,
   "metadata": {},
   "outputs": [
    {
     "data": {
      "text/plain": [
       "Index(['normalized_mem', 'count', 'total', 'mean', 'home_district_percentage',\n",
       "       'oos_percentage', 'perc_IND_value'],\n",
       "      dtype='object')"
      ]
     },
     "execution_count": 248,
     "metadata": {},
     "output_type": "execute_result"
    }
   ],
   "source": [
    "test_again.columns"
   ]
  },
  {
   "cell_type": "code",
   "execution_count": 249,
   "metadata": {},
   "outputs": [],
   "source": [
    "cluster_cols = ['mean', 'home_district_percentage', 'oos_percentage','perc_IND_value']"
   ]
  },
  {
   "cell_type": "code",
   "execution_count": 250,
   "metadata": {},
   "outputs": [],
   "source": [
    "scaler = StandardScaler()\n",
    "df_scaled = scaler.fit_transform(test_again[cluster_cols])"
   ]
  },
  {
   "cell_type": "code",
   "execution_count": 252,
   "metadata": {},
   "outputs": [
    {
     "name": "stderr",
     "output_type": "stream",
     "text": [
      "c:\\Users\\samtg\\AppData\\Local\\Programs\\Python\\Python311\\Lib\\site-packages\\sklearn\\cluster\\_kmeans.py:1412: FutureWarning: The default value of `n_init` will change from 10 to 'auto' in 1.4. Set the value of `n_init` explicitly to suppress the warning\n",
      "  super()._check_params_vs_input(X, default_n_init=10)\n"
     ]
    }
   ],
   "source": [
    "k = 5\n",
    "kmeans = KMeans(n_clusters=k, random_state=42)\n",
    "test_again['cluster'] = kmeans.fit_predict(df_scaled)"
   ]
  },
  {
   "cell_type": "code",
   "execution_count": 254,
   "metadata": {},
   "outputs": [
    {
     "data": {
      "text/html": [
       "<div>\n",
       "<style scoped>\n",
       "    .dataframe tbody tr th:only-of-type {\n",
       "        vertical-align: middle;\n",
       "    }\n",
       "\n",
       "    .dataframe tbody tr th {\n",
       "        vertical-align: top;\n",
       "    }\n",
       "\n",
       "    .dataframe thead th {\n",
       "        text-align: right;\n",
       "    }\n",
       "</style>\n",
       "<table border=\"1\" class=\"dataframe\">\n",
       "  <thead>\n",
       "    <tr style=\"text-align: right;\">\n",
       "      <th></th>\n",
       "      <th>normalized_mem</th>\n",
       "      <th>cluster</th>\n",
       "    </tr>\n",
       "  </thead>\n",
       "  <tbody>\n",
       "    <tr>\n",
       "      <th>1</th>\n",
       "      <td>Alexa Aviles</td>\n",
       "      <td>3</td>\n",
       "    </tr>\n",
       "    <tr>\n",
       "      <th>3</th>\n",
       "      <td>Amanda Farias</td>\n",
       "      <td>3</td>\n",
       "    </tr>\n",
       "    <tr>\n",
       "      <th>8</th>\n",
       "      <td>Chi Osse</td>\n",
       "      <td>3</td>\n",
       "    </tr>\n",
       "    <tr>\n",
       "      <th>10</th>\n",
       "      <td>Crystal Hudson</td>\n",
       "      <td>3</td>\n",
       "    </tr>\n",
       "    <tr>\n",
       "      <th>25</th>\n",
       "      <td>Julie Won</td>\n",
       "      <td>3</td>\n",
       "    </tr>\n",
       "    <tr>\n",
       "      <th>31</th>\n",
       "      <td>Kristin R Jordan</td>\n",
       "      <td>3</td>\n",
       "    </tr>\n",
       "    <tr>\n",
       "      <th>37</th>\n",
       "      <td>Nantasha Williams</td>\n",
       "      <td>3</td>\n",
       "    </tr>\n",
       "    <tr>\n",
       "      <th>39</th>\n",
       "      <td>Pierina A Sanchez</td>\n",
       "      <td>3</td>\n",
       "    </tr>\n",
       "    <tr>\n",
       "      <th>41</th>\n",
       "      <td>Rita C Joseph</td>\n",
       "      <td>3</td>\n",
       "    </tr>\n",
       "    <tr>\n",
       "      <th>44</th>\n",
       "      <td>Sandy Nurse</td>\n",
       "      <td>3</td>\n",
       "    </tr>\n",
       "    <tr>\n",
       "      <th>49</th>\n",
       "      <td>Tiffany Caban</td>\n",
       "      <td>3</td>\n",
       "    </tr>\n",
       "  </tbody>\n",
       "</table>\n",
       "</div>"
      ],
      "text/plain": [
       "       normalized_mem  cluster\n",
       "1        Alexa Aviles        3\n",
       "3       Amanda Farias        3\n",
       "8            Chi Osse        3\n",
       "10     Crystal Hudson        3\n",
       "25          Julie Won        3\n",
       "31   Kristin R Jordan        3\n",
       "37  Nantasha Williams        3\n",
       "39  Pierina A Sanchez        3\n",
       "41      Rita C Joseph        3\n",
       "44        Sandy Nurse        3\n",
       "49      Tiffany Caban        3"
      ]
     },
     "execution_count": 254,
     "metadata": {},
     "output_type": "execute_result"
    }
   ],
   "source": [
    "test_again[test_again['cluster'] == 3][['normalized_mem','cluster']]"
   ]
  },
  {
   "cell_type": "code",
   "execution_count": 255,
   "metadata": {},
   "outputs": [],
   "source": [
    "test_again.to_csv('../data/winning_members_clusters_with_gop.csv', index=False)"
   ]
  }
 ],
 "metadata": {
  "kernelspec": {
   "display_name": "Python 3",
   "language": "python",
   "name": "python3"
  },
  "language_info": {
   "codemirror_mode": {
    "name": "ipython",
    "version": 3
   },
   "file_extension": ".py",
   "mimetype": "text/x-python",
   "name": "python",
   "nbconvert_exporter": "python",
   "pygments_lexer": "ipython3",
   "version": "3.11.4"
  }
 },
 "nbformat": 4,
 "nbformat_minor": 2
}
